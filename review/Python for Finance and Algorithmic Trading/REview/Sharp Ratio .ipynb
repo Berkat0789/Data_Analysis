{
 "cells": [
  {
   "cell_type": "markdown",
   "metadata": {},
   "source": [
    "#### Sharp ratio -> Allows us to use math to quantify the relationship between the mean dail return  and the volitility of a portfolio. Calculates risk adjusted Return\n",
    "### William Sharp"
   ]
  },
  {
   "cell_type": "code",
   "execution_count": null,
   "metadata": {},
   "outputs": [],
   "source": [
    "## s = (\"Rp - RF\"/\"STDp\")"
   ]
  },
  {
   "cell_type": "markdown",
   "metadata": {},
   "source": [
    "### Formula -> \n",
    "###### Rp -> Expected portfolio Return\n",
    "##### Rf -> Portfolio Risk free Return -> investing, putting your money in a bank, usually 0, Treasury Bonds rate is usually used\n",
    "##### Sigma -> Standard deviation of the portfolio"
   ]
  },
  {
   "cell_type": "code",
   "execution_count": 1,
   "metadata": {},
   "outputs": [],
   "source": [
    "import pandas as pd\n",
    "import numpy as np\n",
    "from pandas_datareader import data as web"
   ]
  },
  {
   "cell_type": "code",
   "execution_count": 3,
   "metadata": {},
   "outputs": [],
   "source": [
    "tickers = [\"AAPL\", \"IBM\", \"CSCO\", \"AMZN\"]\n",
    "df_stocks = pd.DataFrame()\n",
    "for t in tickers:\n",
    "    df_stocks[t] = web.DataReader(t, data_source=\"yahoo\", start = \"2012-1-1\", end=\"2017-1-1\")[\"Adj Close\"]"
   ]
  },
  {
   "cell_type": "code",
   "execution_count": 5,
   "metadata": {},
   "outputs": [
    {
     "data": {
      "text/html": [
       "<div>\n",
       "<style scoped>\n",
       "    .dataframe tbody tr th:only-of-type {\n",
       "        vertical-align: middle;\n",
       "    }\n",
       "\n",
       "    .dataframe tbody tr th {\n",
       "        vertical-align: top;\n",
       "    }\n",
       "\n",
       "    .dataframe thead th {\n",
       "        text-align: right;\n",
       "    }\n",
       "</style>\n",
       "<table border=\"1\" class=\"dataframe\">\n",
       "  <thead>\n",
       "    <tr style=\"text-align: right;\">\n",
       "      <th></th>\n",
       "      <th>AAPL</th>\n",
       "      <th>IBM</th>\n",
       "      <th>CSCO</th>\n",
       "      <th>AMZN</th>\n",
       "    </tr>\n",
       "    <tr>\n",
       "      <th>Date</th>\n",
       "      <th></th>\n",
       "      <th></th>\n",
       "      <th></th>\n",
       "      <th></th>\n",
       "    </tr>\n",
       "  </thead>\n",
       "  <tbody>\n",
       "    <tr>\n",
       "      <td>2012-01-03</td>\n",
       "      <td>50.994907</td>\n",
       "      <td>139.934006</td>\n",
       "      <td>14.633397</td>\n",
       "      <td>179.029999</td>\n",
       "    </tr>\n",
       "    <tr>\n",
       "      <td>2012-01-04</td>\n",
       "      <td>51.268970</td>\n",
       "      <td>139.363144</td>\n",
       "      <td>14.916168</td>\n",
       "      <td>177.509995</td>\n",
       "    </tr>\n",
       "    <tr>\n",
       "      <td>2012-01-05</td>\n",
       "      <td>51.838169</td>\n",
       "      <td>138.702209</td>\n",
       "      <td>14.861184</td>\n",
       "      <td>177.610001</td>\n",
       "    </tr>\n",
       "    <tr>\n",
       "      <td>2012-01-06</td>\n",
       "      <td>52.380054</td>\n",
       "      <td>137.109772</td>\n",
       "      <td>14.806202</td>\n",
       "      <td>182.610001</td>\n",
       "    </tr>\n",
       "    <tr>\n",
       "      <td>2012-01-09</td>\n",
       "      <td>52.296970</td>\n",
       "      <td>136.396225</td>\n",
       "      <td>14.900459</td>\n",
       "      <td>178.559998</td>\n",
       "    </tr>\n",
       "    <tr>\n",
       "      <td>...</td>\n",
       "      <td>...</td>\n",
       "      <td>...</td>\n",
       "      <td>...</td>\n",
       "      <td>...</td>\n",
       "    </tr>\n",
       "    <tr>\n",
       "      <td>2016-12-23</td>\n",
       "      <td>111.043777</td>\n",
       "      <td>144.999130</td>\n",
       "      <td>27.617710</td>\n",
       "      <td>760.590027</td>\n",
       "    </tr>\n",
       "    <tr>\n",
       "      <td>2016-12-27</td>\n",
       "      <td>111.749001</td>\n",
       "      <td>145.373108</td>\n",
       "      <td>27.753399</td>\n",
       "      <td>771.400024</td>\n",
       "    </tr>\n",
       "    <tr>\n",
       "      <td>2016-12-28</td>\n",
       "      <td>111.272507</td>\n",
       "      <td>144.546829</td>\n",
       "      <td>27.518202</td>\n",
       "      <td>772.130005</td>\n",
       "    </tr>\n",
       "    <tr>\n",
       "      <td>2016-12-29</td>\n",
       "      <td>111.243919</td>\n",
       "      <td>144.903442</td>\n",
       "      <td>27.554386</td>\n",
       "      <td>765.150024</td>\n",
       "    </tr>\n",
       "    <tr>\n",
       "      <td>2016-12-30</td>\n",
       "      <td>110.376678</td>\n",
       "      <td>144.372894</td>\n",
       "      <td>27.337276</td>\n",
       "      <td>749.869995</td>\n",
       "    </tr>\n",
       "  </tbody>\n",
       "</table>\n",
       "<p>1258 rows × 4 columns</p>\n",
       "</div>"
      ],
      "text/plain": [
       "                  AAPL         IBM       CSCO        AMZN\n",
       "Date                                                     \n",
       "2012-01-03   50.994907  139.934006  14.633397  179.029999\n",
       "2012-01-04   51.268970  139.363144  14.916168  177.509995\n",
       "2012-01-05   51.838169  138.702209  14.861184  177.610001\n",
       "2012-01-06   52.380054  137.109772  14.806202  182.610001\n",
       "2012-01-09   52.296970  136.396225  14.900459  178.559998\n",
       "...                ...         ...        ...         ...\n",
       "2016-12-23  111.043777  144.999130  27.617710  760.590027\n",
       "2016-12-27  111.749001  145.373108  27.753399  771.400024\n",
       "2016-12-28  111.272507  144.546829  27.518202  772.130005\n",
       "2016-12-29  111.243919  144.903442  27.554386  765.150024\n",
       "2016-12-30  110.376678  144.372894  27.337276  749.869995\n",
       "\n",
       "[1258 rows x 4 columns]"
      ]
     },
     "execution_count": 5,
     "metadata": {},
     "output_type": "execute_result"
    }
   ],
   "source": [
    "df_stocks"
   ]
  },
  {
   "cell_type": "markdown",
   "metadata": {},
   "source": [
    "### cumulative Daily Return"
   ]
  },
  {
   "cell_type": "code",
   "execution_count": 6,
   "metadata": {},
   "outputs": [
    {
     "name": "stdout",
     "output_type": "stream",
     "text": [
      "AAPL\n",
      "IBM\n",
      "CSCO\n",
      "AMZN\n"
     ]
    }
   ],
   "source": [
    "for tic in df_stocks:\n",
    "    df[f\"{tic} Daily Return\"] = df[tic]/"
   ]
  },
  {
   "cell_type": "code",
   "execution_count": null,
   "metadata": {},
   "outputs": [],
   "source": []
  }
 ],
 "metadata": {
  "kernelspec": {
   "display_name": "Python 3",
   "language": "python",
   "name": "python3"
  },
  "language_info": {
   "codemirror_mode": {
    "name": "ipython",
    "version": 3
   },
   "file_extension": ".py",
   "mimetype": "text/x-python",
   "name": "python",
   "nbconvert_exporter": "python",
   "pygments_lexer": "ipython3",
   "version": "3.7.4"
  }
 },
 "nbformat": 4,
 "nbformat_minor": 2
}
