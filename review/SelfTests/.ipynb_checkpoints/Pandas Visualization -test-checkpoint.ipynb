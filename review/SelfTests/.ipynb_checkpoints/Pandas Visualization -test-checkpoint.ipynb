{
 "cells": [
  {
   "cell_type": "code",
   "execution_count": 4,
   "metadata": {},
   "outputs": [],
   "source": [
    "#import a csv and set the indec (index_col) to a column\n",
    "#get a histagram for al the data in the first column of a data set\n",
    "#import seaborn to edet the look of the plots\n",
    "#create a histogram of a df column 3 different ways (kind, plot,hist, df.hist)\n",
    "#go through all of the plot types on a df (area, bar, hist, line, scatter, box, hexbin)\n",
    "#lot using areaa and change the aplha value\n",
    "#plot using bar and (stacked  = Bool)\n",
    "#plot using line an (add x) index )  and y)\n",
    "#scatter plot -> use colot abd size (c = \"column\", cmap = \"coolwarm\")\n",
    "#scatter size map using (s= df[\"Columns\"] * 100 - to make clear . the difference)\n",
    "#create a box plot for the df\n",
    "#create a hexagolanl bin using pandas and numpy with 2 columns (increase the gridsize =)"
   ]
  },
  {
   "cell_type": "code",
   "execution_count": null,
   "metadata": {},
   "outputs": [],
   "source": []
  }
 ],
 "metadata": {
  "kernelspec": {
   "display_name": "Python 3",
   "language": "python",
   "name": "python3"
  },
  "language_info": {
   "codemirror_mode": {
    "name": "ipython",
    "version": 3
   },
   "file_extension": ".py",
   "mimetype": "text/x-python",
   "name": "python",
   "nbconvert_exporter": "python",
   "pygments_lexer": "ipython3",
   "version": "3.7.1"
  }
 },
 "nbformat": 4,
 "nbformat_minor": 2
}
