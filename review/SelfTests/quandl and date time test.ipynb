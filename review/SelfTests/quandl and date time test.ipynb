{
 "cells": [
  {
   "cell_type": "code",
   "execution_count": 1,
   "metadata": {},
   "outputs": [],
   "source": [
    "#import quandl \n",
    "#import with API (.ApiConfig.api_key = \"rgrgrgr\")\n",
    "#grab data from 2 data sets of any kind \n",
    "#get data for 3 stocks\n",
    "#create a df for a portfolio of srtocks and get theit adj colse into the data frame\n",
    "#import date time. date time library and create a date time object\n",
    "#call a few methods(date_time.month) off the new date time object\n",
    "#creatre a date time object\n",
    "#create a date time list/array\n",
    "#convert the list of date time objects in to and bject (pd.DateItmeincex(list))\n",
    "#create a df with the new date time index being the index of the frame\n",
    "#argman mesnas (the latest date at the index)\n",
    "#get the date cale at the max So latest (df.index.max())"
   ]
  },
  {
   "cell_type": "code",
   "execution_count": 2,
   "metadata": {},
   "outputs": [],
   "source": [
    "import quandl as qd \n",
    "import numpy as np\n",
    "import pandas as pd\n",
    "from pandas_datareader import data as web\n",
    "import matplotlib.pyplot as plt\n",
    "from datetime import datetime\n",
    "%matplotlib inline"
   ]
  },
  {
   "cell_type": "code",
   "execution_count": 3,
   "metadata": {},
   "outputs": [],
   "source": [
    "facebook = qd.get(\"WIKI/FB\")"
   ]
  },
  {
   "cell_type": "code",
   "execution_count": 4,
   "metadata": {},
   "outputs": [
    {
     "data": {
      "text/html": [
       "<div>\n",
       "<style scoped>\n",
       "    .dataframe tbody tr th:only-of-type {\n",
       "        vertical-align: middle;\n",
       "    }\n",
       "\n",
       "    .dataframe tbody tr th {\n",
       "        vertical-align: top;\n",
       "    }\n",
       "\n",
       "    .dataframe thead th {\n",
       "        text-align: right;\n",
       "    }\n",
       "</style>\n",
       "<table border=\"1\" class=\"dataframe\">\n",
       "  <thead>\n",
       "    <tr style=\"text-align: right;\">\n",
       "      <th></th>\n",
       "      <th>Open</th>\n",
       "      <th>High</th>\n",
       "      <th>Low</th>\n",
       "      <th>Close</th>\n",
       "      <th>Volume</th>\n",
       "      <th>Ex-Dividend</th>\n",
       "      <th>Split Ratio</th>\n",
       "      <th>Adj. Open</th>\n",
       "      <th>Adj. High</th>\n",
       "      <th>Adj. Low</th>\n",
       "      <th>Adj. Close</th>\n",
       "      <th>Adj. Volume</th>\n",
       "    </tr>\n",
       "    <tr>\n",
       "      <th>Date</th>\n",
       "      <th></th>\n",
       "      <th></th>\n",
       "      <th></th>\n",
       "      <th></th>\n",
       "      <th></th>\n",
       "      <th></th>\n",
       "      <th></th>\n",
       "      <th></th>\n",
       "      <th></th>\n",
       "      <th></th>\n",
       "      <th></th>\n",
       "      <th></th>\n",
       "    </tr>\n",
       "  </thead>\n",
       "  <tbody>\n",
       "    <tr>\n",
       "      <th>2012-08-16</th>\n",
       "      <td>20.440</td>\n",
       "      <td>20.48</td>\n",
       "      <td>19.69</td>\n",
       "      <td>19.870</td>\n",
       "      <td>157565300.0</td>\n",
       "      <td>0.0</td>\n",
       "      <td>1.0</td>\n",
       "      <td>20.440</td>\n",
       "      <td>20.48</td>\n",
       "      <td>19.69</td>\n",
       "      <td>19.870</td>\n",
       "      <td>157565300.0</td>\n",
       "    </tr>\n",
       "    <tr>\n",
       "      <th>2012-08-17</th>\n",
       "      <td>20.005</td>\n",
       "      <td>20.08</td>\n",
       "      <td>19.00</td>\n",
       "      <td>19.050</td>\n",
       "      <td>129293400.0</td>\n",
       "      <td>0.0</td>\n",
       "      <td>1.0</td>\n",
       "      <td>20.005</td>\n",
       "      <td>20.08</td>\n",
       "      <td>19.00</td>\n",
       "      <td>19.050</td>\n",
       "      <td>129293400.0</td>\n",
       "    </tr>\n",
       "    <tr>\n",
       "      <th>2012-08-21</th>\n",
       "      <td>19.580</td>\n",
       "      <td>19.98</td>\n",
       "      <td>19.09</td>\n",
       "      <td>19.159</td>\n",
       "      <td>70640600.0</td>\n",
       "      <td>0.0</td>\n",
       "      <td>1.0</td>\n",
       "      <td>19.580</td>\n",
       "      <td>19.98</td>\n",
       "      <td>19.09</td>\n",
       "      <td>19.159</td>\n",
       "      <td>70640600.0</td>\n",
       "    </tr>\n",
       "    <tr>\n",
       "      <th>2012-08-22</th>\n",
       "      <td>19.360</td>\n",
       "      <td>19.53</td>\n",
       "      <td>18.96</td>\n",
       "      <td>19.439</td>\n",
       "      <td>49892200.0</td>\n",
       "      <td>0.0</td>\n",
       "      <td>1.0</td>\n",
       "      <td>19.360</td>\n",
       "      <td>19.53</td>\n",
       "      <td>18.96</td>\n",
       "      <td>19.439</td>\n",
       "      <td>49892200.0</td>\n",
       "    </tr>\n",
       "    <tr>\n",
       "      <th>2012-08-23</th>\n",
       "      <td>19.500</td>\n",
       "      <td>19.73</td>\n",
       "      <td>19.36</td>\n",
       "      <td>19.440</td>\n",
       "      <td>32813700.0</td>\n",
       "      <td>0.0</td>\n",
       "      <td>1.0</td>\n",
       "      <td>19.500</td>\n",
       "      <td>19.73</td>\n",
       "      <td>19.36</td>\n",
       "      <td>19.440</td>\n",
       "      <td>32813700.0</td>\n",
       "    </tr>\n",
       "  </tbody>\n",
       "</table>\n",
       "</div>"
      ],
      "text/plain": [
       "              Open   High    Low   Close       Volume  Ex-Dividend  \\\n",
       "Date                                                                 \n",
       "2012-08-16  20.440  20.48  19.69  19.870  157565300.0          0.0   \n",
       "2012-08-17  20.005  20.08  19.00  19.050  129293400.0          0.0   \n",
       "2012-08-21  19.580  19.98  19.09  19.159   70640600.0          0.0   \n",
       "2012-08-22  19.360  19.53  18.96  19.439   49892200.0          0.0   \n",
       "2012-08-23  19.500  19.73  19.36  19.440   32813700.0          0.0   \n",
       "\n",
       "            Split Ratio  Adj. Open  Adj. High  Adj. Low  Adj. Close  \\\n",
       "Date                                                                  \n",
       "2012-08-16          1.0     20.440      20.48     19.69      19.870   \n",
       "2012-08-17          1.0     20.005      20.08     19.00      19.050   \n",
       "2012-08-21          1.0     19.580      19.98     19.09      19.159   \n",
       "2012-08-22          1.0     19.360      19.53     18.96      19.439   \n",
       "2012-08-23          1.0     19.500      19.73     19.36      19.440   \n",
       "\n",
       "            Adj. Volume  \n",
       "Date                     \n",
       "2012-08-16  157565300.0  \n",
       "2012-08-17  129293400.0  \n",
       "2012-08-21   70640600.0  \n",
       "2012-08-22   49892200.0  \n",
       "2012-08-23   32813700.0  "
      ]
     },
     "execution_count": 4,
     "metadata": {},
     "output_type": "execute_result"
    }
   ],
   "source": [
    "facebook[facebook[\"Adj. Close\"] < 20].head()"
   ]
  },
  {
   "cell_type": "code",
   "execution_count": 5,
   "metadata": {},
   "outputs": [],
   "source": [
    "#get the data set for the 3 stocks \n",
    "tickers = [\"MSFT\", \"F\", \"AMZN\", \"AAPL\"]\n",
    "df = pd.DataFrame()\n",
    "for t in tickers:\n",
    "    df[t] = web.DataReader(t, \"yahoo\")[\"Adj Close\"]"
   ]
  },
  {
   "cell_type": "code",
   "execution_count": 6,
   "metadata": {},
   "outputs": [],
   "source": [
    "df.dropna(inplace=True)"
   ]
  },
  {
   "cell_type": "code",
   "execution_count": 7,
   "metadata": {},
   "outputs": [
    {
     "data": {
      "text/html": [
       "<div>\n",
       "<style scoped>\n",
       "    .dataframe tbody tr th:only-of-type {\n",
       "        vertical-align: middle;\n",
       "    }\n",
       "\n",
       "    .dataframe tbody tr th {\n",
       "        vertical-align: top;\n",
       "    }\n",
       "\n",
       "    .dataframe thead th {\n",
       "        text-align: right;\n",
       "    }\n",
       "</style>\n",
       "<table border=\"1\" class=\"dataframe\">\n",
       "  <thead>\n",
       "    <tr style=\"text-align: right;\">\n",
       "      <th></th>\n",
       "      <th>MSFT</th>\n",
       "      <th>F</th>\n",
       "      <th>AMZN</th>\n",
       "      <th>AAPL</th>\n",
       "    </tr>\n",
       "    <tr>\n",
       "      <th>Date</th>\n",
       "      <th></th>\n",
       "      <th></th>\n",
       "      <th></th>\n",
       "      <th></th>\n",
       "    </tr>\n",
       "  </thead>\n",
       "  <tbody>\n",
       "    <tr>\n",
       "      <th>2010-01-04</th>\n",
       "      <td>24.360727</td>\n",
       "      <td>7.087058</td>\n",
       "      <td>133.899994</td>\n",
       "      <td>26.601469</td>\n",
       "    </tr>\n",
       "    <tr>\n",
       "      <th>2010-01-05</th>\n",
       "      <td>24.368599</td>\n",
       "      <td>7.555854</td>\n",
       "      <td>134.690002</td>\n",
       "      <td>26.647457</td>\n",
       "    </tr>\n",
       "    <tr>\n",
       "      <th>2010-01-06</th>\n",
       "      <td>24.219046</td>\n",
       "      <td>7.838508</td>\n",
       "      <td>132.250000</td>\n",
       "      <td>26.223597</td>\n",
       "    </tr>\n",
       "    <tr>\n",
       "      <th>2010-01-07</th>\n",
       "      <td>23.967175</td>\n",
       "      <td>8.038436</td>\n",
       "      <td>130.000000</td>\n",
       "      <td>26.175119</td>\n",
       "    </tr>\n",
       "    <tr>\n",
       "      <th>2010-01-08</th>\n",
       "      <td>24.132469</td>\n",
       "      <td>8.059114</td>\n",
       "      <td>133.520004</td>\n",
       "      <td>26.349140</td>\n",
       "    </tr>\n",
       "  </tbody>\n",
       "</table>\n",
       "</div>"
      ],
      "text/plain": [
       "                 MSFT         F        AMZN       AAPL\n",
       "Date                                                  \n",
       "2010-01-04  24.360727  7.087058  133.899994  26.601469\n",
       "2010-01-05  24.368599  7.555854  134.690002  26.647457\n",
       "2010-01-06  24.219046  7.838508  132.250000  26.223597\n",
       "2010-01-07  23.967175  8.038436  130.000000  26.175119\n",
       "2010-01-08  24.132469  8.059114  133.520004  26.349140"
      ]
     },
     "execution_count": 7,
     "metadata": {},
     "output_type": "execute_result"
    }
   ],
   "source": [
    "df.head()"
   ]
  },
  {
   "cell_type": "code",
   "execution_count": 8,
   "metadata": {},
   "outputs": [],
   "source": [
    "x = np.linspace(0,20,11)\n",
    "y = x ** 2 "
   ]
  },
  {
   "cell_type": "code",
   "execution_count": 13,
   "metadata": {},
   "outputs": [
    {
     "data": {
      "text/plain": [
       "[<matplotlib.lines.Line2D at 0x115774208>]"
      ]
     },
     "execution_count": 13,
     "metadata": {},
     "output_type": "execute_result"
    },
    {
     "data": {
      "image/png": "[encoded data removed]",
      "text/plain": [
       "<Figure size 1152x432 with 1 Axes>"
      ]
     },
     "metadata": {
      "needs_background": "light"
     },
     "output_type": "display_data"
    }
   ],
   "source": [
    "fig = plt.figure(figsize=(16,6))\n",
    "ax1 = fig.add_axes([0,0,1,1])\n",
    "ax1.plot(x,y)"
   ]
  },
  {
   "cell_type": "code",
   "execution_count": 43,
   "metadata": {},
   "outputs": [
    {
     "data": {
      "text/plain": [
       "[<matplotlib.lines.Line2D at 0x11948db38>]"
      ]
     },
     "execution_count": 43,
     "metadata": {},
     "output_type": "execute_result"
    },
    {
     "data": {
      "image/png": "[encoded data removed]",
      "text/plain": [
       "<Figure size 1152x432 with 4 Axes>"
      ]
     },
     "metadata": {
      "needs_background": "light"
     },
     "output_type": "display_data"
    }
   ],
   "source": [
    "figg, axes = plt.subplots(2,2, figsize = (16,6))\n",
    "axes[0,1].plot(df[\"F\"])\n",
    "axes[0,0].plot(df[\"AMZN\"])\n",
    "axes[1,0].plot(df[\"MSFT\"])\n",
    "axes[1,1].plot(df[\"AAPL\"])"
   ]
  },
  {
   "cell_type": "code",
   "execution_count": 31,
   "metadata": {},
   "outputs": [],
   "source": [
    "date_time = datetime(2004,1,20,12,10,3)"
   ]
  },
  {
   "cell_type": "code",
   "execution_count": 33,
   "metadata": {},
   "outputs": [
    {
     "data": {
      "text/plain": [
       "2004"
      ]
     },
     "execution_count": 33,
     "metadata": {},
     "output_type": "execute_result"
    }
   ],
   "source": [
    "date_time.year"
   ]
  },
  {
   "cell_type": "code",
   "execution_count": 45,
   "metadata": {},
   "outputs": [],
   "source": [
    "first_two = [datetime(2009,1,1), datetime(2010,1,1)]"
   ]
  },
  {
   "cell_type": "code",
   "execution_count": 57,
   "metadata": {},
   "outputs": [
    {
     "data": {
      "text/plain": [
       "list"
      ]
     },
     "execution_count": 57,
     "metadata": {},
     "output_type": "execute_result"
    }
   ],
   "source": [
    "first_two\n",
    "type(first_two)"
   ]
  },
  {
   "cell_type": "code",
   "execution_count": 56,
   "metadata": {},
   "outputs": [
    {
     "data": {
      "text/plain": [
       "pandas.core.indexes.datetimes.DatetimeIndex"
      ]
     },
     "execution_count": 56,
     "metadata": {},
     "output_type": "execute_result"
    }
   ],
   "source": [
    "datetimeIndex = pd.DatetimeIndex(first_two)\n",
    "type(datetimeIndex)"
   ]
  },
  {
   "cell_type": "code",
   "execution_count": 53,
   "metadata": {},
   "outputs": [],
   "source": [
    "dff = pd.DataFrame(np.random.randn(2,2), index=datetimeIndex, columns=[\"A\", \"B\"])"
   ]
  },
  {
   "cell_type": "code",
   "execution_count": 54,
   "metadata": {},
   "outputs": [],
   "source": [
    "dff.index.names = [\"Dates\"]"
   ]
  },
  {
   "cell_type": "code",
   "execution_count": 55,
   "metadata": {},
   "outputs": [
    {
     "data": {
      "text/html": [
       "<div>\n",
       "<style scoped>\n",
       "    .dataframe tbody tr th:only-of-type {\n",
       "        vertical-align: middle;\n",
       "    }\n",
       "\n",
       "    .dataframe tbody tr th {\n",
       "        vertical-align: top;\n",
       "    }\n",
       "\n",
       "    .dataframe thead th {\n",
       "        text-align: right;\n",
       "    }\n",
       "</style>\n",
       "<table border=\"1\" class=\"dataframe\">\n",
       "  <thead>\n",
       "    <tr style=\"text-align: right;\">\n",
       "      <th></th>\n",
       "      <th>A</th>\n",
       "      <th>B</th>\n",
       "    </tr>\n",
       "    <tr>\n",
       "      <th>Dates</th>\n",
       "      <th></th>\n",
       "      <th></th>\n",
       "    </tr>\n",
       "  </thead>\n",
       "  <tbody>\n",
       "    <tr>\n",
       "      <th>2009-01-01</th>\n",
       "      <td>-0.902975</td>\n",
       "      <td>0.211288</td>\n",
       "    </tr>\n",
       "    <tr>\n",
       "      <th>2010-01-01</th>\n",
       "      <td>-0.227728</td>\n",
       "      <td>-1.122091</td>\n",
       "    </tr>\n",
       "  </tbody>\n",
       "</table>\n",
       "</div>"
      ],
      "text/plain": [
       "                   A         B\n",
       "Dates                         \n",
       "2009-01-01 -0.902975  0.211288\n",
       "2010-01-01 -0.227728 -1.122091"
      ]
     },
     "execution_count": 55,
     "metadata": {},
     "output_type": "execute_result"
    }
   ],
   "source": [
    "dff"
   ]
  },
  {
   "cell_type": "code",
   "execution_count": 60,
   "metadata": {},
   "outputs": [
    {
     "data": {
      "text/plain": [
       "Timestamp('2010-01-01 00:00:00')"
      ]
     },
     "execution_count": 60,
     "metadata": {},
     "output_type": "execute_result"
    }
   ],
   "source": [
    "dff.index.max()"
   ]
  },
  {
   "cell_type": "code",
   "execution_count": null,
   "metadata": {},
   "outputs": [],
   "source": []
  }
 ],
 "metadata": {
  "kernelspec": {
   "display_name": "Python 3",
   "language": "python",
   "name": "python3"
  },
  "language_info": {
   "codemirror_mode": {
    "name": "ipython",
    "version": 3
   },
   "file_extension": ".py",
   "mimetype": "text/x-python",
   "name": "python",
   "nbconvert_exporter": "python",
   "pygments_lexer": "ipython3",
   "version": "3.7.1"
  }
 },
 "nbformat": 4,
 "nbformat_minor": 2
}
