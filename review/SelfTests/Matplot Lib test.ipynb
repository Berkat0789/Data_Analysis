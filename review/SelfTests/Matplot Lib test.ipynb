{
 "cells": [
  {
   "cell_type": "code",
   "execution_count": null,
   "metadata": {},
   "outputs": [],
   "source": [
    "# %matplotlib inline does what? \n",
    "#create two arrays od data using numpy linspace with y being 2x that of x\n",
    "#What does linspace do\n",
    "#Functional method of matploty lib vs Object oriented mathod \n",
    "#plot you arrays using the funational methos\n",
    "#plot your arrays using the object oriented mathod\n",
    "#add an xlabel and a y lanbel \n",
    "#add a title to the plot and chenge the color with a line break\n",
    "#create a multiplot on the same canvas\n",
    "#using matplot lib crate a plot using the add_axes funciton in an object oriented way to formulate a visual\n",
    "#set the x label and y label on the axis uaing the set_xlabel, set_ylabel, and title\n",
    "#using oop with matplot lib create two data sets with (2 axes) -Set title and axes for both, plot on both as wel;l\n",
    "#cerate subplots using the oop method (not 2 axes to be clear)\n",
    "#fix the layout do the the plots are not overlapping (tight_layout)"
   ]
  }
 ],
 "metadata": {
  "kernelspec": {
   "display_name": "Python 3",
   "language": "python",
   "name": "python3"
  },
  "language_info": {
   "codemirror_mode": {
    "name": "ipython",
    "version": 3
   },
   "file_extension": ".py",
   "mimetype": "text/x-python",
   "name": "python",
   "nbconvert_exporter": "python",
   "pygments_lexer": "ipython3",
   "version": "3.7.4"
  }
 },
 "nbformat": 4,
 "nbformat_minor": 2
}
