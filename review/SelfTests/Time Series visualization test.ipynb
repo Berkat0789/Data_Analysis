{
 "cells": [
  {
   "cell_type": "code",
   "execution_count": 1,
   "metadata": {},
   "outputs": [],
   "source": [
    "#using the mcdonalds csv file impoty the data\n",
    "#set index and parse dates (index_col, parse_dates = True)\n",
    "#set two different graphs with the data since size difference is so large \n",
    "#set the x limit and y limit using list, anand or tuples to sepraete areas of the data\n",
    "#if the x axix does not work (dates import) matplot linb dates\n",
    "#seoerate out the stock and the index for a specific range of data and plot considering dates (ax.plot_date(x(iindex),y))\n",
    "#auto format the time series on the xaxix fig.autofmt_xdate()\n",
    "#add grid lines to x and y (axes.axis.grid(True))\n",
    "#set major for x axix date and time seris(set_major_locator, set_major_formatter)\n",
    "#edited x label to show dauil, monthly , weekly ticks\n",
    "#matplotlib inline vs matplotib notebook "
   ]
  },
  {
   "cell_type": "code",
   "execution_count": null,
   "metadata": {},
   "outputs": [],
   "source": []
  }
 ],
 "metadata": {
  "kernelspec": {
   "display_name": "Python 3",
   "language": "python",
   "name": "python3"
  },
  "language_info": {
   "codemirror_mode": {
    "name": "ipython",
    "version": 3
   },
   "file_extension": ".py",
   "mimetype": "text/x-python",
   "name": "python",
   "nbconvert_exporter": "python",
   "pygments_lexer": "ipython3",
   "version": "3.7.1"
  }
 },
 "nbformat": 4,
 "nbformat_minor": 2
}
