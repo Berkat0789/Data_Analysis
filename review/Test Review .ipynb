{
 "cells": [
  {
   "cell_type": "code",
   "execution_count": 1,
   "metadata": {},
   "outputs": [],
   "source": [
    "#create a numpy array using the rand, arange, random, randnm ethods\n",
    "#reshape an array to have s 4,2 demension \n",
    "#create a data frame using numpy arrays create from the random method,m dictionaries, and a api call\n",
    "\n",
    "#what is unique and nUnique and how are they used \n",
    "#wgat is value_counts and how does it work\n",
    "#use group by and explain what it does\n",
    "#user sort _values and explain what it does\n",
    "#use the apply methos on a data frame using a function and a lambda expression \n",
    "#remove a column from athe data frame and remove a row as well\n",
    "#append the coliumn back to the data set with new data\n",
    "#ger the columns names for the data frame and . also the index \n",
    "#Finde the null values in data frame\n",
    "#use group by and explain what it does -> use some aggregate function on the data frame\n",
    "#use describe function on the df return on the group by method -> Columns (Transpose)vs rows"
   ]
  },
  {
   "cell_type": "code",
   "execution_count": 25,
   "metadata": {},
   "outputs": [],
   "source": [
    "import numpy as np\n",
    "import pandas as pd"
   ]
  },
  {
   "cell_type": "code",
   "execution_count": 8,
   "metadata": {},
   "outputs": [],
   "source": [
    "arry = np.random.rand(3,2)"
   ]
  },
  {
   "cell_type": "code",
   "execution_count": 9,
   "metadata": {},
   "outputs": [
    {
     "data": {
      "text/plain": [
       "array([[0.68978616, 0.41701533],\n",
       "       [0.53659832, 0.72506397],\n",
       "       [0.25569783, 0.97466018]])"
      ]
     },
     "execution_count": 9,
     "metadata": {},
     "output_type": "execute_result"
    }
   ],
   "source": [
    "arry"
   ]
  },
  {
   "cell_type": "code",
   "execution_count": 12,
   "metadata": {},
   "outputs": [],
   "source": [
    "ar = np.random.randn(3,3)"
   ]
  },
  {
   "cell_type": "code",
   "execution_count": 13,
   "metadata": {},
   "outputs": [
    {
     "data": {
      "text/plain": [
       "array([[-0.02002856, -0.48088428,  1.18600965],\n",
       "       [ 1.01102609,  1.6758589 ,  0.15414495],\n",
       "       [ 2.07764852, -1.08078076, -0.26513194]])"
      ]
     },
     "execution_count": 13,
     "metadata": {},
     "output_type": "execute_result"
    }
   ],
   "source": [
    "ar"
   ]
  },
  {
   "cell_type": "code",
   "execution_count": 18,
   "metadata": {},
   "outputs": [],
   "source": [
    "aar = np.random.randint(0,50,20)"
   ]
  },
  {
   "cell_type": "code",
   "execution_count": 19,
   "metadata": {},
   "outputs": [
    {
     "data": {
      "text/plain": [
       "array([37,  6, 17, 19,  3, 20, 22, 18, 34, 21, 23, 49,  7, 21,  1, 45, 18,\n",
       "        0, 49, 15])"
      ]
     },
     "execution_count": 19,
     "metadata": {},
     "output_type": "execute_result"
    }
   ],
   "source": [
    "aar"
   ]
  },
  {
   "cell_type": "code",
   "execution_count": 20,
   "metadata": {},
   "outputs": [],
   "source": [
    "lii = [3,4,5,6,7,8,8,6]"
   ]
  },
  {
   "cell_type": "code",
   "execution_count": 24,
   "metadata": {},
   "outputs": [
    {
     "data": {
      "text/plain": [
       "array([[3, 4],\n",
       "       [5, 6],\n",
       "       [7, 8],\n",
       "       [8, 6]])"
      ]
     },
     "execution_count": 24,
     "metadata": {},
     "output_type": "execute_result"
    }
   ],
   "source": [
    "arar  = np.array(lii)\n",
    "arar.reshape(4,2)"
   ]
  },
  {
   "cell_type": "code",
   "execution_count": 39,
   "metadata": {},
   "outputs": [],
   "source": [
    "data = np.random.rand(5,5)\n",
    "df = pd.DataFrame(data, index = [\"Berkat\", \"Jerry\", \"Femi\", \"Roe\", \"Jill\"], columns= [\"sss\", \"gg\", \"gggg\",\"dfdf\", \"dfdf\"])"
   ]
  },
  {
   "cell_type": "code",
   "execution_count": null,
   "metadata": {},
   "outputs": [],
   "source": []
  },
  {
   "cell_type": "code",
   "execution_count": 40,
   "metadata": {},
   "outputs": [
    {
     "data": {
      "text/html": [
       "<div>\n",
       "<style scoped>\n",
       "    .dataframe tbody tr th:only-of-type {\n",
       "        vertical-align: middle;\n",
       "    }\n",
       "\n",
       "    .dataframe tbody tr th {\n",
       "        vertical-align: top;\n",
       "    }\n",
       "\n",
       "    .dataframe thead th {\n",
       "        text-align: right;\n",
       "    }\n",
       "</style>\n",
       "<table border=\"1\" class=\"dataframe\">\n",
       "  <thead>\n",
       "    <tr style=\"text-align: right;\">\n",
       "      <th></th>\n",
       "      <th>sss</th>\n",
       "      <th>gg</th>\n",
       "      <th>gggg</th>\n",
       "      <th>dfdf</th>\n",
       "      <th>dfdf</th>\n",
       "    </tr>\n",
       "  </thead>\n",
       "  <tbody>\n",
       "    <tr>\n",
       "      <th>Berkat</th>\n",
       "      <td>0.815020</td>\n",
       "      <td>0.241775</td>\n",
       "      <td>0.328302</td>\n",
       "      <td>0.565392</td>\n",
       "      <td>0.846920</td>\n",
       "    </tr>\n",
       "    <tr>\n",
       "      <th>Jerry</th>\n",
       "      <td>0.343573</td>\n",
       "      <td>0.419254</td>\n",
       "      <td>0.857582</td>\n",
       "      <td>0.938891</td>\n",
       "      <td>0.320602</td>\n",
       "    </tr>\n",
       "    <tr>\n",
       "      <th>Femi</th>\n",
       "      <td>0.885156</td>\n",
       "      <td>0.006423</td>\n",
       "      <td>0.313279</td>\n",
       "      <td>0.229624</td>\n",
       "      <td>0.902523</td>\n",
       "    </tr>\n",
       "    <tr>\n",
       "      <th>Roe</th>\n",
       "      <td>0.345886</td>\n",
       "      <td>0.372439</td>\n",
       "      <td>0.198305</td>\n",
       "      <td>0.877835</td>\n",
       "      <td>0.785559</td>\n",
       "    </tr>\n",
       "    <tr>\n",
       "      <th>Jill</th>\n",
       "      <td>0.257079</td>\n",
       "      <td>0.977209</td>\n",
       "      <td>0.028385</td>\n",
       "      <td>0.181726</td>\n",
       "      <td>0.093941</td>\n",
       "    </tr>\n",
       "  </tbody>\n",
       "</table>\n",
       "</div>"
      ],
      "text/plain": [
       "             sss        gg      gggg      dfdf      dfdf\n",
       "Berkat  0.815020  0.241775  0.328302  0.565392  0.846920\n",
       "Jerry   0.343573  0.419254  0.857582  0.938891  0.320602\n",
       "Femi    0.885156  0.006423  0.313279  0.229624  0.902523\n",
       "Roe     0.345886  0.372439  0.198305  0.877835  0.785559\n",
       "Jill    0.257079  0.977209  0.028385  0.181726  0.093941"
      ]
     },
     "execution_count": 40,
     "metadata": {},
     "output_type": "execute_result"
    }
   ],
   "source": [
    "df"
   ]
  },
  {
   "cell_type": "code",
   "execution_count": 43,
   "metadata": {},
   "outputs": [],
   "source": [
    "dat = {\"English\":[87,67,55,89,91], \"Math\": [77,88,87,99,76]}\n",
    "dff = pd.DataFrame(dat, index = [\"Berkat\", \"Jerry\", \"Femi\", \"Roe\", \"Jill\"] )"
   ]
  },
  {
   "cell_type": "code",
   "execution_count": 44,
   "metadata": {},
   "outputs": [
    {
     "data": {
      "text/html": [
       "<div>\n",
       "<style scoped>\n",
       "    .dataframe tbody tr th:only-of-type {\n",
       "        vertical-align: middle;\n",
       "    }\n",
       "\n",
       "    .dataframe tbody tr th {\n",
       "        vertical-align: top;\n",
       "    }\n",
       "\n",
       "    .dataframe thead th {\n",
       "        text-align: right;\n",
       "    }\n",
       "</style>\n",
       "<table border=\"1\" class=\"dataframe\">\n",
       "  <thead>\n",
       "    <tr style=\"text-align: right;\">\n",
       "      <th></th>\n",
       "      <th>English</th>\n",
       "      <th>Math</th>\n",
       "    </tr>\n",
       "  </thead>\n",
       "  <tbody>\n",
       "    <tr>\n",
       "      <th>Berkat</th>\n",
       "      <td>87</td>\n",
       "      <td>77</td>\n",
       "    </tr>\n",
       "    <tr>\n",
       "      <th>Jerry</th>\n",
       "      <td>67</td>\n",
       "      <td>88</td>\n",
       "    </tr>\n",
       "    <tr>\n",
       "      <th>Femi</th>\n",
       "      <td>55</td>\n",
       "      <td>87</td>\n",
       "    </tr>\n",
       "    <tr>\n",
       "      <th>Roe</th>\n",
       "      <td>89</td>\n",
       "      <td>99</td>\n",
       "    </tr>\n",
       "    <tr>\n",
       "      <th>Jill</th>\n",
       "      <td>91</td>\n",
       "      <td>76</td>\n",
       "    </tr>\n",
       "  </tbody>\n",
       "</table>\n",
       "</div>"
      ],
      "text/plain": [
       "        English  Math\n",
       "Berkat       87    77\n",
       "Jerry        67    88\n",
       "Femi         55    87\n",
       "Roe          89    99\n",
       "Jill         91    76"
      ]
     },
     "execution_count": 44,
     "metadata": {},
     "output_type": "execute_result"
    }
   ],
   "source": [
    "dff"
   ]
  },
  {
   "cell_type": "code",
   "execution_count": 45,
   "metadata": {},
   "outputs": [
    {
     "data": {
      "text/plain": [
       "Berkat    77\n",
       "Jerry     88\n",
       "Femi      87\n",
       "Roe       99\n",
       "Jill      76\n",
       "Name: Math, dtype: int64"
      ]
     },
     "execution_count": 45,
     "metadata": {},
     "output_type": "execute_result"
    }
   ],
   "source": [
    "dff[\"Math\"]"
   ]
  },
  {
   "cell_type": "code",
   "execution_count": 46,
   "metadata": {},
   "outputs": [
    {
     "data": {
      "text/html": [
       "<div>\n",
       "<style scoped>\n",
       "    .dataframe tbody tr th:only-of-type {\n",
       "        vertical-align: middle;\n",
       "    }\n",
       "\n",
       "    .dataframe tbody tr th {\n",
       "        vertical-align: top;\n",
       "    }\n",
       "\n",
       "    .dataframe thead th {\n",
       "        text-align: right;\n",
       "    }\n",
       "</style>\n",
       "<table border=\"1\" class=\"dataframe\">\n",
       "  <thead>\n",
       "    <tr style=\"text-align: right;\">\n",
       "      <th></th>\n",
       "      <th>English</th>\n",
       "      <th>Math</th>\n",
       "    </tr>\n",
       "  </thead>\n",
       "  <tbody>\n",
       "    <tr>\n",
       "      <th>Jerry</th>\n",
       "      <td>67</td>\n",
       "      <td>88</td>\n",
       "    </tr>\n",
       "    <tr>\n",
       "      <th>Femi</th>\n",
       "      <td>55</td>\n",
       "      <td>87</td>\n",
       "    </tr>\n",
       "    <tr>\n",
       "      <th>Roe</th>\n",
       "      <td>89</td>\n",
       "      <td>99</td>\n",
       "    </tr>\n",
       "  </tbody>\n",
       "</table>\n",
       "</div>"
      ],
      "text/plain": [
       "       English  Math\n",
       "Jerry       67    88\n",
       "Femi        55    87\n",
       "Roe         89    99"
      ]
     },
     "execution_count": 46,
     "metadata": {},
     "output_type": "execute_result"
    }
   ],
   "source": [
    "dff[dff[\"Math\"] > 80]"
   ]
  },
  {
   "cell_type": "code",
   "execution_count": null,
   "metadata": {},
   "outputs": [],
   "source": []
  }
 ],
 "metadata": {
  "kernelspec": {
   "display_name": "Python 3",
   "language": "python",
   "name": "python3"
  },
  "language_info": {
   "codemirror_mode": {
    "name": "ipython",
    "version": 3
   },
   "file_extension": ".py",
   "mimetype": "text/x-python",
   "name": "python",
   "nbconvert_exporter": "python",
   "pygments_lexer": "ipython3",
   "version": "3.7.1"
  }
 },
 "nbformat": 4,
 "nbformat_minor": 2
}
