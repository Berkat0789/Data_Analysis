{
 "cells": [
  {
   "cell_type": "markdown",
   "metadata": {},
   "source": [
    "## Control folow based on conditons"
   ]
  },
  {
   "cell_type": "code",
   "execution_count": null,
   "metadata": {},
   "outputs": [],
   "source": [
    "## for loops \n",
    "## While loops\n"
   ]
  },
  {
   "cell_type": "code",
   "execution_count": 3,
   "metadata": {},
   "outputs": [
    {
     "name": "stdout",
     "output_type": "stream",
     "text": [
      "Ok Ok\n"
     ]
    }
   ],
   "source": [
    "x = 11\n",
    "if x < 10:\n",
    "    print(\"X is less then 10\")\n",
    "else:\n",
    "    print(\"Ok Ok\")"
   ]
  },
  {
   "cell_type": "code",
   "execution_count": 4,
   "metadata": {},
   "outputs": [
    {
     "name": "stdout",
     "output_type": "stream",
     "text": [
      "Y is low \n"
     ]
    }
   ],
   "source": [
    "y = 12\n",
    "if y < 20:\n",
    "    print(\"Y is low \")\n",
    "elif y%2 == 0:\n",
    "    print(\"y is even\")\n",
    "else:\n",
    "    print(\"Not for nothing this is weird\")"
   ]
  },
  {
   "cell_type": "markdown",
   "metadata": {},
   "source": [
    "## iterable -> you can do sometinhg to every item in the object - list,string,dic etc"
   ]
  },
  {
   "cell_type": "code",
   "execution_count": 6,
   "metadata": {},
   "outputs": [
    {
     "name": "stdout",
     "output_type": "stream",
     "text": [
      "This is b\n"
     ]
    }
   ],
   "source": [
    "name = \"Berkat\"\n",
    "for x in name:\n",
    "    if x.lower() == \"b\":\n",
    "        print(\"This is b\")"
   ]
  },
  {
   "cell_type": "code",
   "execution_count": 8,
   "metadata": {},
   "outputs": [
    {
     "name": "stdout",
     "output_type": "stream",
     "text": [
      "1\n",
      "2\n",
      "3\n",
      "4\n",
      "5\n",
      "6\n",
      "7\n",
      "8\n",
      "9\n"
     ]
    }
   ],
   "source": [
    "my_list = [1,2,3,4,5,6,7,8,9]\n",
    "for num in my_list:\n",
    "    print(num)"
   ]
  },
  {
   "cell_type": "code",
   "execution_count": 11,
   "metadata": {},
   "outputs": [
    {
     "name": "stdout",
     "output_type": "stream",
     "text": [
      "Odd numbers1\n",
      "2\n",
      "Odd numbers3\n",
      "4\n",
      "Odd numbers5\n",
      "6\n",
      "Odd numbers7\n",
      "8\n",
      "Odd numbers9\n"
     ]
    }
   ],
   "source": [
    "# print for every even item \n",
    "for  x in my_list: \n",
    "    if x % 2 == 0:\n",
    "        print(x)\n",
    "    else:\n",
    "        print(f\"Odd numbers{x}\")"
   ]
  },
  {
   "cell_type": "code",
   "execution_count": 12,
   "metadata": {},
   "outputs": [
    {
     "name": "stdout",
     "output_type": "stream",
     "text": [
      "45\n"
     ]
    }
   ],
   "source": [
    "# tget the num of veery value in that list\n",
    "list_sum = 0\n",
    "for x in my_list:\n",
    "    list_sum = list_sum + x\n",
    "    \n",
    "print(list_sum)\n",
    "    "
   ]
  },
  {
   "cell_type": "markdown",
   "metadata": {},
   "source": [
    "## for loops with strings"
   ]
  },
  {
   "cell_type": "code",
   "execution_count": 13,
   "metadata": {},
   "outputs": [
    {
     "name": "stdout",
     "output_type": "stream",
     "text": [
      "H\n",
      "e\n",
      "l\n",
      "l\n",
      "o\n",
      " \n",
      "w\n",
      "o\n",
      "r\n",
      "l\n",
      "d\n"
     ]
    }
   ],
   "source": [
    "my_string = \"Hello world\"\n",
    "for l in my_string:\n",
    "    print(l)"
   ]
  },
  {
   "cell_type": "code",
   "execution_count": 14,
   "metadata": {},
   "outputs": [
    {
     "name": "stdout",
     "output_type": "stream",
     "text": [
      "no var\n",
      "no var\n",
      "no var\n",
      "no var\n",
      "no var\n",
      "no var\n",
      "no var\n",
      "no var\n",
      "no var\n",
      "no var\n",
      "no var\n"
     ]
    }
   ],
   "source": [
    "# no vsr in a for loop :\n",
    "for _ in my_string:\n",
    "    print(\"no var\")"
   ]
  },
  {
   "cell_type": "code",
   "execution_count": 17,
   "metadata": {},
   "outputs": [
    {
     "name": "stdout",
     "output_type": "stream",
     "text": [
      "1\n",
      "3\n",
      "5\n"
     ]
    }
   ],
   "source": [
    "# tuple pairs - Tuple unpacking\n",
    "ll = [(1,2), (3,4),(5,6)]\n",
    "for x, y in ll:\n",
    "    print(x)"
   ]
  },
  {
   "cell_type": "code",
   "execution_count": 18,
   "metadata": {},
   "outputs": [
    {
     "name": "stdout",
     "output_type": "stream",
     "text": [
      "1\n",
      "4\n",
      "7\n"
     ]
    }
   ],
   "source": [
    "#tuple unpacking with 3 items \n",
    "lull = [(1,2,3), (4,5,6), (7,8,9)]\n",
    "for x,y,z in lull:\n",
    "    print(x)"
   ]
  },
  {
   "cell_type": "code",
   "execution_count": 22,
   "metadata": {},
   "outputs": [
    {
     "name": "stdout",
     "output_type": "stream",
     "text": [
      "('k1', 2)\n",
      "('k2', 3)\n",
      "('k3', 5)\n"
     ]
    }
   ],
   "source": [
    "# for loops for dictionaries \n",
    "d = {\"k1\": 2, \"k2\":3,\"k3\": 5}\n",
    "for k in d.items():\n",
    "    print(k)"
   ]
  },
  {
   "cell_type": "markdown",
   "metadata": {},
   "source": [
    "## dictionaries on prints the keys by default for a for loop .U se :values, key, ot items(tuples)"
   ]
  },
  {
   "cell_type": "code",
   "execution_count": null,
   "metadata": {},
   "outputs": [],
   "source": []
  }
 ],
 "metadata": {
  "kernelspec": {
   "display_name": "Python 3",
   "language": "python",
   "name": "python3"
  },
  "language_info": {
   "codemirror_mode": {
    "name": "ipython",
    "version": 3
   },
   "file_extension": ".py",
   "mimetype": "text/x-python",
   "name": "python",
   "nbconvert_exporter": "python",
   "pygments_lexer": "ipython3",
   "version": "3.7.1"
  }
 },
 "nbformat": 4,
 "nbformat_minor": 2
}
