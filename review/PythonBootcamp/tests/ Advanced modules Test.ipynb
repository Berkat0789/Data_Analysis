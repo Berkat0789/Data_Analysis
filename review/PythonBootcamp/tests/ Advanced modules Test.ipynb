{
 "cells": [
  {
   "cell_type": "markdown",
   "metadata": {},
   "source": [
    "### get the count of repeating numers in a list of numbers using Counter [1,1,1,2,3,3 etc]\n",
    "### get the count in a long string ( \"bgomfgmgggffghhh)\n",
    "### get the count of repeating words i na phrase -> must be split\n",
    "### use the countnter method most common to find the 2 most common words in a phrase .mostcommon(2)\n",
    "### Check the total item/wors in the string using sum(c.values())\n",
    "### use orderedDict to create a dictionaly that tracks the order of entry\n",
    "### create a name tuple instead of a class and assign it come values\n"
   ]
  },
  {
   "cell_type": "code",
   "execution_count": null,
   "metadata": {},
   "outputs": [],
   "source": []
  }
 ],
 "metadata": {
  "kernelspec": {
   "display_name": "Python 3",
   "language": "python",
   "name": "python3"
  },
  "language_info": {
   "codemirror_mode": {
    "name": "ipython",
    "version": 3
   },
   "file_extension": ".py",
   "mimetype": "text/x-python",
   "name": "python",
   "nbconvert_exporter": "python",
   "pygments_lexer": "ipython3",
   "version": "3.7.4"
  }
 },
 "nbformat": 4,
 "nbformat_minor": 2
}
