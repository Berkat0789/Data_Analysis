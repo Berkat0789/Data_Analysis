{
 "cells": [
  {
   "cell_type": "code",
   "execution_count": 36,
   "metadata": {},
   "outputs": [],
   "source": [
    "class Vehicle():\n",
    "    \n",
    "    #class onject atributes\n",
    "       # Will be the same foe any instance of a class\n",
    "    def __init__(self, doors = 0, color = \"red\", engine = \"V4\"):\n",
    "        self.doors = doors\n",
    "        self.color = color\n",
    "        self.engine = engine\n",
    "    def checkEngine(self):\n",
    "        return f\"The engine is a {self.engine}\""
   ]
  },
  {
   "cell_type": "code",
   "execution_count": 37,
   "metadata": {},
   "outputs": [],
   "source": [
    "bmw = Vehicle(4,\"Brown\", engine= \"V8\")"
   ]
  },
  {
   "cell_type": "code",
   "execution_count": 38,
   "metadata": {},
   "outputs": [
    {
     "data": {
      "text/plain": [
       "'Brown'"
      ]
     },
     "execution_count": 38,
     "metadata": {},
     "output_type": "execute_result"
    }
   ],
   "source": [
    "bmw.color"
   ]
  },
  {
   "cell_type": "code",
   "execution_count": 39,
   "metadata": {},
   "outputs": [
    {
     "data": {
      "text/plain": [
       "'V8'"
      ]
     },
     "execution_count": 39,
     "metadata": {},
     "output_type": "execute_result"
    }
   ],
   "source": [
    "bmw.engine"
   ]
  },
  {
   "cell_type": "code",
   "execution_count": 40,
   "metadata": {},
   "outputs": [
    {
     "data": {
      "text/plain": [
       "'The engine is a V8'"
      ]
     },
     "execution_count": 40,
     "metadata": {},
     "output_type": "execute_result"
    }
   ],
   "source": [
    "bmw.checkEngine()"
   ]
  },
  {
   "cell_type": "markdown",
   "metadata": {},
   "source": [
    "# we will try making a class that calaulates the retuns for a portfolio"
   ]
  },
  {
   "cell_type": "code",
   "execution_count": 41,
   "metadata": {},
   "outputs": [],
   "source": [
    "import pandas as pd\n",
    "from pandas_datareader import data as wb\n",
    "import matplotlib.pyplot as plt"
   ]
  },
  {
   "cell_type": "code",
   "execution_count": 42,
   "metadata": {},
   "outputs": [],
   "source": [
    "class InvestmentFund():\n",
    "    def __init__(self, tickers):\n",
    "        self.tickers = tickers\n",
    "        \n",
    "    ##func to get adj Close\n",
    "    def getAdjClose(self):\n",
    "        fr = pd.DataFrame()\n",
    "        for t in self.tickers:\n",
    "            fr[t] = wb.DataReader(t, \"yahoo\", start = \"2001-1-1\")[\"Adj Close\"]\n",
    "        return fr\n",
    "    def plotAdjClose(self):\n",
    "        fr = pd.DataFrame()\n",
    "        for t in self.tickers:\n",
    "            fr[t] = wb.DataReader(t, \"yahoo\", start = \"2001-1-1\")[\"Adj Close\"]\n",
    "        return fr.plot(figsize = (16,6))\n",
    "    def getDailyChanges(self):\n",
    "        changes_frame = pd.DataFrame()\n",
    "        daily_changes = pd.DataFrame()\n",
    "        for t in self.tickers:\n",
    "            changes_frame[t] = wb.DataReader(t, \"yahoo\", start = \"2001-1-1\")[\"Adj Close\"]\n",
    "            daily_changes[t] = changes_frame[t].pct_change()\n",
    "        return daily_changes\n",
    "    def plotDailyChanges(self):\n",
    "        changes_frame = pd.DataFrame()\n",
    "        daily_changes = pd.DataFrame()\n",
    "        for t in self.tickers:\n",
    "            changes_frame[t] = wb.DataReader(t, \"yahoo\", start = \"2001-1-1\")[\"Adj Close\"]\n",
    "            daily_changes[t] = changes_frame[t].pct_change()\n",
    "        return [daily_changes.plot(figsize = (16,6)), daily_changes.plot(kind = \"box\", figsize = (16,6))]\n",
    "        \n",
    "            \n",
    "        "
   ]
  },
  {
   "cell_type": "code",
   "execution_count": null,
   "metadata": {},
   "outputs": [],
   "source": []
  },
  {
   "cell_type": "markdown",
   "metadata": {},
   "source": [
    "### Special Methods "
   ]
  },
  {
   "cell_type": "code",
   "execution_count": 43,
   "metadata": {},
   "outputs": [],
   "source": [
    "class Book():\n",
    "    \n",
    "    def __init__(self, title, author, pages):\n",
    "        self.title = title\n",
    "        self.author = author\n",
    "        self.pages = pages\n",
    "        ##special method allows you to print get the length etc of an opject on call\n",
    "    def __str__(self):\n",
    "        return f\"THe name of the book is {self.title}\"\n",
    "    def __len__(self):\n",
    "        return self.pages\n",
    "    def __del__(self):\n",
    "        print(f\"The book {self.title} has been deleted\")"
   ]
  },
  {
   "cell_type": "code",
   "execution_count": 44,
   "metadata": {},
   "outputs": [],
   "source": [
    "myBook = Book(\"BooK test\", \"Berkat\", 450)"
   ]
  },
  {
   "cell_type": "code",
   "execution_count": 45,
   "metadata": {},
   "outputs": [
    {
     "name": "stdout",
     "output_type": "stream",
     "text": [
      "THe name of the book is BooK test\n"
     ]
    }
   ],
   "source": [
    "print(myBook)"
   ]
  },
  {
   "cell_type": "code",
   "execution_count": 46,
   "metadata": {},
   "outputs": [
    {
     "data": {
      "text/plain": [
       "450"
      ]
     },
     "execution_count": 46,
     "metadata": {},
     "output_type": "execute_result"
    }
   ],
   "source": [
    "len(myBook)"
   ]
  },
  {
   "cell_type": "markdown",
   "metadata": {},
   "source": [
    "# delete var from memory"
   ]
  },
  {
   "cell_type": "code",
   "execution_count": 47,
   "metadata": {},
   "outputs": [
    {
     "name": "stdout",
     "output_type": "stream",
     "text": [
      "The book BooK test has been deleted\n"
     ]
    }
   ],
   "source": [
    "del myBook"
   ]
  },
  {
   "cell_type": "code",
   "execution_count": 48,
   "metadata": {},
   "outputs": [
    {
     "ename": "NameError",
     "evalue": "name 'myBook' is not defined",
     "output_type": "error",
     "traceback": [
      "\u001b[0;31m---------------------------------------------------------------------------\u001b[0m",
      "\u001b[0;31mNameError\u001b[0m                                 Traceback (most recent call last)",
      "\u001b[0;32m<ipython-input-48-69bac222d050>\u001b[0m in \u001b[0;36m<module>\u001b[0;34m\u001b[0m\n\u001b[0;32m----> 1\u001b[0;31m \u001b[0mmyBook\u001b[0m\u001b[0;34m\u001b[0m\u001b[0;34m\u001b[0m\u001b[0m\n\u001b[0m",
      "\u001b[0;31mNameError\u001b[0m: name 'myBook' is not defined"
     ]
    }
   ],
   "source": [
    "myBook"
   ]
  },
  {
   "cell_type": "markdown",
   "metadata": {},
   "source": [
    "## Inheritance"
   ]
  },
  {
   "cell_type": "code",
   "execution_count": 57,
   "metadata": {},
   "outputs": [],
   "source": [
    "class BMW(Vehicle):\n",
    "    def __init__(self):\n",
    "        Vehicle.__init__(self, 4, \"Blue\", \"v8\")            "
   ]
  },
  {
   "cell_type": "code",
   "execution_count": 58,
   "metadata": {},
   "outputs": [],
   "source": [
    "x6 = BMW()"
   ]
  },
  {
   "cell_type": "code",
   "execution_count": 60,
   "metadata": {},
   "outputs": [
    {
     "data": {
      "text/plain": [
       "'Blue'"
      ]
     },
     "execution_count": 60,
     "metadata": {},
     "output_type": "execute_result"
    }
   ],
   "source": [
    "x6.checkEngine()\n",
    "x6.color"
   ]
  },
  {
   "cell_type": "code",
   "execution_count": null,
   "metadata": {},
   "outputs": [],
   "source": []
  }
 ],
 "metadata": {
  "kernelspec": {
   "display_name": "Python 3",
   "language": "python",
   "name": "python3"
  },
  "language_info": {
   "codemirror_mode": {
    "name": "ipython",
    "version": 3
   },
   "file_extension": ".py",
   "mimetype": "text/x-python",
   "name": "python",
   "nbconvert_exporter": "python",
   "pygments_lexer": "ipython3",
   "version": "3.7.1"
  }
 },
 "nbformat": 4,
 "nbformat_minor": 2
}
