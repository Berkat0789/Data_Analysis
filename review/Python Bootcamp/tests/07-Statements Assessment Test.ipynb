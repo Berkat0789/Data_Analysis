{
 "cells": [
  {
   "cell_type": "markdown",
   "metadata": {
    "collapsed": true
   },
   "source": [
    "# Statements Assessment Test\n",
    "Let's test your knowledge!"
   ]
  },
  {
   "cell_type": "markdown",
   "metadata": {},
   "source": [
    "_____\n",
    "**Use <code>for</code>, .split(), and <code>if</code> to create a Statement that will print out words that start with 's':**"
   ]
  },
  {
   "cell_type": "code",
   "execution_count": 2,
   "metadata": {},
   "outputs": [],
   "source": [
    "st = 'Print only the words that start with s in this sentence'"
   ]
  },
  {
   "cell_type": "code",
   "execution_count": 4,
   "metadata": {},
   "outputs": [
    {
     "data": {
      "text/plain": [
       "['Print',\n",
       " 'only',\n",
       " 'the',\n",
       " 'words',\n",
       " 'that',\n",
       " 'start',\n",
       " 'with',\n",
       " 's',\n",
       " 'in',\n",
       " 'this',\n",
       " 'sentence']"
      ]
     },
     "execution_count": 4,
     "metadata": {},
     "output_type": "execute_result"
    }
   ],
   "source": [
    "#Code here\n",
    "spl = st.split()\n",
    "spl"
   ]
  },
  {
   "cell_type": "code",
   "execution_count": 5,
   "metadata": {},
   "outputs": [
    {
     "name": "stdout",
     "output_type": "stream",
     "text": [
      "start\n",
      "s\n",
      "sentence\n"
     ]
    }
   ],
   "source": [
    "for w in spl:\n",
    "    if w[0] == \"s\":\n",
    "        print(w)"
   ]
  },
  {
   "cell_type": "markdown",
   "metadata": {},
   "source": [
    "______\n",
    "**Use range() to print all the even numbers from 0 to 10.**"
   ]
  },
  {
   "cell_type": "code",
   "execution_count": 14,
   "metadata": {},
   "outputs": [
    {
     "data": {
      "text/plain": [
       "[0, 2, 4, 6, 8, 10]"
      ]
     },
     "execution_count": 14,
     "metadata": {},
     "output_type": "execute_result"
    }
   ],
   "source": [
    "#Code Here\n",
    "eve = list(range(0,11,2))\n",
    "eve\n"
   ]
  },
  {
   "cell_type": "markdown",
   "metadata": {},
   "source": [
    "___\n",
    "**Use a List Comprehension to create a list of all numbers between 1 and 50 that are divisible by 3.**"
   ]
  },
  {
   "cell_type": "code",
   "execution_count": 15,
   "metadata": {},
   "outputs": [
    {
     "data": {
      "text/plain": [
       "[3, 6, 9, 12, 15, 18, 21, 24, 27, 30, 33, 36, 39, 42, 45, 48]"
      ]
     },
     "execution_count": 15,
     "metadata": {},
     "output_type": "execute_result"
    }
   ],
   "source": [
    "#Code in this cell\n",
    "[x for x in range(1,51) if x % 3 == 0 ]"
   ]
  },
  {
   "cell_type": "markdown",
   "metadata": {},
   "source": [
    "_____\n",
    "**Go through the string below and if the length of a word is even print \"even!\"**"
   ]
  },
  {
   "cell_type": "code",
   "execution_count": 16,
   "metadata": {},
   "outputs": [],
   "source": [
    "st = 'Print every word in this sentence that has an even number of letters'"
   ]
  },
  {
   "cell_type": "code",
   "execution_count": 20,
   "metadata": {},
   "outputs": [
    {
     "name": "stdout",
     "output_type": "stream",
     "text": [
      "the word word is even\n",
      "the word in is even\n",
      "the word this is even\n",
      "the word sentence is even\n",
      "the word that is even\n",
      "the word an is even\n",
      "the word even is even\n",
      "the word number is even\n",
      "the word of is even\n"
     ]
    }
   ],
   "source": [
    "#Code in this cell\n",
    "ww = st.split()\n",
    "for x in ww:\n",
    "    if len(x) % 2 == 0:\n",
    "        print(f\"the word {x} is even\")"
   ]
  },
  {
   "cell_type": "markdown",
   "metadata": {},
   "source": [
    "____\n",
    "**Write a program that prints the integers from 1 to 100. But for multiples of three print \"Fizz\" instead of the number, and for the multiples of five print \"Buzz\". For numbers which are multiples of both three and five print \"FizzBuzz\".**"
   ]
  },
  {
   "cell_type": "code",
   "execution_count": 22,
   "metadata": {},
   "outputs": [
    {
     "name": "stdout",
     "output_type": "stream",
     "text": [
      "Fizz\n",
      "okok\n",
      "okok\n",
      "Fizz\n",
      "okok\n",
      "Buzz\n",
      "Fizz\n",
      "okok\n",
      "okok\n",
      "Fizz\n",
      "Buzz\n",
      "okok\n",
      "Fizz\n",
      "okok\n",
      "okok\n",
      "Fizz\n",
      "okok\n",
      "okok\n",
      "Fizz\n",
      "okok\n",
      "Buzz\n",
      "Fizz\n",
      "okok\n",
      "okok\n",
      "Fizz\n",
      "Buzz\n",
      "okok\n",
      "Fizz\n",
      "okok\n",
      "okok\n",
      "Fizz\n",
      "okok\n",
      "okok\n",
      "Fizz\n",
      "okok\n",
      "Buzz\n",
      "Fizz\n",
      "okok\n",
      "okok\n",
      "Fizz\n",
      "Buzz\n",
      "okok\n",
      "Fizz\n",
      "okok\n",
      "okok\n",
      "Fizz\n",
      "okok\n",
      "okok\n",
      "Fizz\n",
      "okok\n",
      "Buzz\n",
      "Fizz\n",
      "okok\n",
      "okok\n",
      "Fizz\n",
      "Buzz\n",
      "okok\n",
      "Fizz\n",
      "okok\n",
      "okok\n",
      "Fizz\n",
      "okok\n",
      "okok\n",
      "Fizz\n",
      "okok\n",
      "Buzz\n",
      "Fizz\n",
      "okok\n",
      "okok\n",
      "Fizz\n",
      "Buzz\n",
      "okok\n",
      "Fizz\n",
      "okok\n",
      "okok\n",
      "Fizz\n",
      "okok\n",
      "okok\n",
      "Fizz\n",
      "okok\n",
      "Buzz\n",
      "Fizz\n",
      "okok\n",
      "okok\n",
      "Fizz\n",
      "Buzz\n",
      "okok\n",
      "Fizz\n",
      "okok\n",
      "okok\n",
      "Fizz\n",
      "okok\n",
      "okok\n",
      "Fizz\n",
      "okok\n",
      "Buzz\n",
      "Fizz\n",
      "okok\n",
      "okok\n",
      "Fizz\n",
      "Buzz\n"
     ]
    }
   ],
   "source": [
    "#Code in this cell\n",
    "lisyy =list(range(0,101))\n",
    "for x in lisyy:\n",
    "    if x % 3 == 0:\n",
    "        print(\"Fizz\")\n",
    "    elif x % 5 == 0:\n",
    "        print(\"Buzz\")\n",
    "    elif x % 3 and x % 5 == 0:\n",
    "        print(\"Fizz buzz\")\n",
    "    else:\n",
    "        print(\"okok\")"
   ]
  },
  {
   "cell_type": "markdown",
   "metadata": {},
   "source": [
    "____\n",
    "**Use List Comprehension to create a list of the first letters of every word in the string below:**"
   ]
  },
  {
   "cell_type": "code",
   "execution_count": 23,
   "metadata": {},
   "outputs": [],
   "source": [
    "st = 'Create a list of the first letters of every word in this string'"
   ]
  },
  {
   "cell_type": "code",
   "execution_count": 25,
   "metadata": {},
   "outputs": [
    {
     "data": {
      "text/plain": [
       "['C', 'a', 'l', 'o', 't', 'f', 'l', 'o', 'e', 'w', 'i', 't', 's']"
      ]
     },
     "execution_count": 25,
     "metadata": {},
     "output_type": "execute_result"
    }
   ],
   "source": [
    "#Code in this cell\n",
    "lis = [x[0] for x in st.split()]\n",
    "lis"
   ]
  },
  {
   "cell_type": "markdown",
   "metadata": {},
   "source": [
    "### Great Job!"
   ]
  }
 ],
 "metadata": {
  "kernelspec": {
   "display_name": "Python 3",
   "language": "python",
   "name": "python3"
  },
  "language_info": {
   "codemirror_mode": {
    "name": "ipython",
    "version": 3
   },
   "file_extension": ".py",
   "mimetype": "text/x-python",
   "name": "python",
   "nbconvert_exporter": "python",
   "pygments_lexer": "ipython3",
   "version": "3.7.1"
  }
 },
 "nbformat": 4,
 "nbformat_minor": 1
}
