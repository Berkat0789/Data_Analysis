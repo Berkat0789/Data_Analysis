{
 "cells": [
  {
   "cell_type": "code",
   "execution_count": 1,
   "metadata": {},
   "outputs": [],
   "source": [
    "import numpy as np"
   ]
  },
  {
   "cell_type": "code",
   "execution_count": 3,
   "metadata": {},
   "outputs": [
    {
     "data": {
      "text/plain": [
       "array([ 0,  2,  4,  6,  8, 10, 12, 14, 16, 18, 20, 22, 24, 26, 28])"
      ]
     },
     "execution_count": 3,
     "metadata": {},
     "output_type": "execute_result"
    }
   ],
   "source": [
    "np.arange(0,30,2)"
   ]
  },
  {
   "cell_type": "code",
   "execution_count": 4,
   "metadata": {},
   "outputs": [
    {
     "data": {
      "text/plain": [
       "array([[0., 0., 0., 0., 0.],\n",
       "       [0., 0., 0., 0., 0.],\n",
       "       [0., 0., 0., 0., 0.],\n",
       "       [0., 0., 0., 0., 0.],\n",
       "       [0., 0., 0., 0., 0.]])"
      ]
     },
     "execution_count": 4,
     "metadata": {},
     "output_type": "execute_result"
    }
   ],
   "source": [
    "np.zeros((5,5))"
   ]
  },
  {
   "cell_type": "code",
   "execution_count": 5,
   "metadata": {},
   "outputs": [
    {
     "data": {
      "text/plain": [
       "array([[1., 1., 1., 1., 1.],\n",
       "       [1., 1., 1., 1., 1.],\n",
       "       [1., 1., 1., 1., 1.],\n",
       "       [1., 1., 1., 1., 1.],\n",
       "       [1., 1., 1., 1., 1.]])"
      ]
     },
     "execution_count": 5,
     "metadata": {},
     "output_type": "execute_result"
    }
   ],
   "source": [
    "np.ones((5,5))"
   ]
  },
  {
   "cell_type": "code",
   "execution_count": 6,
   "metadata": {},
   "outputs": [
    {
     "data": {
      "text/plain": [
       "array([[1., 0., 0., 0., 0.],\n",
       "       [0., 1., 0., 0., 0.],\n",
       "       [0., 0., 1., 0., 0.],\n",
       "       [0., 0., 0., 1., 0.],\n",
       "       [0., 0., 0., 0., 1.]])"
      ]
     },
     "execution_count": 6,
     "metadata": {},
     "output_type": "execute_result"
    }
   ],
   "source": [
    "np.eye(5)"
   ]
  },
  {
   "cell_type": "code",
   "execution_count": 8,
   "metadata": {},
   "outputs": [
    {
     "data": {
      "text/plain": [
       "array([[0.07234635, 0.82855757, 0.25528301, 0.45064055, 0.73131358],\n",
       "       [0.13756198, 0.39383948, 0.60410378, 0.33137506, 0.60919746],\n",
       "       [0.04373457, 0.34681255, 0.37791453, 0.97875796, 0.74094615],\n",
       "       [0.95917604, 0.38113197, 0.22848974, 0.32269573, 0.71210239],\n",
       "       [0.04932725, 0.32565548, 0.56674531, 0.58281374, 0.78676819]])"
      ]
     },
     "execution_count": 8,
     "metadata": {},
     "output_type": "execute_result"
    }
   ],
   "source": [
    "np.random.rand(5,5)"
   ]
  },
  {
   "cell_type": "code",
   "execution_count": 9,
   "metadata": {},
   "outputs": [
    {
     "data": {
      "text/plain": [
       "array([[-1.04188024,  0.29305673,  0.41380344, -0.72320402,  0.50085733],\n",
       "       [-1.78697718,  1.35492892, -0.03941765, -0.34417032,  0.07390757],\n",
       "       [-0.45498936,  0.29788068, -0.65693624, -0.6341675 ,  1.03385248],\n",
       "       [-0.103806  ,  2.0903088 , -0.1720734 , -0.03776337,  0.07760056],\n",
       "       [ 1.60427408,  1.22174268, -0.13200977,  1.64591106,  0.9466271 ]])"
      ]
     },
     "execution_count": 9,
     "metadata": {},
     "output_type": "execute_result"
    }
   ],
   "source": [
    "np.random.randn(5,5)"
   ]
  },
  {
   "cell_type": "code",
   "execution_count": 12,
   "metadata": {},
   "outputs": [
    {
     "data": {
      "text/plain": [
       "array([0.18662797, 0.89708765, 0.52727399, 0.79339692, 0.26310029,\n",
       "       0.71689071, 0.75863907, 0.60659718, 0.58665953, 0.54022204,\n",
       "       0.77657441, 0.78055745, 0.8294256 , 0.42092981, 0.1833297 ,\n",
       "       0.63013941, 0.51708495, 0.82490589, 0.18558677, 0.33071262,\n",
       "       0.61005901, 0.84336074, 0.90223674, 0.45421534, 0.9578621 ,\n",
       "       0.01089033, 0.31192263, 0.60934216, 0.59662687, 0.73161027,\n",
       "       0.27469251, 0.1330449 , 0.93370409, 0.5668431 , 0.54557192,\n",
       "       0.54357842, 0.20196021, 0.96870727, 0.67933049, 0.55079172,\n",
       "       0.69373328, 0.98242092, 0.09460259, 0.47862551, 0.80570712,\n",
       "       0.53347323, 0.4992012 , 0.5930431 , 0.03353007, 0.32637577,\n",
       "       0.24127402, 0.95871449, 0.17676257, 0.8134645 , 0.39359406,\n",
       "       0.91643771, 0.38339525, 0.22885059, 0.67898283, 0.18367205,\n",
       "       0.97035621, 0.09225466, 0.06016537, 0.68755428, 0.59385314,\n",
       "       0.99131476, 0.58505604, 0.07361626, 0.51822662, 0.17635183,\n",
       "       0.54907041, 0.82944928, 0.20407149, 0.87627281, 0.17849263,\n",
       "       0.52150913, 0.87247128, 0.30532566, 0.07426836, 0.50988877,\n",
       "       0.44697326, 0.55344445, 0.690448  , 0.89684522, 0.66898395,\n",
       "       0.81987507, 0.85022043, 0.94589607, 0.3860865 , 0.25771023,\n",
       "       0.66659744, 0.13232197, 0.85250423, 0.08081643, 0.2388291 ,\n",
       "       0.77560092, 0.14079716, 0.06911479, 0.41631582, 0.7424345 ])"
      ]
     },
     "execution_count": 12,
     "metadata": {},
     "output_type": "execute_result"
    }
   ],
   "source": [
    "np.random.random(100)"
   ]
  },
  {
   "cell_type": "code",
   "execution_count": 19,
   "metadata": {},
   "outputs": [
    {
     "data": {
      "text/plain": [
       "array([60, 90, 38, 62, 42,  0, 97, 69, 59, 46])"
      ]
     },
     "execution_count": 19,
     "metadata": {},
     "output_type": "execute_result"
    }
   ],
   "source": [
    "np.random.randint(0,100,10)"
   ]
  },
  {
   "cell_type": "code",
   "execution_count": null,
   "metadata": {},
   "outputs": [],
   "source": []
  },
  {
   "cell_type": "code",
   "execution_count": 20,
   "metadata": {},
   "outputs": [],
   "source": [
    "arr = np.arange(25)"
   ]
  },
  {
   "cell_type": "code",
   "execution_count": 21,
   "metadata": {},
   "outputs": [
    {
     "data": {
      "text/plain": [
       "array([ 0,  1,  2,  3,  4,  5,  6,  7,  8,  9, 10, 11, 12, 13, 14, 15, 16,\n",
       "       17, 18, 19, 20, 21, 22, 23, 24])"
      ]
     },
     "execution_count": 21,
     "metadata": {},
     "output_type": "execute_result"
    }
   ],
   "source": [
    "arr"
   ]
  },
  {
   "cell_type": "code",
   "execution_count": 22,
   "metadata": {},
   "outputs": [],
   "source": [
    "ranarr =  np.random.randint(0,50,10)"
   ]
  },
  {
   "cell_type": "code",
   "execution_count": 23,
   "metadata": {},
   "outputs": [
    {
     "data": {
      "text/plain": [
       "array([13, 23, 48, 20,  4, 35,  7, 31,  1, 42])"
      ]
     },
     "execution_count": 23,
     "metadata": {},
     "output_type": "execute_result"
    }
   ],
   "source": [
    "ranarr"
   ]
  },
  {
   "cell_type": "code",
   "execution_count": 24,
   "metadata": {},
   "outputs": [
    {
     "data": {
      "text/plain": [
       "array([[ 0,  1,  2,  3,  4],\n",
       "       [ 5,  6,  7,  8,  9],\n",
       "       [10, 11, 12, 13, 14],\n",
       "       [15, 16, 17, 18, 19],\n",
       "       [20, 21, 22, 23, 24]])"
      ]
     },
     "execution_count": 24,
     "metadata": {},
     "output_type": "execute_result"
    }
   ],
   "source": [
    "# reshape -. takes the array and makes it a 2 dimantional array that adds up to the total amout of numbers\n",
    "#inthe array \n",
    "arr.reshape(5,5)"
   ]
  },
  {
   "cell_type": "code",
   "execution_count": 27,
   "metadata": {},
   "outputs": [
    {
     "data": {
      "text/plain": [
       "(25,)"
      ]
     },
     "execution_count": 27,
     "metadata": {},
     "output_type": "execute_result"
    }
   ],
   "source": [
    "#check the shape of the array \n",
    "arr.shape"
   ]
  },
  {
   "cell_type": "code",
   "execution_count": 28,
   "metadata": {},
   "outputs": [
    {
     "data": {
      "text/plain": [
       "dtype('int64')"
      ]
     },
     "execution_count": 28,
     "metadata": {},
     "output_type": "execute_result"
    }
   ],
   "source": [
    "#check the datta type \n",
    "arr.dtype"
   ]
  },
  {
   "cell_type": "code",
   "execution_count": 30,
   "metadata": {},
   "outputs": [
    {
     "data": {
      "text/plain": [
       "48"
      ]
     },
     "execution_count": 30,
     "metadata": {},
     "output_type": "execute_result"
    }
   ],
   "source": [
    "#key methods \n",
    "\n",
    "ranarr.max()"
   ]
  },
  {
   "cell_type": "code",
   "execution_count": 35,
   "metadata": {},
   "outputs": [
    {
     "name": "stdout",
     "output_type": "stream",
     "text": [
      "The hightest number in the arry is at index 2\n"
     ]
    }
   ],
   "source": [
    "#arg max checks the index of where the highest numbers sits\n",
    "ranarr.argmax()\n",
    "print(f\"The hightest number in the arry is at index {ranarr.argmax()}\")"
   ]
  },
  {
   "cell_type": "code",
   "execution_count": 32,
   "metadata": {},
   "outputs": [
    {
     "data": {
      "text/plain": [
       "1"
      ]
     },
     "execution_count": 32,
     "metadata": {},
     "output_type": "execute_result"
    }
   ],
   "source": [
    "#chc kthe min \n",
    "ranarr.min()"
   ]
  },
  {
   "cell_type": "code",
   "execution_count": 36,
   "metadata": {},
   "outputs": [
    {
     "name": "stdout",
     "output_type": "stream",
     "text": [
      "The lowest number i nthe array is at the index 8\n"
     ]
    }
   ],
   "source": [
    "#check the lowest index in the array \n",
    "ranarr.argmin()\n",
    "print(f\"The lowest number i nthe array is at the index {ranarr.argmin()}\")"
   ]
  },
  {
   "cell_type": "code",
   "execution_count": null,
   "metadata": {},
   "outputs": [],
   "source": []
  }
 ],
 "metadata": {
  "kernelspec": {
   "display_name": "Python 3",
   "language": "python",
   "name": "python3"
  },
  "language_info": {
   "codemirror_mode": {
    "name": "ipython",
    "version": 3
   },
   "file_extension": ".py",
   "mimetype": "text/x-python",
   "name": "python",
   "nbconvert_exporter": "python",
   "pygments_lexer": "ipython3",
   "version": "3.7.1"
  }
 },
 "nbformat": 4,
 "nbformat_minor": 2
}
