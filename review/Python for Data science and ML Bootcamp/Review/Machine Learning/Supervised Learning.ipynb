{
 "cells": [
  {
   "cell_type": "markdown",
   "metadata": {},
   "source": [
    "## supervised learning elgorithims are trained using labeled Data/Examples: Input where the desied output is unknown"
   ]
  },
  {
   "cell_type": "markdown",
   "metadata": {},
   "source": [
    "### Emails: Classified as spam or legit\n",
    "### reviews: positive or negative \n",
    "\n",
    "##### Someone has labeled these already: so we can use this data to predict the future possibility of the email being a spam or review bring positive or negative"
   ]
  },
  {
   "cell_type": "markdown",
   "metadata": {},
   "source": [
    "# How it works\n",
    "### neuro network receives a set of inputs along with at the corrrect output.the algorithis learns by taking the actual output with the correct outputs and find errors. The Model is then modified accordingly"
   ]
  },
  {
   "cell_type": "markdown",
   "metadata": {},
   "source": [
    "## Eg: email is passed and the outout put is set to legit. The actual out put is Spam the algo will; adjust based on this and try better for the next time"
   ]
  },
  {
   "cell_type": "markdown",
   "metadata": {},
   "source": [
    "# When is supervised learning Used"
   ]
  },
  {
   "cell_type": "markdown",
   "metadata": {},
   "source": [
    "##### Used in applicaiton when historical data is used to predict future outcome. "
   ]
  },
  {
   "cell_type": "markdown",
   "metadata": {},
   "source": [
    "____"
   ]
  },
  {
   "cell_type": "markdown",
   "metadata": {},
   "source": [
    "# Process"
   ]
  },
  {
   "cell_type": "markdown",
   "metadata": {},
   "source": [
    "# 1 - Data aquisition ->\n",
    "# 2 - Data Cleaning -> Clean with pandas for proper processing\n",
    "# 3 - Split data -> Test Data and Trainig Data -> normally do 30% test  Data, 70% # 4 - Model Testing - training Data (Use to fit or train Data), Then run the model against the test data to see how well it did. If not well Adjust model\n",
    "# 5 - Deployment - Once satisfied we can Deploy the model\n"
   ]
  },
  {
   "cell_type": "markdown",
   "metadata": {},
   "source": []
  },
  {
   "cell_type": "markdown",
   "metadata": {},
   "source": [
    "# Problem"
   ]
  },
  {
   "cell_type": "markdown",
   "metadata": {},
   "source": [
    "## is if fair to say that this is a good process since we can go back and edit the model over and over. "
   ]
  },
  {
   "cell_type": "markdown",
   "metadata": {},
   "source": [
    "# The fix:"
   ]
  },
  {
   "cell_type": "markdown",
   "metadata": {},
   "source": [
    "#### Split into 3 segments \n",
    "\n",
    "## 1 - Training data -> training Model parameters\n",
    "## 2 - Validation Data -> Used to determine what paramters to adjust\n",
    "##  3 - Test Data -> used to get some final performance matrix -> once you run here you will nto go back and change-> real world application \n",
    "\n",
    "## INthis course we will not do this but you can  go back and always change the hyperparameters. We will use the train/test data step only"
   ]
  },
  {
   "cell_type": "markdown",
   "metadata": {},
   "source": [
    "____"
   ]
  },
  {
   "cell_type": "markdown",
   "metadata": {},
   "source": [
    "# Evaluating performance "
   ]
  },
  {
   "cell_type": "markdown",
   "metadata": {},
   "source": [
    "### how your model actually did"
   ]
  },
  {
   "cell_type": "markdown",
   "metadata": {},
   "source": [
    "# Precision Methods\n",
    "## 1- Accuracy\n",
    "## 2 -Precision\n",
    "## 3 - Recall\n",
    "## 4 -f1 score"
   ]
  },
  {
   "cell_type": "markdown",
   "metadata": {},
   "source": [
    "___"
   ]
  },
  {
   "cell_type": "markdown",
   "metadata": {},
   "source": [
    "# Process of evaluation"
   ]
  },
  {
   "cell_type": "markdown",
   "metadata": {},
   "source": [
    "# 1 Trained Model - already trained our model on some training data \n",
    "# 2 evaluate and then pass test data "
   ]
  },
  {
   "cell_type": "markdown",
   "metadata": {},
   "source": [
    "##### How it works -> WE take a trained model and pass X_image (looking for dog/cat) -> unknown label,and pass the correct label fro, y_label-> we pass the image in trained model-> model say the label is dog -> we then pedict is the the model result is correct ()-> if cat the comparison is incorrect. Only two situations. WE will repeat this process for all the images in the x_images test data set and keep a count of incorrect or correct."
   ]
  },
  {
   "cell_type": "markdown",
   "metadata": {},
   "source": [
    "### IN the real world not all results is equal we will look thy the precition methods in detail"
   ]
  },
  {
   "cell_type": "markdown",
   "metadata": {},
   "source": [
    "# Accuracy ->\n",
    "\n",
    "#### the number of corrrect predictions / total number of predictions(percent correct) \n",
    "\n",
    "## Cons of using accuracy -> does not work well with unbalanced data..Imagine you had 99 images of dogs and 1 of cat"
   ]
  },
  {
   "cell_type": "markdown",
   "metadata": {},
   "source": [
    "___"
   ]
  },
  {
   "cell_type": "markdown",
   "metadata": {},
   "source": [
    "# Recall ->"
   ]
  },
  {
   "cell_type": "markdown",
   "metadata": {},
   "source": [
    "#### Ability of a model to find all relevant/True positives in a data set\n",
    "\n",
    "#### (# true Positives)/(# true positives + number of false negatives)"
   ]
  },
  {
   "cell_type": "markdown",
   "metadata": {},
   "source": [
    "___"
   ]
  },
  {
   "cell_type": "markdown",
   "metadata": {},
   "source": [
    "# Precision ->"
   ]
  },
  {
   "cell_type": "markdown",
   "metadata": {},
   "source": [
    "## ability for a classificaiton model to identify only the relevant data points\n",
    "## (#true Positives/#true positives) + #number of true negatives"
   ]
  },
  {
   "cell_type": "markdown",
   "metadata": {},
   "source": [
    "__"
   ]
  },
  {
   "cell_type": "markdown",
   "metadata": {},
   "source": [
    "# f1 score"
   ]
  },
  {
   "cell_type": "markdown",
   "metadata": {},
   "source": [
    "### blend between Recall and precision (hermonic mean between precition and recall)\n",
    "\n",
    "####  f1 = 2* (precision * recall) /(precision + recall) \n",
    "\n",
    "\n",
    "### Pros -> punishes extreme values"
   ]
  },
  {
   "cell_type": "markdown",
   "metadata": {},
   "source": [
    "___"
   ]
  },
  {
   "cell_type": "markdown",
   "metadata": {},
   "source": [
    "# Confusion Matrix"
   ]
  },
  {
   "cell_type": "markdown",
   "metadata": {},
   "source": [
    "## view incorrectly and correclty classified items/images"
   ]
  },
  {
   "cell_type": "code",
   "execution_count": null,
   "metadata": {},
   "outputs": [],
   "source": []
  },
  {
   "cell_type": "code",
   "execution_count": null,
   "metadata": {},
   "outputs": [],
   "source": []
  },
  {
   "cell_type": "markdown",
   "metadata": {},
   "source": [
    "# Eveluating Regression Performance"
   ]
  },
  {
   "cell_type": "markdown",
   "metadata": {},
   "source": [
    "## used to predict continous values"
   ]
  },
  {
   "cell_type": "markdown",
   "metadata": {},
   "source": [
    "### (MAE)MEan Absoulute error - > you prediciton to the true y label(true value) -> take the difference of the true value and the predicted (absolute value ) -> can be over so that is is not negaitve:\n",
    "### con-> does not punish large errors"
   ]
  },
  {
   "cell_type": "markdown",
   "metadata": {},
   "source": [
    "### (MSE) -> MEan Swuared Error  -> take the difference of true and the prredicted values and square -> take into account the larger errors -> no need for abaolute value because its squared \n",
    "## cons -> squares the units also "
   ]
  },
  {
   "cell_type": "markdown",
   "metadata": {},
   "source": [
    "## RSR -> Root sqyared error -> take the square room otf MSE (mean square error) . same units"
   ]
  },
  {
   "cell_type": "code",
   "execution_count": null,
   "metadata": {},
   "outputs": [],
   "source": []
  }
 ],
 "metadata": {
  "kernelspec": {
   "display_name": "Python 3",
   "language": "python",
   "name": "python3"
  },
  "language_info": {
   "codemirror_mode": {
    "name": "ipython",
    "version": 3
   },
   "file_extension": ".py",
   "mimetype": "text/x-python",
   "name": "python",
   "nbconvert_exporter": "python",
   "pygments_lexer": "ipython3",
   "version": "3.7.4"
  }
 },
 "nbformat": 4,
 "nbformat_minor": 2
}
