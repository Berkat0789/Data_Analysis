{
 "cells": [
  {
   "cell_type": "code",
   "execution_count": 1,
   "metadata": {},
   "outputs": [],
   "source": [
    "import numpy as np\n",
    "import pandas as pd"
   ]
  },
  {
   "cell_type": "code",
   "execution_count": 2,
   "metadata": {},
   "outputs": [],
   "source": [
    "df = pd.DataFrame(np.random.rand(5,5), columns=[\"A\",\"B\",\"C\",\"D\",\"E\"], index=[\"Berkat\", \"Jane\", \"Bark\", \"Leo\", \"Femi\"])"
   ]
  },
  {
   "cell_type": "code",
   "execution_count": 3,
   "metadata": {},
   "outputs": [
    {
     "data": {
      "text/html": [
       "<div>\n",
       "<style scoped>\n",
       "    .dataframe tbody tr th:only-of-type {\n",
       "        vertical-align: middle;\n",
       "    }\n",
       "\n",
       "    .dataframe tbody tr th {\n",
       "        vertical-align: top;\n",
       "    }\n",
       "\n",
       "    .dataframe thead th {\n",
       "        text-align: right;\n",
       "    }\n",
       "</style>\n",
       "<table border=\"1\" class=\"dataframe\">\n",
       "  <thead>\n",
       "    <tr style=\"text-align: right;\">\n",
       "      <th></th>\n",
       "      <th>A</th>\n",
       "      <th>B</th>\n",
       "      <th>C</th>\n",
       "      <th>D</th>\n",
       "      <th>E</th>\n",
       "    </tr>\n",
       "  </thead>\n",
       "  <tbody>\n",
       "    <tr>\n",
       "      <td>Berkat</td>\n",
       "      <td>0.774511</td>\n",
       "      <td>0.065023</td>\n",
       "      <td>0.871514</td>\n",
       "      <td>0.732991</td>\n",
       "      <td>0.810670</td>\n",
       "    </tr>\n",
       "    <tr>\n",
       "      <td>Jane</td>\n",
       "      <td>0.798198</td>\n",
       "      <td>0.261252</td>\n",
       "      <td>0.859020</td>\n",
       "      <td>0.665152</td>\n",
       "      <td>0.234439</td>\n",
       "    </tr>\n",
       "    <tr>\n",
       "      <td>Bark</td>\n",
       "      <td>0.898466</td>\n",
       "      <td>0.341356</td>\n",
       "      <td>0.409793</td>\n",
       "      <td>0.934376</td>\n",
       "      <td>0.309313</td>\n",
       "    </tr>\n",
       "    <tr>\n",
       "      <td>Leo</td>\n",
       "      <td>0.237740</td>\n",
       "      <td>0.767393</td>\n",
       "      <td>0.786109</td>\n",
       "      <td>0.069684</td>\n",
       "      <td>0.451842</td>\n",
       "    </tr>\n",
       "    <tr>\n",
       "      <td>Femi</td>\n",
       "      <td>0.539961</td>\n",
       "      <td>0.491626</td>\n",
       "      <td>0.707200</td>\n",
       "      <td>0.761109</td>\n",
       "      <td>0.318842</td>\n",
       "    </tr>\n",
       "  </tbody>\n",
       "</table>\n",
       "</div>"
      ],
      "text/plain": [
       "               A         B         C         D         E\n",
       "Berkat  0.774511  0.065023  0.871514  0.732991  0.810670\n",
       "Jane    0.798198  0.261252  0.859020  0.665152  0.234439\n",
       "Bark    0.898466  0.341356  0.409793  0.934376  0.309313\n",
       "Leo     0.237740  0.767393  0.786109  0.069684  0.451842\n",
       "Femi    0.539961  0.491626  0.707200  0.761109  0.318842"
      ]
     },
     "execution_count": 3,
     "metadata": {},
     "output_type": "execute_result"
    }
   ],
   "source": [
    "df"
   ]
  },
  {
   "cell_type": "markdown",
   "metadata": {},
   "source": [
    "### Filter"
   ]
  },
  {
   "cell_type": "code",
   "execution_count": 4,
   "metadata": {},
   "outputs": [
    {
     "data": {
      "text/html": [
       "<div>\n",
       "<style scoped>\n",
       "    .dataframe tbody tr th:only-of-type {\n",
       "        vertical-align: middle;\n",
       "    }\n",
       "\n",
       "    .dataframe tbody tr th {\n",
       "        vertical-align: top;\n",
       "    }\n",
       "\n",
       "    .dataframe thead th {\n",
       "        text-align: right;\n",
       "    }\n",
       "</style>\n",
       "<table border=\"1\" class=\"dataframe\">\n",
       "  <thead>\n",
       "    <tr style=\"text-align: right;\">\n",
       "      <th></th>\n",
       "      <th>C</th>\n",
       "      <th>E</th>\n",
       "    </tr>\n",
       "  </thead>\n",
       "  <tbody>\n",
       "    <tr>\n",
       "      <td>Berkat</td>\n",
       "      <td>0.871514</td>\n",
       "      <td>0.810670</td>\n",
       "    </tr>\n",
       "    <tr>\n",
       "      <td>Bark</td>\n",
       "      <td>0.409793</td>\n",
       "      <td>0.309313</td>\n",
       "    </tr>\n",
       "  </tbody>\n",
       "</table>\n",
       "</div>"
      ],
      "text/plain": [
       "               C         E\n",
       "Berkat  0.871514  0.810670\n",
       "Bark    0.409793  0.309313"
      ]
     },
     "execution_count": 4,
     "metadata": {},
     "output_type": "execute_result"
    }
   ],
   "source": [
    "df.loc[[\"Berkat\",\"Bark\"], [\"C\", \"E\"]]"
   ]
  },
  {
   "cell_type": "code",
   "execution_count": 5,
   "metadata": {},
   "outputs": [
    {
     "data": {
      "text/html": [
       "<div>\n",
       "<style scoped>\n",
       "    .dataframe tbody tr th:only-of-type {\n",
       "        vertical-align: middle;\n",
       "    }\n",
       "\n",
       "    .dataframe tbody tr th {\n",
       "        vertical-align: top;\n",
       "    }\n",
       "\n",
       "    .dataframe thead th {\n",
       "        text-align: right;\n",
       "    }\n",
       "</style>\n",
       "<table border=\"1\" class=\"dataframe\">\n",
       "  <thead>\n",
       "    <tr style=\"text-align: right;\">\n",
       "      <th></th>\n",
       "      <th>C</th>\n",
       "      <th>B</th>\n",
       "    </tr>\n",
       "  </thead>\n",
       "  <tbody>\n",
       "    <tr>\n",
       "      <td>Berkat</td>\n",
       "      <td>0.871514</td>\n",
       "      <td>0.065023</td>\n",
       "    </tr>\n",
       "    <tr>\n",
       "      <td>Jane</td>\n",
       "      <td>0.859020</td>\n",
       "      <td>0.261252</td>\n",
       "    </tr>\n",
       "    <tr>\n",
       "      <td>Bark</td>\n",
       "      <td>0.409793</td>\n",
       "      <td>0.341356</td>\n",
       "    </tr>\n",
       "    <tr>\n",
       "      <td>Leo</td>\n",
       "      <td>0.786109</td>\n",
       "      <td>0.767393</td>\n",
       "    </tr>\n",
       "    <tr>\n",
       "      <td>Femi</td>\n",
       "      <td>0.707200</td>\n",
       "      <td>0.491626</td>\n",
       "    </tr>\n",
       "  </tbody>\n",
       "</table>\n",
       "</div>"
      ],
      "text/plain": [
       "               C         B\n",
       "Berkat  0.871514  0.065023\n",
       "Jane    0.859020  0.261252\n",
       "Bark    0.409793  0.341356\n",
       "Leo     0.786109  0.767393\n",
       "Femi    0.707200  0.491626"
      ]
     },
     "execution_count": 5,
     "metadata": {},
     "output_type": "execute_result"
    }
   ],
   "source": [
    "df[[\"C\",\"B\"]]"
   ]
  },
  {
   "cell_type": "code",
   "execution_count": 6,
   "metadata": {},
   "outputs": [
    {
     "data": {
      "text/html": [
       "<div>\n",
       "<style scoped>\n",
       "    .dataframe tbody tr th:only-of-type {\n",
       "        vertical-align: middle;\n",
       "    }\n",
       "\n",
       "    .dataframe tbody tr th {\n",
       "        vertical-align: top;\n",
       "    }\n",
       "\n",
       "    .dataframe thead th {\n",
       "        text-align: right;\n",
       "    }\n",
       "</style>\n",
       "<table border=\"1\" class=\"dataframe\">\n",
       "  <thead>\n",
       "    <tr style=\"text-align: right;\">\n",
       "      <th></th>\n",
       "      <th>A</th>\n",
       "      <th>B</th>\n",
       "      <th>C</th>\n",
       "      <th>D</th>\n",
       "      <th>E</th>\n",
       "    </tr>\n",
       "  </thead>\n",
       "  <tbody>\n",
       "    <tr>\n",
       "      <td>Berkat</td>\n",
       "      <td>0.774511</td>\n",
       "      <td>0.065023</td>\n",
       "      <td>0.871514</td>\n",
       "      <td>0.732991</td>\n",
       "      <td>0.810670</td>\n",
       "    </tr>\n",
       "    <tr>\n",
       "      <td>Jane</td>\n",
       "      <td>0.798198</td>\n",
       "      <td>0.261252</td>\n",
       "      <td>0.859020</td>\n",
       "      <td>0.665152</td>\n",
       "      <td>0.234439</td>\n",
       "    </tr>\n",
       "    <tr>\n",
       "      <td>Leo</td>\n",
       "      <td>0.237740</td>\n",
       "      <td>0.767393</td>\n",
       "      <td>0.786109</td>\n",
       "      <td>0.069684</td>\n",
       "      <td>0.451842</td>\n",
       "    </tr>\n",
       "    <tr>\n",
       "      <td>Femi</td>\n",
       "      <td>0.539961</td>\n",
       "      <td>0.491626</td>\n",
       "      <td>0.707200</td>\n",
       "      <td>0.761109</td>\n",
       "      <td>0.318842</td>\n",
       "    </tr>\n",
       "  </tbody>\n",
       "</table>\n",
       "</div>"
      ],
      "text/plain": [
       "               A         B         C         D         E\n",
       "Berkat  0.774511  0.065023  0.871514  0.732991  0.810670\n",
       "Jane    0.798198  0.261252  0.859020  0.665152  0.234439\n",
       "Leo     0.237740  0.767393  0.786109  0.069684  0.451842\n",
       "Femi    0.539961  0.491626  0.707200  0.761109  0.318842"
      ]
     },
     "execution_count": 6,
     "metadata": {},
     "output_type": "execute_result"
    }
   ],
   "source": [
    "df[df[\"C\"] > .6]"
   ]
  },
  {
   "cell_type": "code",
   "execution_count": 7,
   "metadata": {},
   "outputs": [
    {
     "data": {
      "text/plain": [
       "Index(['Berkat', 'Jane', 'Bark', 'Leo', 'Femi'], dtype='object')"
      ]
     },
     "execution_count": 7,
     "metadata": {},
     "output_type": "execute_result"
    }
   ],
   "source": [
    "df.index"
   ]
  },
  {
   "cell_type": "code",
   "execution_count": 8,
   "metadata": {},
   "outputs": [
    {
     "data": {
      "text/plain": [
       "Index(['A', 'B', 'C', 'D', 'E'], dtype='object')"
      ]
     },
     "execution_count": 8,
     "metadata": {},
     "output_type": "execute_result"
    }
   ],
   "source": [
    "df.columns"
   ]
  },
  {
   "cell_type": "code",
   "execution_count": 9,
   "metadata": {},
   "outputs": [
    {
     "data": {
      "text/plain": [
       "'Bark'"
      ]
     },
     "execution_count": 9,
     "metadata": {},
     "output_type": "execute_result"
    }
   ],
   "source": [
    "df[\"A\"].idxmax()"
   ]
  },
  {
   "cell_type": "code",
   "execution_count": 10,
   "metadata": {},
   "outputs": [
    {
     "data": {
      "text/plain": [
       "0.9343762427740838"
      ]
     },
     "execution_count": 10,
     "metadata": {},
     "output_type": "execute_result"
    }
   ],
   "source": [
    "df.loc[\"Bark\"].max()"
   ]
  },
  {
   "cell_type": "code",
   "execution_count": 21,
   "metadata": {},
   "outputs": [],
   "source": [
    "dd = {\"Company\": [\"Google\", \"Google\", \"Amazon\", \"Amazon\", \"Tesla\"], \"Users\": [\"Berkat\",\"Femi\",\"George\",\"Matt\",\"Steve\"], \"Compensation\": [120000,110000,320000,60000,75000], \"Scores\": [200,130,560,600,136]}"
   ]
  },
  {
   "cell_type": "code",
   "execution_count": 22,
   "metadata": {},
   "outputs": [],
   "source": [
    "frame = pd.DataFrame(dd)"
   ]
  },
  {
   "cell_type": "code",
   "execution_count": 23,
   "metadata": {},
   "outputs": [
    {
     "data": {
      "text/html": [
       "<div>\n",
       "<style scoped>\n",
       "    .dataframe tbody tr th:only-of-type {\n",
       "        vertical-align: middle;\n",
       "    }\n",
       "\n",
       "    .dataframe tbody tr th {\n",
       "        vertical-align: top;\n",
       "    }\n",
       "\n",
       "    .dataframe thead th {\n",
       "        text-align: right;\n",
       "    }\n",
       "</style>\n",
       "<table border=\"1\" class=\"dataframe\">\n",
       "  <thead>\n",
       "    <tr style=\"text-align: right;\">\n",
       "      <th></th>\n",
       "      <th>Company</th>\n",
       "      <th>Users</th>\n",
       "      <th>Compensation</th>\n",
       "      <th>Scores</th>\n",
       "    </tr>\n",
       "  </thead>\n",
       "  <tbody>\n",
       "    <tr>\n",
       "      <td>0</td>\n",
       "      <td>Google</td>\n",
       "      <td>Berkat</td>\n",
       "      <td>120000</td>\n",
       "      <td>200</td>\n",
       "    </tr>\n",
       "    <tr>\n",
       "      <td>1</td>\n",
       "      <td>Google</td>\n",
       "      <td>Femi</td>\n",
       "      <td>110000</td>\n",
       "      <td>130</td>\n",
       "    </tr>\n",
       "    <tr>\n",
       "      <td>2</td>\n",
       "      <td>Amazon</td>\n",
       "      <td>George</td>\n",
       "      <td>320000</td>\n",
       "      <td>560</td>\n",
       "    </tr>\n",
       "    <tr>\n",
       "      <td>3</td>\n",
       "      <td>Amazon</td>\n",
       "      <td>Matt</td>\n",
       "      <td>60000</td>\n",
       "      <td>600</td>\n",
       "    </tr>\n",
       "    <tr>\n",
       "      <td>4</td>\n",
       "      <td>Tesla</td>\n",
       "      <td>Steve</td>\n",
       "      <td>75000</td>\n",
       "      <td>136</td>\n",
       "    </tr>\n",
       "  </tbody>\n",
       "</table>\n",
       "</div>"
      ],
      "text/plain": [
       "  Company   Users  Compensation  Scores\n",
       "0  Google  Berkat        120000     200\n",
       "1  Google    Femi        110000     130\n",
       "2  Amazon  George        320000     560\n",
       "3  Amazon    Matt         60000     600\n",
       "4   Tesla   Steve         75000     136"
      ]
     },
     "execution_count": 23,
     "metadata": {},
     "output_type": "execute_result"
    }
   ],
   "source": [
    "frame"
   ]
  },
  {
   "cell_type": "code",
   "execution_count": 29,
   "metadata": {},
   "outputs": [
    {
     "data": {
      "text/html": [
       "<div>\n",
       "<style scoped>\n",
       "    .dataframe tbody tr th:only-of-type {\n",
       "        vertical-align: middle;\n",
       "    }\n",
       "\n",
       "    .dataframe tbody tr th {\n",
       "        vertical-align: top;\n",
       "    }\n",
       "\n",
       "    .dataframe thead th {\n",
       "        text-align: right;\n",
       "    }\n",
       "</style>\n",
       "<table border=\"1\" class=\"dataframe\">\n",
       "  <thead>\n",
       "    <tr style=\"text-align: right;\">\n",
       "      <th></th>\n",
       "      <th>Compensation</th>\n",
       "      <th>Scores</th>\n",
       "    </tr>\n",
       "    <tr>\n",
       "      <th>Company</th>\n",
       "      <th></th>\n",
       "      <th></th>\n",
       "    </tr>\n",
       "  </thead>\n",
       "  <tbody>\n",
       "    <tr>\n",
       "      <td>Amazon</td>\n",
       "      <td>380000</td>\n",
       "      <td>1160</td>\n",
       "    </tr>\n",
       "    <tr>\n",
       "      <td>Google</td>\n",
       "      <td>230000</td>\n",
       "      <td>330</td>\n",
       "    </tr>\n",
       "    <tr>\n",
       "      <td>Tesla</td>\n",
       "      <td>75000</td>\n",
       "      <td>136</td>\n",
       "    </tr>\n",
       "  </tbody>\n",
       "</table>\n",
       "</div>"
      ],
      "text/plain": [
       "         Compensation  Scores\n",
       "Company                      \n",
       "Amazon         380000    1160\n",
       "Google         230000     330\n",
       "Tesla           75000     136"
      ]
     },
     "execution_count": 29,
     "metadata": {},
     "output_type": "execute_result"
    }
   ],
   "source": [
    "frame.groupby(\"Company\").sum()"
   ]
  },
  {
   "cell_type": "code",
   "execution_count": null,
   "metadata": {},
   "outputs": [],
   "source": []
  }
 ],
 "metadata": {
  "kernelspec": {
   "display_name": "Python 3",
   "language": "python",
   "name": "python3"
  },
  "language_info": {
   "codemirror_mode": {
    "name": "ipython",
    "version": 3
   },
   "file_extension": ".py",
   "mimetype": "text/x-python",
   "name": "python",
   "nbconvert_exporter": "python",
   "pygments_lexer": "ipython3",
   "version": "3.7.4"
  }
 },
 "nbformat": 4,
 "nbformat_minor": 2
}
