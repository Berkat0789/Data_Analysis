{
 "cells": [
  {
   "cell_type": "markdown",
   "metadata": {},
   "source": [
    "##### Create a string and use slicing to grab a few words\n",
    "##### Create a string and use the aplit method to iterate through the string\n",
    "##### Create a string and find all the words that do not start with a s consider the lower, and upper methods\n",
    "##### Create a string and count how man times the word \"dog appears\""
   ]
  },
  {
   "cell_type": "code",
   "execution_count": null,
   "metadata": {},
   "outputs": [],
   "source": []
  },
  {
   "cell_type": "code",
   "execution_count": null,
   "metadata": {},
   "outputs": [],
   "source": []
  },
  {
   "cell_type": "code",
   "execution_count": null,
   "metadata": {},
   "outputs": [],
   "source": []
  },
  {
   "cell_type": "markdown",
   "metadata": {},
   "source": [
    "### Numpy"
   ]
  },
  {
   "cell_type": "markdown",
   "metadata": {},
   "source": [
    "#### Create a list evenly distributed numbers from 0 to 10 (linSpace) \n",
    "#### create a normal list of distributed numbers betwween 0 and 1 (rand)\n",
    "#### create a list of uniformly distributed integers between 0 and 1 (rand)\n",
    "#### Create a list of all ones (ones(()))\n",
    "#### create a list of all zeros (zeros((()))\n",
    "#### creare a range of numbers 10 numbers between 0 and 50 but only even\n",
    "####  check the max nd min in the last array as well as the aremax and arg min\n",
    "#### convert these list to a matrix and warm up with pandas for the next section (create data frames using the reshape method to create a matrix) -> plot these also for a worm up## create a broadcast to the original  array how do we avoid the original array being altered with broadcasting (arr.copy) -> create acopy\n",
    "#### index and grab a number in the matrix -> not array [row,col] \n",
    "#### grab a chunk of data in in matrix\n",
    "##### perform basic operations on an array add, sub, mulyiply ... exp, sqrt,\n",
    "#### get the sum of all the colums in the matrix "
   ]
  },
  {
   "cell_type": "code",
   "execution_count": null,
   "metadata": {},
   "outputs": [],
   "source": []
  },
  {
   "cell_type": "markdown",
   "metadata": {},
   "source": [
    "# Pandas"
   ]
  },
  {
   "cell_type": "code",
   "execution_count": null,
   "metadata": {},
   "outputs": [],
   "source": []
  }
 ],
 "metadata": {
  "kernelspec": {
   "display_name": "Python 3",
   "language": "python",
   "name": "python3"
  },
  "language_info": {
   "codemirror_mode": {
    "name": "ipython",
    "version": 3
   },
   "file_extension": ".py",
   "mimetype": "text/x-python",
   "name": "python",
   "nbconvert_exporter": "python",
   "pygments_lexer": "ipython3",
   "version": "3.7.1"
  }
 },
 "nbformat": 4,
 "nbformat_minor": 2
}
