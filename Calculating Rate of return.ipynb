{
 "cells": [
  {
   "cell_type": "code",
   "execution_count": 1,
   "metadata": {},
   "outputs": [],
   "source": [
    "#Calculate the rate of return for the following securties\n",
    "# GE, Ford, Microsoft, AMAZON "
   ]
  },
  {
   "cell_type": "code",
   "execution_count": null,
   "metadata": {},
   "outputs": [],
   "source": []
  },
  {
   "cell_type": "code",
   "execution_count": 2,
   "metadata": {},
   "outputs": [],
   "source": [
    "import pandas as pd\n",
    "import numpy as np\n",
    "import matplotlib.pyplot as plt\n",
    "from pandas_datareader import data as web"
   ]
  },
  {
   "cell_type": "code",
   "execution_count": 3,
   "metadata": {},
   "outputs": [],
   "source": [
    "tickers = [\"GE\", \"F\", \"MSFT\", \"AMZN\"]\n",
    "data_frame = pd.DataFrame()\n",
    "for t in tickers:\n",
    "    data_frame[t] = web.DataReader(t, data_source = \"yahoo\", start = \"2001-1-1\")[\"Adj Close\"]"
   ]
  },
  {
   "cell_type": "code",
   "execution_count": 4,
   "metadata": {},
   "outputs": [
    {
     "data": {
      "text/html": [
       "<div>\n",
       "<style scoped>\n",
       "    .dataframe tbody tr th:only-of-type {\n",
       "        vertical-align: middle;\n",
       "    }\n",
       "\n",
       "    .dataframe tbody tr th {\n",
       "        vertical-align: top;\n",
       "    }\n",
       "\n",
       "    .dataframe thead th {\n",
       "        text-align: right;\n",
       "    }\n",
       "</style>\n",
       "<table border=\"1\" class=\"dataframe\">\n",
       "  <thead>\n",
       "    <tr style=\"text-align: right;\">\n",
       "      <th></th>\n",
       "      <th>GE</th>\n",
       "      <th>F</th>\n",
       "      <th>MSFT</th>\n",
       "      <th>AMZN</th>\n",
       "    </tr>\n",
       "    <tr>\n",
       "      <th>Date</th>\n",
       "      <th></th>\n",
       "      <th></th>\n",
       "      <th></th>\n",
       "      <th></th>\n",
       "    </tr>\n",
       "  </thead>\n",
       "  <tbody>\n",
       "    <tr>\n",
       "      <td>2001-01-02</td>\n",
       "      <td>23.312727</td>\n",
       "      <td>13.555584</td>\n",
       "      <td>13.952815</td>\n",
       "      <td>13.875000</td>\n",
       "    </tr>\n",
       "    <tr>\n",
       "      <td>2001-01-03</td>\n",
       "      <td>25.477486</td>\n",
       "      <td>14.008603</td>\n",
       "      <td>15.420476</td>\n",
       "      <td>17.562500</td>\n",
       "    </tr>\n",
       "    <tr>\n",
       "      <td>2001-01-04</td>\n",
       "      <td>25.610699</td>\n",
       "      <td>15.019167</td>\n",
       "      <td>15.581316</td>\n",
       "      <td>15.500000</td>\n",
       "    </tr>\n",
       "    <tr>\n",
       "      <td>2001-01-05</td>\n",
       "      <td>25.211050</td>\n",
       "      <td>14.635847</td>\n",
       "      <td>15.802470</td>\n",
       "      <td>14.562500</td>\n",
       "    </tr>\n",
       "    <tr>\n",
       "      <td>2001-01-08</td>\n",
       "      <td>24.278542</td>\n",
       "      <td>14.287378</td>\n",
       "      <td>15.742152</td>\n",
       "      <td>14.937500</td>\n",
       "    </tr>\n",
       "    <tr>\n",
       "      <td>...</td>\n",
       "      <td>...</td>\n",
       "      <td>...</td>\n",
       "      <td>...</td>\n",
       "      <td>...</td>\n",
       "    </tr>\n",
       "    <tr>\n",
       "      <td>2019-11-20</td>\n",
       "      <td>11.390000</td>\n",
       "      <td>8.730000</td>\n",
       "      <td>149.619995</td>\n",
       "      <td>1745.530029</td>\n",
       "    </tr>\n",
       "    <tr>\n",
       "      <td>2019-11-21</td>\n",
       "      <td>11.530000</td>\n",
       "      <td>8.710000</td>\n",
       "      <td>149.479996</td>\n",
       "      <td>1734.709961</td>\n",
       "    </tr>\n",
       "    <tr>\n",
       "      <td>2019-11-22</td>\n",
       "      <td>11.550000</td>\n",
       "      <td>8.890000</td>\n",
       "      <td>149.589996</td>\n",
       "      <td>1745.719971</td>\n",
       "    </tr>\n",
       "    <tr>\n",
       "      <td>2019-11-25</td>\n",
       "      <td>11.580000</td>\n",
       "      <td>9.000000</td>\n",
       "      <td>151.229996</td>\n",
       "      <td>1773.839966</td>\n",
       "    </tr>\n",
       "    <tr>\n",
       "      <td>2019-11-26</td>\n",
       "      <td>11.425000</td>\n",
       "      <td>8.960000</td>\n",
       "      <td>152.000000</td>\n",
       "      <td>1790.761963</td>\n",
       "    </tr>\n",
       "  </tbody>\n",
       "</table>\n",
       "<p>4756 rows × 4 columns</p>\n",
       "</div>"
      ],
      "text/plain": [
       "                   GE          F        MSFT         AMZN\n",
       "Date                                                     \n",
       "2001-01-02  23.312727  13.555584   13.952815    13.875000\n",
       "2001-01-03  25.477486  14.008603   15.420476    17.562500\n",
       "2001-01-04  25.610699  15.019167   15.581316    15.500000\n",
       "2001-01-05  25.211050  14.635847   15.802470    14.562500\n",
       "2001-01-08  24.278542  14.287378   15.742152    14.937500\n",
       "...               ...        ...         ...          ...\n",
       "2019-11-20  11.390000   8.730000  149.619995  1745.530029\n",
       "2019-11-21  11.530000   8.710000  149.479996  1734.709961\n",
       "2019-11-22  11.550000   8.890000  149.589996  1745.719971\n",
       "2019-11-25  11.580000   9.000000  151.229996  1773.839966\n",
       "2019-11-26  11.425000   8.960000  152.000000  1790.761963\n",
       "\n",
       "[4756 rows x 4 columns]"
      ]
     },
     "execution_count": 4,
     "metadata": {},
     "output_type": "execute_result"
    }
   ],
   "source": [
    "data_frame"
   ]
  },
  {
   "cell_type": "code",
   "execution_count": 7,
   "metadata": {},
   "outputs": [],
   "source": [
    "rate_of_return = (data_frame/data_frame.shift(1)) - 1"
   ]
  },
  {
   "cell_type": "code",
   "execution_count": 8,
   "metadata": {},
   "outputs": [
    {
     "data": {
      "text/html": [
       "<div>\n",
       "<style scoped>\n",
       "    .dataframe tbody tr th:only-of-type {\n",
       "        vertical-align: middle;\n",
       "    }\n",
       "\n",
       "    .dataframe tbody tr th {\n",
       "        vertical-align: top;\n",
       "    }\n",
       "\n",
       "    .dataframe thead th {\n",
       "        text-align: right;\n",
       "    }\n",
       "</style>\n",
       "<table border=\"1\" class=\"dataframe\">\n",
       "  <thead>\n",
       "    <tr style=\"text-align: right;\">\n",
       "      <th></th>\n",
       "      <th>GE</th>\n",
       "      <th>F</th>\n",
       "      <th>MSFT</th>\n",
       "      <th>AMZN</th>\n",
       "    </tr>\n",
       "    <tr>\n",
       "      <th>Date</th>\n",
       "      <th></th>\n",
       "      <th></th>\n",
       "      <th></th>\n",
       "      <th></th>\n",
       "    </tr>\n",
       "  </thead>\n",
       "  <tbody>\n",
       "    <tr>\n",
       "      <td>2001-01-02</td>\n",
       "      <td>NaN</td>\n",
       "      <td>NaN</td>\n",
       "      <td>NaN</td>\n",
       "      <td>NaN</td>\n",
       "    </tr>\n",
       "    <tr>\n",
       "      <td>2001-01-03</td>\n",
       "      <td>0.092857</td>\n",
       "      <td>0.033419</td>\n",
       "      <td>0.105187</td>\n",
       "      <td>0.265766</td>\n",
       "    </tr>\n",
       "    <tr>\n",
       "      <td>2001-01-04</td>\n",
       "      <td>0.005229</td>\n",
       "      <td>0.072139</td>\n",
       "      <td>0.010430</td>\n",
       "      <td>-0.117438</td>\n",
       "    </tr>\n",
       "    <tr>\n",
       "      <td>2001-01-05</td>\n",
       "      <td>-0.015605</td>\n",
       "      <td>-0.025522</td>\n",
       "      <td>0.014194</td>\n",
       "      <td>-0.060484</td>\n",
       "    </tr>\n",
       "    <tr>\n",
       "      <td>2001-01-08</td>\n",
       "      <td>-0.036988</td>\n",
       "      <td>-0.023809</td>\n",
       "      <td>-0.003817</td>\n",
       "      <td>0.025751</td>\n",
       "    </tr>\n",
       "    <tr>\n",
       "      <td>...</td>\n",
       "      <td>...</td>\n",
       "      <td>...</td>\n",
       "      <td>...</td>\n",
       "      <td>...</td>\n",
       "    </tr>\n",
       "    <tr>\n",
       "      <td>2019-11-20</td>\n",
       "      <td>-0.009565</td>\n",
       "      <td>-0.019101</td>\n",
       "      <td>-0.001735</td>\n",
       "      <td>-0.004142</td>\n",
       "    </tr>\n",
       "    <tr>\n",
       "      <td>2019-11-21</td>\n",
       "      <td>0.012291</td>\n",
       "      <td>-0.002291</td>\n",
       "      <td>-0.000936</td>\n",
       "      <td>-0.006199</td>\n",
       "    </tr>\n",
       "    <tr>\n",
       "      <td>2019-11-22</td>\n",
       "      <td>0.001735</td>\n",
       "      <td>0.020666</td>\n",
       "      <td>0.000736</td>\n",
       "      <td>0.006347</td>\n",
       "    </tr>\n",
       "    <tr>\n",
       "      <td>2019-11-25</td>\n",
       "      <td>0.002597</td>\n",
       "      <td>0.012373</td>\n",
       "      <td>0.010963</td>\n",
       "      <td>0.016108</td>\n",
       "    </tr>\n",
       "    <tr>\n",
       "      <td>2019-11-26</td>\n",
       "      <td>-0.013385</td>\n",
       "      <td>-0.004444</td>\n",
       "      <td>0.005092</td>\n",
       "      <td>0.009540</td>\n",
       "    </tr>\n",
       "  </tbody>\n",
       "</table>\n",
       "<p>4756 rows × 4 columns</p>\n",
       "</div>"
      ],
      "text/plain": [
       "                  GE         F      MSFT      AMZN\n",
       "Date                                              \n",
       "2001-01-02       NaN       NaN       NaN       NaN\n",
       "2001-01-03  0.092857  0.033419  0.105187  0.265766\n",
       "2001-01-04  0.005229  0.072139  0.010430 -0.117438\n",
       "2001-01-05 -0.015605 -0.025522  0.014194 -0.060484\n",
       "2001-01-08 -0.036988 -0.023809 -0.003817  0.025751\n",
       "...              ...       ...       ...       ...\n",
       "2019-11-20 -0.009565 -0.019101 -0.001735 -0.004142\n",
       "2019-11-21  0.012291 -0.002291 -0.000936 -0.006199\n",
       "2019-11-22  0.001735  0.020666  0.000736  0.006347\n",
       "2019-11-25  0.002597  0.012373  0.010963  0.016108\n",
       "2019-11-26 -0.013385 -0.004444  0.005092  0.009540\n",
       "\n",
       "[4756 rows x 4 columns]"
      ]
     },
     "execution_count": 8,
     "metadata": {},
     "output_type": "execute_result"
    }
   ],
   "source": [
    "rate_of_return\n"
   ]
  },
  {
   "cell_type": "code",
   "execution_count": 11,
   "metadata": {},
   "outputs": [],
   "source": [
    "annual_return = rate_of_return.mean() * 250"
   ]
  },
  {
   "cell_type": "code",
   "execution_count": 12,
   "metadata": {},
   "outputs": [
    {
     "data": {
      "text/plain": [
       "GE      0.010263\n",
       "F       0.062346\n",
       "MSFT    0.164708\n",
       "AMZN    0.369017\n",
       "dtype: float64"
      ]
     },
     "execution_count": 12,
     "metadata": {},
     "output_type": "execute_result"
    }
   ],
   "source": [
    "annual_return"
   ]
  },
  {
   "cell_type": "code",
   "execution_count": 17,
   "metadata": {},
   "outputs": [],
   "source": [
    "#calaulate the over all return for the portfolio \n",
    "weights = np.array([0.25,0.25,0.25,0.25])\n",
    "port_return = np.dot(rate_of_return.mean() * 250, weights)"
   ]
  },
  {
   "cell_type": "code",
   "execution_count": 18,
   "metadata": {},
   "outputs": [
    {
     "data": {
      "text/plain": [
       "0.1515834231233094"
      ]
     },
     "execution_count": 18,
     "metadata": {},
     "output_type": "execute_result"
    }
   ],
   "source": [
    "port_return"
   ]
  },
  {
   "cell_type": "code",
   "execution_count": 19,
   "metadata": {},
   "outputs": [
    {
     "data": {
      "text/plain": [
       "' The total return for the portfolio for the period is 15.15834231233094 %'"
      ]
     },
     "execution_count": 19,
     "metadata": {},
     "output_type": "execute_result"
    }
   ],
   "source": [
    "port_return_summary = (f\" The total return for the portfolio for the period is {port_return * 100} %\")\n",
    "port_return_summary"
   ]
  },
  {
   "cell_type": "code",
   "execution_count": null,
   "metadata": {},
   "outputs": [],
   "source": []
  }
 ],
 "metadata": {
  "kernelspec": {
   "display_name": "Python 3",
   "language": "python",
   "name": "python3"
  },
  "language_info": {
   "codemirror_mode": {
    "name": "ipython",
    "version": 3
   },
   "file_extension": ".py",
   "mimetype": "text/x-python",
   "name": "python",
   "nbconvert_exporter": "python",
   "pygments_lexer": "ipython3",
   "version": "3.7.4"
  }
 },
 "nbformat": 4,
 "nbformat_minor": 2
}
