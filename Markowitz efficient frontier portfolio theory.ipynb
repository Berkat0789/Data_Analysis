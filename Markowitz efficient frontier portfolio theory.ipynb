{
 "cells": [
  {
   "cell_type": "markdown",
   "metadata": {},
   "source": [
    "Markowitz efficient frontier states investors should consider multiple securties in a portfolio rather than individually. A portfolio that contains combination of securties with low correlation can benefit from a diversificaiton effect. Meaning investors can optimize their return without assuming additional risk. Markowitz "
   ]
  },
  {
   "cell_type": "code",
   "execution_count": null,
   "metadata": {},
   "outputs": [],
   "source": []
  },
  {
   "cell_type": "markdown",
   "metadata": {},
   "source": [
    "We will consider 6 portfolios containing 2 of the same securties but weighted differently to test this theory. Assuming the following the expected return for one secirity is \"Chipolte [\"CMG\"]\" 7% and the other is 8% Facebook[\"FB\"]. We will base our analysis from 2007to current. "
   ]
  },
  {
   "cell_type": "markdown",
   "metadata": {},
   "source": [
    "We will need to test the correlation of the two stocks first to see if they will belefit from a diversification effect"
   ]
  },
  {
   "cell_type": "code",
   "execution_count": null,
   "metadata": {},
   "outputs": [],
   "source": []
  },
  {
   "cell_type": "code",
   "execution_count": 1,
   "metadata": {},
   "outputs": [],
   "source": [
    "import pandas as pd \n",
    "import numpy as np \n",
    "from pandas_datareader import data as web\n",
    "import matplotlib.pyplot as plt"
   ]
  },
  {
   "cell_type": "code",
   "execution_count": null,
   "metadata": {},
   "outputs": [],
   "source": []
  },
  {
   "cell_type": "code",
   "execution_count": 2,
   "metadata": {},
   "outputs": [],
   "source": [
    "#get data for companies\n",
    "port_Companies = [\"FB\", \"CMG\"]\n",
    "port_data = pd.DataFrame()\n",
    "for t in port_Companies:\n",
    "    port_data[t] = web.DataReader(t, data_source = \"yahoo\", start = \"2007-1-1\")[\"Adj Close\"]"
   ]
  },
  {
   "cell_type": "code",
   "execution_count": 3,
   "metadata": {},
   "outputs": [
    {
     "name": "stdout",
     "output_type": "stream",
     "text": [
      "<class 'pandas.core.frame.DataFrame'>\n",
      "DatetimeIndex: 1896 entries, 2012-05-18 to 2019-11-29\n",
      "Data columns (total 2 columns):\n",
      "FB     1896 non-null float64\n",
      "CMG    1896 non-null float64\n",
      "dtypes: float64(2)\n",
      "memory usage: 44.4 KB\n"
     ]
    }
   ],
   "source": [
    "#data points review -> data collected for 3752 days. Which matches for both securties\n",
    "port_data.info()"
   ]
  },
  {
   "cell_type": "code",
   "execution_count": 4,
   "metadata": {},
   "outputs": [
    {
     "data": {
      "text/html": [
       "<div>\n",
       "<style scoped>\n",
       "    .dataframe tbody tr th:only-of-type {\n",
       "        vertical-align: middle;\n",
       "    }\n",
       "\n",
       "    .dataframe tbody tr th {\n",
       "        vertical-align: top;\n",
       "    }\n",
       "\n",
       "    .dataframe thead th {\n",
       "        text-align: right;\n",
       "    }\n",
       "</style>\n",
       "<table border=\"1\" class=\"dataframe\">\n",
       "  <thead>\n",
       "    <tr style=\"text-align: right;\">\n",
       "      <th></th>\n",
       "      <th>FB</th>\n",
       "      <th>CMG</th>\n",
       "    </tr>\n",
       "    <tr>\n",
       "      <th>Date</th>\n",
       "      <th></th>\n",
       "      <th></th>\n",
       "    </tr>\n",
       "  </thead>\n",
       "  <tbody>\n",
       "    <tr>\n",
       "      <th>2019-11-22</th>\n",
       "      <td>198.820007</td>\n",
       "      <td>772.609985</td>\n",
       "    </tr>\n",
       "    <tr>\n",
       "      <th>2019-11-25</th>\n",
       "      <td>199.789993</td>\n",
       "      <td>786.510010</td>\n",
       "    </tr>\n",
       "    <tr>\n",
       "      <th>2019-11-26</th>\n",
       "      <td>198.970001</td>\n",
       "      <td>815.840027</td>\n",
       "    </tr>\n",
       "    <tr>\n",
       "      <th>2019-11-27</th>\n",
       "      <td>202.000000</td>\n",
       "      <td>816.750000</td>\n",
       "    </tr>\n",
       "    <tr>\n",
       "      <th>2019-11-29</th>\n",
       "      <td>201.639999</td>\n",
       "      <td>813.919983</td>\n",
       "    </tr>\n",
       "  </tbody>\n",
       "</table>\n",
       "</div>"
      ],
      "text/plain": [
       "                    FB         CMG\n",
       "Date                              \n",
       "2019-11-22  198.820007  772.609985\n",
       "2019-11-25  199.789993  786.510010\n",
       "2019-11-26  198.970001  815.840027\n",
       "2019-11-27  202.000000  816.750000\n",
       "2019-11-29  201.639999  813.919983"
      ]
     },
     "execution_count": 4,
     "metadata": {},
     "output_type": "execute_result"
    }
   ],
   "source": [
    "#see the adj close for the last 5 days \n",
    "port_data.tail()"
   ]
  },
  {
   "cell_type": "code",
   "execution_count": null,
   "metadata": {},
   "outputs": [],
   "source": []
  },
  {
   "cell_type": "markdown",
   "metadata": {},
   "source": [
    "we will look at the correlation between both securties and to see if they will benefit from the diversification effect proposed my markowitz"
   ]
  },
  {
   "cell_type": "code",
   "execution_count": 5,
   "metadata": {},
   "outputs": [
    {
     "data": {
      "text/html": [
       "<div>\n",
       "<style scoped>\n",
       "    .dataframe tbody tr th:only-of-type {\n",
       "        vertical-align: middle;\n",
       "    }\n",
       "\n",
       "    .dataframe tbody tr th {\n",
       "        vertical-align: top;\n",
       "    }\n",
       "\n",
       "    .dataframe thead th {\n",
       "        text-align: right;\n",
       "    }\n",
       "</style>\n",
       "<table border=\"1\" class=\"dataframe\">\n",
       "  <thead>\n",
       "    <tr style=\"text-align: right;\">\n",
       "      <th></th>\n",
       "      <th>FB</th>\n",
       "      <th>CMG</th>\n",
       "    </tr>\n",
       "  </thead>\n",
       "  <tbody>\n",
       "    <tr>\n",
       "      <th>FB</th>\n",
       "      <td>1.000000</td>\n",
       "      <td>0.196491</td>\n",
       "    </tr>\n",
       "    <tr>\n",
       "      <th>CMG</th>\n",
       "      <td>0.196491</td>\n",
       "      <td>1.000000</td>\n",
       "    </tr>\n",
       "  </tbody>\n",
       "</table>\n",
       "</div>"
      ],
      "text/plain": [
       "           FB       CMG\n",
       "FB   1.000000  0.196491\n",
       "CMG  0.196491  1.000000"
      ]
     },
     "execution_count": 5,
     "metadata": {},
     "output_type": "execute_result"
    }
   ],
   "source": [
    "port_data.corr()"
   ]
  },
  {
   "cell_type": "markdown",
   "metadata": {},
   "source": [
    "There is a 19% correlation between Chipolte and Facebook. Though there is some correlation, it is low enough to belefit from the diversificaiton effect proposed by Markowitz. to Test this theory we will set up 6 different portfolios containing the same securties but weighted differently. "
   ]
  },
  {
   "cell_type": "code",
   "execution_count": 6,
   "metadata": {},
   "outputs": [],
   "source": [
    "weights_1 = np.array([1.0, 0.0])\n",
    "weights_2 = np.array([0.8, 0.2])\n",
    "weights_3 = np.array([0.6, 0.4])\n",
    "weights_4 = np.array([0.4, 0.6])\n",
    "weights_5 = np.array([0.2, 0.8])\n",
    "weights_6 = np.array([0.0, 1.0])"
   ]
  },
  {
   "cell_type": "code",
   "execution_count": 7,
   "metadata": {},
   "outputs": [],
   "source": [
    "expected_return_FB = 0.08\n",
    "expected_return_CMG = 0.07"
   ]
  },
  {
   "cell_type": "code",
   "execution_count": 8,
   "metadata": {},
   "outputs": [],
   "source": [
    "#lets calculate the simple returns for each secutity\n",
    "simple_return  = (port_data/port_data.shift(1)) -1 "
   ]
  },
  {
   "cell_type": "code",
   "execution_count": 9,
   "metadata": {},
   "outputs": [
    {
     "data": {
      "text/html": [
       "<div>\n",
       "<style scoped>\n",
       "    .dataframe tbody tr th:only-of-type {\n",
       "        vertical-align: middle;\n",
       "    }\n",
       "\n",
       "    .dataframe tbody tr th {\n",
       "        vertical-align: top;\n",
       "    }\n",
       "\n",
       "    .dataframe thead th {\n",
       "        text-align: right;\n",
       "    }\n",
       "</style>\n",
       "<table border=\"1\" class=\"dataframe\">\n",
       "  <thead>\n",
       "    <tr style=\"text-align: right;\">\n",
       "      <th></th>\n",
       "      <th>FB</th>\n",
       "      <th>CMG</th>\n",
       "    </tr>\n",
       "    <tr>\n",
       "      <th>Date</th>\n",
       "      <th></th>\n",
       "      <th></th>\n",
       "    </tr>\n",
       "  </thead>\n",
       "  <tbody>\n",
       "    <tr>\n",
       "      <th>2019-11-22</th>\n",
       "      <td>0.004497</td>\n",
       "      <td>-0.001099</td>\n",
       "    </tr>\n",
       "    <tr>\n",
       "      <th>2019-11-25</th>\n",
       "      <td>0.004879</td>\n",
       "      <td>0.017991</td>\n",
       "    </tr>\n",
       "    <tr>\n",
       "      <th>2019-11-26</th>\n",
       "      <td>-0.004104</td>\n",
       "      <td>0.037291</td>\n",
       "    </tr>\n",
       "    <tr>\n",
       "      <th>2019-11-27</th>\n",
       "      <td>0.015228</td>\n",
       "      <td>0.001115</td>\n",
       "    </tr>\n",
       "    <tr>\n",
       "      <th>2019-11-29</th>\n",
       "      <td>-0.001782</td>\n",
       "      <td>-0.003465</td>\n",
       "    </tr>\n",
       "  </tbody>\n",
       "</table>\n",
       "</div>"
      ],
      "text/plain": [
       "                  FB       CMG\n",
       "Date                          \n",
       "2019-11-22  0.004497 -0.001099\n",
       "2019-11-25  0.004879  0.017991\n",
       "2019-11-26 -0.004104  0.037291\n",
       "2019-11-27  0.015228  0.001115\n",
       "2019-11-29 -0.001782 -0.003465"
      ]
     },
     "execution_count": 9,
     "metadata": {},
     "output_type": "execute_result"
    }
   ],
   "source": [
    "simple_return.tail()"
   ]
  },
  {
   "cell_type": "markdown",
   "metadata": {},
   "source": [
    "This reflects the daily changes for each security in the portfolio. We will use this to calculate the volatility of each security "
   ]
  },
  {
   "cell_type": "code",
   "execution_count": 10,
   "metadata": {},
   "outputs": [
    {
     "name": "stdout",
     "output_type": "stream",
     "text": [
      "Facebook volatility for the given peroid is 36.199999999999996 %\n"
     ]
    }
   ],
   "source": [
    "FB_Vol = (simple_return[\"FB\"].var() * 250) ** 0.5\n",
    "print(f\"Facebook volatility for the given peroid is {round(FB_Vol, 3) * 100} %\")"
   ]
  },
  {
   "cell_type": "code",
   "execution_count": 11,
   "metadata": {},
   "outputs": [
    {
     "name": "stdout",
     "output_type": "stream",
     "text": [
      "Chipolte volatility for the given peroid is 33.7 %\n"
     ]
    }
   ],
   "source": [
    "CMG_Vol = (simple_return[\"CMG\"].var() * 250) ** 0.5\n",
    "print(f\"Chipolte volatility for the given peroid is {round(CMG_Vol, 3) * 100} %\")"
   ]
  },
  {
   "cell_type": "markdown",
   "metadata": {},
   "source": []
  },
  {
   "cell_type": "markdown",
   "metadata": {},
   "source": [
    "We will calculate the expected retrun for the portfolio using the expected return and the weights"
   ]
  },
  {
   "cell_type": "code",
   "execution_count": 12,
   "metadata": {},
   "outputs": [],
   "source": [
    "allPortSTd = []"
   ]
  },
  {
   "cell_type": "code",
   "execution_count": 13,
   "metadata": {},
   "outputs": [],
   "source": [
    "allPortER = []"
   ]
  },
  {
   "cell_type": "code",
   "execution_count": 14,
   "metadata": {},
   "outputs": [
    {
     "name": "stdout",
     "output_type": "stream",
     "text": [
      "Expected return for portfolio 1 is 8.0 %\n"
     ]
    }
   ],
   "source": [
    "port_1_ER = (expected_return_FB * weights_1[0]) + (expected_return_CMG * weights_1[1])\n",
    "allPortER.append(port_1_ER)\n",
    "print(f\"Expected return for portfolio 1 is {port_1_ER * 100} %\")"
   ]
  },
  {
   "cell_type": "code",
   "execution_count": 15,
   "metadata": {},
   "outputs": [
    {
     "name": "stdout",
     "output_type": "stream",
     "text": [
      "Standard deviation of portfolio 1 is 36.0\n"
     ]
    }
   ],
   "source": [
    "std_port_1 = np.dot(weights_1.T, np.dot(simple_return.cov() * 250, weights_1)) ** 0.5\n",
    "allPortSTd.append(std_port_1)\n",
    "print(f\"Standard deviation of portfolio 1 is {round(std_port_1, 2) * 100}\")"
   ]
  },
  {
   "cell_type": "code",
   "execution_count": 16,
   "metadata": {},
   "outputs": [
    {
     "name": "stdout",
     "output_type": "stream",
     "text": [
      "Expected return for portfolio 2 is 7.8 %\n"
     ]
    }
   ],
   "source": [
    "port_2_ER = (expected_return_FB * weights_2[0]) + (expected_return_CMG * weights_2[1])\n",
    "allPortER.append(port_2_ER)\n",
    "print(f\"Expected return for portfolio 2 is {port_2_ER * 100} %\")"
   ]
  },
  {
   "cell_type": "code",
   "execution_count": 17,
   "metadata": {},
   "outputs": [
    {
     "name": "stdout",
     "output_type": "stream",
     "text": [
      "Standard devation of port 2 is 31.0\n"
     ]
    }
   ],
   "source": [
    "std_port_2 = np.dot(weights_2.T, np.dot(simple_return.cov() * 250, weights_2)) ** 0.5\n",
    "allPortSTd.append(std_port_2)\n",
    "print(f\"Standard devation of port 2 is {round(std_port_2, 2) * 100}\")"
   ]
  },
  {
   "cell_type": "code",
   "execution_count": 18,
   "metadata": {},
   "outputs": [
    {
     "name": "stdout",
     "output_type": "stream",
     "text": [
      "the expected return for port 3 is 7.6\n"
     ]
    }
   ],
   "source": [
    "port_3_ER = (expected_return_FB * weights_3[0]) + (expected_return_CMG * weights_3[1])\n",
    "allPortER.append(port_3_ER\n",
    "                )\n",
    "print(f\"the expected return for port 3 is {round(port_3_ER, 3) * 100}\")"
   ]
  },
  {
   "cell_type": "code",
   "execution_count": 19,
   "metadata": {},
   "outputs": [
    {
     "name": "stdout",
     "output_type": "stream",
     "text": [
      "The stadard deviation od port 3 is 27.526991894428743\n"
     ]
    }
   ],
   "source": [
    "std_port3 = np.dot(weights_3.T, np.dot(simple_return.cov() * 250, weights_3)) ** 0.5\n",
    "allPortSTd.append(std_port3)\n",
    "print(f\"The stadard deviation od port 3 is {std_port3 * 100}\")"
   ]
  },
  {
   "cell_type": "code",
   "execution_count": 20,
   "metadata": {},
   "outputs": [
    {
     "name": "stdout",
     "output_type": "stream",
     "text": [
      "The Expected return for port 4 is 7.400000000000001\n"
     ]
    }
   ],
   "source": [
    "port_4_ER = (expected_return_FB * weights_4[0]) + (expected_return_CMG * weights_4[1])\n",
    "allPortER.append(port_4_ER)\n",
    "print(f\"The Expected return for port 4 is {port_4_ER * 100}\")"
   ]
  },
  {
   "cell_type": "code",
   "execution_count": 21,
   "metadata": {},
   "outputs": [
    {
     "name": "stdout",
     "output_type": "stream",
     "text": [
      "The standart deviation for port 4 is 26.89089327695547\n"
     ]
    }
   ],
   "source": [
    "std_port_4 = np.dot(weights_4.T, np.dot(simple_return.cov() * 250 , weights_4)) ** 0.5\n",
    "allPortSTd.append(std_port_4)\n",
    "print(f\"The standart deviation for port 4 is {std_port_4 * 100}\")"
   ]
  },
  {
   "cell_type": "code",
   "execution_count": 22,
   "metadata": {},
   "outputs": [
    {
     "name": "stdout",
     "output_type": "stream",
     "text": [
      "THe expected return for port 5 is 7.200000000000001\n"
     ]
    }
   ],
   "source": [
    "port_5_Er = (expected_return_FB * weights_5[0]) + (expected_return_CMG * weights_5[1])\n",
    "allPortER.append(port_5_Er)\n",
    "print(f\"THe expected return for port 5 is {port_5_Er * 100}\")"
   ]
  },
  {
   "cell_type": "code",
   "execution_count": 23,
   "metadata": {},
   "outputs": [
    {
     "name": "stdout",
     "output_type": "stream",
     "text": [
      "The Std of port 5 is 29.13984446437871\n"
     ]
    }
   ],
   "source": [
    "std_port_5 = np.dot(weights_5.T, np.dot(simple_return.cov() * 250 , weights_5)) ** 0.5\n",
    "allPortSTd.append(std_port_5)\n",
    "print(f\"The Std of port 5 is {std_port_5 * 100}\")"
   ]
  },
  {
   "cell_type": "code",
   "execution_count": 24,
   "metadata": {},
   "outputs": [
    {
     "name": "stdout",
     "output_type": "stream",
     "text": [
      "The expected return for port 6 is 7.000000000000001\n"
     ]
    }
   ],
   "source": [
    "port_6_ER = (expected_return_FB * weights_6[0]) + (expected_return_CMG * weights_6[1])\n",
    "allPortER.append(port_6_ER)\n",
    "print(f\"The expected return for port 6 is {port_6_ER * 100}\")"
   ]
  },
  {
   "cell_type": "code",
   "execution_count": 25,
   "metadata": {},
   "outputs": [
    {
     "name": "stdout",
     "output_type": "stream",
     "text": [
      "The standard deviation for port 6 is 30.85923065179521\n"
     ]
    }
   ],
   "source": [
    "std_port_6 = np.dot(weights_5.T, np.dot(simple_return.cov() * 250 , weights_6)) ** 0.5\n",
    "allPortSTd.append(std_port_6)\n",
    "print(f\"The standard deviation for port 6 is {std_port_6 * 100}\")"
   ]
  },
  {
   "cell_type": "code",
   "execution_count": 26,
   "metadata": {},
   "outputs": [
    {
     "name": "stdout",
     "output_type": "stream",
     "text": [
      "[0.08, 0.078, 0.07600000000000001, 0.07400000000000001, 0.07200000000000001, 0.07]\n"
     ]
    }
   ],
   "source": [
    "print(allPortER)"
   ]
  },
  {
   "cell_type": "code",
   "execution_count": 27,
   "metadata": {},
   "outputs": [
    {
     "name": "stdout",
     "output_type": "stream",
     "text": [
      "[0.361779238334561, 0.3087030871206495, 0.27526991894428743, 0.2689089327695547, 0.2913984446437871, 0.3085923065179521]\n"
     ]
    }
   ],
   "source": [
    "print(allPortSTd)"
   ]
  },
  {
   "cell_type": "code",
   "execution_count": 28,
   "metadata": {},
   "outputs": [],
   "source": [
    "# LEts plot these on a scatter plot to get a visual of Markowitz theory"
   ]
  },
  {
   "cell_type": "code",
   "execution_count": 29,
   "metadata": {
    "scrolled": false
   },
   "outputs": [
    {
     "data": {
      "image/png": "[encoded data removed]",
      "text/plain": [
       "<Figure size 1152x576 with 1 Axes>"
      ]
     },
     "metadata": {
      "needs_background": "light"
     },
     "output_type": "display_data"
    }
   ],
   "source": [
    "plt.figure(figsize= (16,8))\n",
    "plt.scatter(allPortSTd, allPortER, label = \"Data\")\n",
    "plt.xlabel(\"Standard Deviation\")\n",
    "plt.ylabel(\"Expected Return\")\n",
    "plt.title(\"Markowitz Efficient Portfolio Theory\")\n",
    "plt.legend()\n",
    "plt.show()"
   ]
  },
  {
   "cell_type": "markdown",
   "metadata": {},
   "source": [
    "The x_Axis will contain the risk of each portfolio and the y_axis will contain the expected return for each portfolio. This provides you the typical shape of a markowitz efficient frontier. There a a set of effieicnet portfolios that can provide a hight expected rate or return for the same or lower amount of risk. This is the \"EFFIEICENT PORTFOLIO\". The Frontier starting point is the minimum variance portfolio. The Lowest risk an investor could bare. "
   ]
  },
  {
   "cell_type": "code",
   "execution_count": null,
   "metadata": {},
   "outputs": [],
   "source": []
  },
  {
   "cell_type": "code",
   "execution_count": null,
   "metadata": {},
   "outputs": [],
   "source": []
  },
  {
   "cell_type": "code",
   "execution_count": null,
   "metadata": {},
   "outputs": [],
   "source": []
  }
 ],
 "metadata": {
  "kernelspec": {
   "display_name": "Python 3",
   "language": "python",
   "name": "python3"
  },
  "language_info": {
   "codemirror_mode": {
    "name": "ipython",
    "version": 3
   },
   "file_extension": ".py",
   "mimetype": "text/x-python",
   "name": "python",
   "nbconvert_exporter": "python",
   "pygments_lexer": "ipython3",
   "version": "3.7.1"
  }
 },
 "nbformat": 4,
 "nbformat_minor": 2
}
