{
 "cells": [
  {
   "cell_type": "code",
   "execution_count": 6,
   "metadata": {},
   "outputs": [],
   "source": [
    "import pandas as pd\n",
    "import numpy as np\n",
    "import matplotlib.pyplot as plt"
   ]
  },
  {
   "cell_type": "code",
   "execution_count": 4,
   "metadata": {},
   "outputs": [],
   "source": [
    "data_Set = pd.read_csv(\"gun-violence-data_01-2013_03-2018.csv\", index_col=\"date\", parse_dates=True)"
   ]
  },
  {
   "cell_type": "code",
   "execution_count": 119,
   "metadata": {},
   "outputs": [],
   "source": [
    "massShootings = pd.read_csv(\"mass_shootings_all.csv\")"
   ]
  },
  {
   "cell_type": "code",
   "execution_count": null,
   "metadata": {},
   "outputs": [],
   "source": []
  },
  {
   "cell_type": "markdown",
   "metadata": {},
   "source": []
  },
  {
   "cell_type": "code",
   "execution_count": null,
   "metadata": {},
   "outputs": [],
   "source": []
  },
  {
   "cell_type": "code",
   "execution_count": 7,
   "metadata": {},
   "outputs": [
    {
     "name": "stdout",
     "output_type": "stream",
     "text": [
      "<class 'pandas.core.frame.DataFrame'>\n",
      "DatetimeIndex: 239677 entries, 2013-01-01 to 2018-03-31\n",
      "Data columns (total 28 columns):\n",
      "incident_id                    239677 non-null int64\n",
      "state                          239677 non-null object\n",
      "city_or_county                 239677 non-null object\n",
      "address                        223180 non-null object\n",
      "n_killed                       239677 non-null int64\n",
      "n_injured                      239677 non-null int64\n",
      "incident_url                   239677 non-null object\n",
      "source_url                     239209 non-null object\n",
      "incident_url_fields_missing    239677 non-null bool\n",
      "congressional_district         227733 non-null float64\n",
      "gun_stolen                     140179 non-null object\n",
      "gun_type                       140226 non-null object\n",
      "incident_characteristics       239351 non-null object\n",
      "latitude                       231754 non-null float64\n",
      "location_description           42089 non-null object\n",
      "longitude                      231754 non-null float64\n",
      "n_guns_involved                140226 non-null float64\n",
      "notes                          158660 non-null object\n",
      "participant_age                147379 non-null object\n",
      "participant_age_group          197558 non-null object\n",
      "participant_gender             203315 non-null object\n",
      "participant_name               117424 non-null object\n",
      "participant_relationship       15774 non-null object\n",
      "participant_status             212051 non-null object\n",
      "participant_type               214814 non-null object\n",
      "sources                        239068 non-null object\n",
      "state_house_district           200905 non-null float64\n",
      "state_senate_district          207342 non-null float64\n",
      "dtypes: bool(1), float64(6), int64(3), object(18)\n",
      "memory usage: 51.4+ MB\n"
     ]
    }
   ],
   "source": [
    "data_Set.info()"
   ]
  },
  {
   "cell_type": "markdown",
   "metadata": {},
   "source": [
    "### Data shows the results of gun violence in the United States from 2013 to 2018. So the last 5 years. We will analyze the shooting to try to determine what patterns we can see in the data"
   ]
  },
  {
   "cell_type": "markdown",
   "metadata": {},
   "source": [
    "____"
   ]
  },
  {
   "cell_type": "markdown",
   "metadata": {},
   "source": [
    "#### WE wil start with New Jersey"
   ]
  },
  {
   "cell_type": "code",
   "execution_count": 29,
   "metadata": {},
   "outputs": [
    {
     "data": {
      "text/plain": [
       "<matplotlib.axes._subplots.AxesSubplot at 0x121539cd0>"
      ]
     },
     "execution_count": 29,
     "metadata": {},
     "output_type": "execute_result"
    },
    {
     "data": {
      "image/png": "[encoded data removed]",
      "text/plain": [
       "<Figure size 1152x720 with 1 Axes>"
      ]
     },
     "metadata": {
      "needs_background": "light"
     },
     "output_type": "display_data"
    }
   ],
   "source": [
    "data_Set[(data_Set[\"state\"] == \"New Jersey\")][[\"n_killed\",\"n_injured\"]].plot(kind = \"box\", figsize  = (16,10))"
   ]
  },
  {
   "cell_type": "markdown",
   "metadata": {},
   "source": [
    "### From the data set we can that there was a shooting in NJ that had 6 people injured and another or the same that may have 4 casualties. Lets find out the state and the city this occurred and a bit about the incident"
   ]
  },
  {
   "cell_type": "code",
   "execution_count": 39,
   "metadata": {},
   "outputs": [],
   "source": [
    "nj_shootings = data_Set[(data_Set[\"state\"] == \"New Jersey\")]"
   ]
  },
  {
   "cell_type": "code",
   "execution_count": 40,
   "metadata": {},
   "outputs": [
    {
     "data": {
      "text/plain": [
       "Timestamp('2014-06-09 00:00:00')"
      ]
     },
     "execution_count": 40,
     "metadata": {},
     "output_type": "execute_result"
    }
   ],
   "source": [
    "nj_shootings[\"n_injured\"].idxmax()"
   ]
  },
  {
   "cell_type": "code",
   "execution_count": 54,
   "metadata": {},
   "outputs": [
    {
     "data": {
      "text/html": [
       "<div>\n",
       "<style scoped>\n",
       "    .dataframe tbody tr th:only-of-type {\n",
       "        vertical-align: middle;\n",
       "    }\n",
       "\n",
       "    .dataframe tbody tr th {\n",
       "        vertical-align: top;\n",
       "    }\n",
       "\n",
       "    .dataframe thead th {\n",
       "        text-align: right;\n",
       "    }\n",
       "</style>\n",
       "<table border=\"1\" class=\"dataframe\">\n",
       "  <thead>\n",
       "    <tr style=\"text-align: right;\">\n",
       "      <th></th>\n",
       "      <th>incident_id</th>\n",
       "      <th>state</th>\n",
       "      <th>city_or_county</th>\n",
       "      <th>address</th>\n",
       "      <th>n_killed</th>\n",
       "      <th>n_injured</th>\n",
       "      <th>incident_url</th>\n",
       "      <th>source_url</th>\n",
       "      <th>incident_url_fields_missing</th>\n",
       "      <th>congressional_district</th>\n",
       "      <th>...</th>\n",
       "      <th>participant_age</th>\n",
       "      <th>participant_age_group</th>\n",
       "      <th>participant_gender</th>\n",
       "      <th>participant_name</th>\n",
       "      <th>participant_relationship</th>\n",
       "      <th>participant_status</th>\n",
       "      <th>participant_type</th>\n",
       "      <th>sources</th>\n",
       "      <th>state_house_district</th>\n",
       "      <th>state_senate_district</th>\n",
       "    </tr>\n",
       "    <tr>\n",
       "      <th>date</th>\n",
       "      <th></th>\n",
       "      <th></th>\n",
       "      <th></th>\n",
       "      <th></th>\n",
       "      <th></th>\n",
       "      <th></th>\n",
       "      <th></th>\n",
       "      <th></th>\n",
       "      <th></th>\n",
       "      <th></th>\n",
       "      <th></th>\n",
       "      <th></th>\n",
       "      <th></th>\n",
       "      <th></th>\n",
       "      <th></th>\n",
       "      <th></th>\n",
       "      <th></th>\n",
       "      <th></th>\n",
       "      <th></th>\n",
       "      <th></th>\n",
       "      <th></th>\n",
       "    </tr>\n",
       "  </thead>\n",
       "  <tbody>\n",
       "    <tr>\n",
       "      <td>2014-06-09</td>\n",
       "      <td>156245</td>\n",
       "      <td>New Jersey</td>\n",
       "      <td>Paterson</td>\n",
       "      <td>Rosa Parks Boulevard and Godwin Avenue</td>\n",
       "      <td>0</td>\n",
       "      <td>6</td>\n",
       "      <td>http://www.gunviolencearchive.org/incident/156245</td>\n",
       "      <td>http://www.nj.com/passaic-county/index.ssf/201...</td>\n",
       "      <td>False</td>\n",
       "      <td>9.0</td>\n",
       "      <td>...</td>\n",
       "      <td>0::17||1::45||2::18||3::61||4::18||5::24||6::21</td>\n",
       "      <td>0::Teen 12-17||1::Adult 18+||2::Adult 18+||3::...</td>\n",
       "      <td>0::Male||1::Female||2::Female||3::Male||4::Mal...</td>\n",
       "      <td>6::Delshawn Lowery</td>\n",
       "      <td>NaN</td>\n",
       "      <td>0::Injured||1::Injured||2::Injured||3::Injured...</td>\n",
       "      <td>0::Victim||1::Victim||2::Victim||3::Victim||4:...</td>\n",
       "      <td>http://www.nj.com/passaic-county/index.ssf/201...</td>\n",
       "      <td>35.0</td>\n",
       "      <td>35.0</td>\n",
       "    </tr>\n",
       "  </tbody>\n",
       "</table>\n",
       "<p>1 rows × 28 columns</p>\n",
       "</div>"
      ],
      "text/plain": [
       "            incident_id       state city_or_county  \\\n",
       "date                                                 \n",
       "2014-06-09       156245  New Jersey       Paterson   \n",
       "\n",
       "                                           address  n_killed  n_injured  \\\n",
       "date                                                                      \n",
       "2014-06-09  Rosa Parks Boulevard and Godwin Avenue         0          6   \n",
       "\n",
       "                                                 incident_url  \\\n",
       "date                                                            \n",
       "2014-06-09  http://www.gunviolencearchive.org/incident/156245   \n",
       "\n",
       "                                                   source_url  \\\n",
       "date                                                            \n",
       "2014-06-09  http://www.nj.com/passaic-county/index.ssf/201...   \n",
       "\n",
       "            incident_url_fields_missing  congressional_district  ...  \\\n",
       "date                                                             ...   \n",
       "2014-06-09                        False                     9.0  ...   \n",
       "\n",
       "                                            participant_age  \\\n",
       "date                                                          \n",
       "2014-06-09  0::17||1::45||2::18||3::61||4::18||5::24||6::21   \n",
       "\n",
       "                                        participant_age_group  \\\n",
       "date                                                            \n",
       "2014-06-09  0::Teen 12-17||1::Adult 18+||2::Adult 18+||3::...   \n",
       "\n",
       "                                           participant_gender  \\\n",
       "date                                                            \n",
       "2014-06-09  0::Male||1::Female||2::Female||3::Male||4::Mal...   \n",
       "\n",
       "              participant_name participant_relationship  \\\n",
       "date                                                      \n",
       "2014-06-09  6::Delshawn Lowery                      NaN   \n",
       "\n",
       "                                           participant_status  \\\n",
       "date                                                            \n",
       "2014-06-09  0::Injured||1::Injured||2::Injured||3::Injured...   \n",
       "\n",
       "                                             participant_type  \\\n",
       "date                                                            \n",
       "2014-06-09  0::Victim||1::Victim||2::Victim||3::Victim||4:...   \n",
       "\n",
       "                                                      sources  \\\n",
       "date                                                            \n",
       "2014-06-09  http://www.nj.com/passaic-county/index.ssf/201...   \n",
       "\n",
       "           state_house_district state_senate_district  \n",
       "date                                                   \n",
       "2014-06-09                 35.0                  35.0  \n",
       "\n",
       "[1 rows x 28 columns]"
      ]
     },
     "execution_count": 54,
     "metadata": {},
     "output_type": "execute_result"
    }
   ],
   "source": [
    "nj_shootings.loc[\"2014-06-09\"].sort_values(\"n_injured\", ascending = False).head(1)"
   ]
  },
  {
   "cell_type": "markdown",
   "metadata": {},
   "source": [
    "### we learn here that there were 6 people injurred in a shooting in Patterson on 2014-06-09 on Rosa Parks bulvd and Goodwin Avenue by Dashawn Lawery the good news is that no one was killed. "
   ]
  },
  {
   "cell_type": "markdown",
   "metadata": {},
   "source": [
    "______"
   ]
  },
  {
   "cell_type": "markdown",
   "metadata": {},
   "source": [
    "### Lets find the incidents that resulted in the most casualities in new jersey and where it/they took place"
   ]
  },
  {
   "cell_type": "code",
   "execution_count": 60,
   "metadata": {},
   "outputs": [
    {
     "data": {
      "text/plain": [
       "date\n",
       "2015-09-01    4\n",
       "2017-12-31    4\n",
       "2014-11-20    4\n",
       "2014-09-03    3\n",
       "2016-06-01    3\n",
       "Name: n_killed, dtype: int64"
      ]
     },
     "execution_count": 60,
     "metadata": {},
     "output_type": "execute_result"
    }
   ],
   "source": [
    "nj_shootings[\"n_killed\"].sort_values(ascending = False).head()"
   ]
  },
  {
   "cell_type": "code",
   "execution_count": 74,
   "metadata": {},
   "outputs": [
    {
     "data": {
      "text/html": [
       "<div>\n",
       "<style scoped>\n",
       "    .dataframe tbody tr th:only-of-type {\n",
       "        vertical-align: middle;\n",
       "    }\n",
       "\n",
       "    .dataframe tbody tr th {\n",
       "        vertical-align: top;\n",
       "    }\n",
       "\n",
       "    .dataframe thead th {\n",
       "        text-align: right;\n",
       "    }\n",
       "</style>\n",
       "<table border=\"1\" class=\"dataframe\">\n",
       "  <thead>\n",
       "    <tr style=\"text-align: right;\">\n",
       "      <th></th>\n",
       "      <th>incident_id</th>\n",
       "      <th>state</th>\n",
       "      <th>city_or_county</th>\n",
       "      <th>address</th>\n",
       "      <th>n_killed</th>\n",
       "      <th>n_injured</th>\n",
       "      <th>incident_url</th>\n",
       "      <th>source_url</th>\n",
       "      <th>incident_url_fields_missing</th>\n",
       "      <th>congressional_district</th>\n",
       "      <th>...</th>\n",
       "      <th>participant_age</th>\n",
       "      <th>participant_age_group</th>\n",
       "      <th>participant_gender</th>\n",
       "      <th>participant_name</th>\n",
       "      <th>participant_relationship</th>\n",
       "      <th>participant_status</th>\n",
       "      <th>participant_type</th>\n",
       "      <th>sources</th>\n",
       "      <th>state_house_district</th>\n",
       "      <th>state_senate_district</th>\n",
       "    </tr>\n",
       "    <tr>\n",
       "      <th>date</th>\n",
       "      <th></th>\n",
       "      <th></th>\n",
       "      <th></th>\n",
       "      <th></th>\n",
       "      <th></th>\n",
       "      <th></th>\n",
       "      <th></th>\n",
       "      <th></th>\n",
       "      <th></th>\n",
       "      <th></th>\n",
       "      <th></th>\n",
       "      <th></th>\n",
       "      <th></th>\n",
       "      <th></th>\n",
       "      <th></th>\n",
       "      <th></th>\n",
       "      <th></th>\n",
       "      <th></th>\n",
       "      <th></th>\n",
       "      <th></th>\n",
       "      <th></th>\n",
       "    </tr>\n",
       "  </thead>\n",
       "  <tbody>\n",
       "    <tr>\n",
       "      <td>2015-09-01</td>\n",
       "      <td>406281</td>\n",
       "      <td>New Jersey</td>\n",
       "      <td>Newark</td>\n",
       "      <td>Hawthorne Avenue and Demarest Street</td>\n",
       "      <td>0</td>\n",
       "      <td>0</td>\n",
       "      <td>http://www.gunviolencearchive.org/incident/406281</td>\n",
       "      <td>http://www.nj.com/essex/index.ssf/2015/09/carj...</td>\n",
       "      <td>False</td>\n",
       "      <td>10.0</td>\n",
       "      <td>...</td>\n",
       "      <td>NaN</td>\n",
       "      <td>NaN</td>\n",
       "      <td>NaN</td>\n",
       "      <td>NaN</td>\n",
       "      <td>NaN</td>\n",
       "      <td>NaN</td>\n",
       "      <td>NaN</td>\n",
       "      <td>http://www.nj.com/essex/index.ssf/2015/09/carj...</td>\n",
       "      <td>28.0</td>\n",
       "      <td>28.0</td>\n",
       "    </tr>\n",
       "    <tr>\n",
       "      <td>2015-09-01</td>\n",
       "      <td>406261</td>\n",
       "      <td>New Jersey</td>\n",
       "      <td>Paterson</td>\n",
       "      <td>22nd Street</td>\n",
       "      <td>1</td>\n",
       "      <td>0</td>\n",
       "      <td>http://www.gunviolencearchive.org/incident/406261</td>\n",
       "      <td>http://www.nj.com/passaic-county/index.ssf/201...</td>\n",
       "      <td>False</td>\n",
       "      <td>9.0</td>\n",
       "      <td>...</td>\n",
       "      <td>0::21</td>\n",
       "      <td>0::Adult 18+</td>\n",
       "      <td>0::Male</td>\n",
       "      <td>0::Zahmir C. Hayes</td>\n",
       "      <td>NaN</td>\n",
       "      <td>0::Killed</td>\n",
       "      <td>0::Victim</td>\n",
       "      <td>http://www.nj.com/passaic-county/index.ssf/201...</td>\n",
       "      <td>35.0</td>\n",
       "      <td>35.0</td>\n",
       "    </tr>\n",
       "    <tr>\n",
       "      <td>2015-09-01</td>\n",
       "      <td>407854</td>\n",
       "      <td>New Jersey</td>\n",
       "      <td>Long Branch</td>\n",
       "      <td>245 Joline Avenue</td>\n",
       "      <td>4</td>\n",
       "      <td>0</td>\n",
       "      <td>http://www.gunviolencearchive.org/incident/407854</td>\n",
       "      <td>http://nypost.com/2015/09/04/deaths-of-family-...</td>\n",
       "      <td>False</td>\n",
       "      <td>6.0</td>\n",
       "      <td>...</td>\n",
       "      <td>0::29||1::4||2::7||3::35</td>\n",
       "      <td>0::Adult 18+||1::Child 0-11||2::Child 0-11||3:...</td>\n",
       "      <td>0::Female||1::Male||2::Male||3::Male</td>\n",
       "      <td>0::Amanda Morris||1::Brian Beharry||2::Brandon...</td>\n",
       "      <td>NaN</td>\n",
       "      <td>0::Killed||1::Killed||2::Killed||3::Killed</td>\n",
       "      <td>0::Victim||1::Victim||2::Victim||3::Subject-Su...</td>\n",
       "      <td>http://nypost.com/2015/09/04/deaths-of-family-...</td>\n",
       "      <td>11.0</td>\n",
       "      <td>11.0</td>\n",
       "    </tr>\n",
       "    <tr>\n",
       "      <td>2015-09-01</td>\n",
       "      <td>408516</td>\n",
       "      <td>New Jersey</td>\n",
       "      <td>Plainfield</td>\n",
       "      <td>600 block of East Front Street</td>\n",
       "      <td>0</td>\n",
       "      <td>0</td>\n",
       "      <td>http://www.gunviolencearchive.org/incident/408516</td>\n",
       "      <td>http://www.nj.com/union/index.ssf/2015/09/shot...</td>\n",
       "      <td>False</td>\n",
       "      <td>12.0</td>\n",
       "      <td>...</td>\n",
       "      <td>0::21</td>\n",
       "      <td>0::Adult 18+</td>\n",
       "      <td>0::Male</td>\n",
       "      <td>0::Diondre Quinones</td>\n",
       "      <td>NaN</td>\n",
       "      <td>0::Arrested</td>\n",
       "      <td>0::Subject-Suspect</td>\n",
       "      <td>http://www.nj.com/union/index.ssf/2015/09/shot...</td>\n",
       "      <td>22.0</td>\n",
       "      <td>22.0</td>\n",
       "    </tr>\n",
       "    <tr>\n",
       "      <td>2015-09-01</td>\n",
       "      <td>407310</td>\n",
       "      <td>New Jersey</td>\n",
       "      <td>Roselle Park</td>\n",
       "      <td>West Webster Avenue</td>\n",
       "      <td>0</td>\n",
       "      <td>0</td>\n",
       "      <td>http://www.gunviolencearchive.org/incident/407310</td>\n",
       "      <td>http://www.nj.com/union/index.ssf/2015/09/driv...</td>\n",
       "      <td>False</td>\n",
       "      <td>10.0</td>\n",
       "      <td>...</td>\n",
       "      <td>NaN</td>\n",
       "      <td>0::Teen 12-17||1::Teen 12-17</td>\n",
       "      <td>NaN</td>\n",
       "      <td>NaN</td>\n",
       "      <td>NaN</td>\n",
       "      <td>0::Unharmed||1::Unharmed</td>\n",
       "      <td>0::Victim||1::Victim</td>\n",
       "      <td>http://www.nj.com/union/index.ssf/2015/09/driv...</td>\n",
       "      <td>21.0</td>\n",
       "      <td>21.0</td>\n",
       "    </tr>\n",
       "  </tbody>\n",
       "</table>\n",
       "<p>5 rows × 28 columns</p>\n",
       "</div>"
      ],
      "text/plain": [
       "            incident_id       state city_or_county  \\\n",
       "date                                                 \n",
       "2015-09-01       406281  New Jersey         Newark   \n",
       "2015-09-01       406261  New Jersey       Paterson   \n",
       "2015-09-01       407854  New Jersey    Long Branch   \n",
       "2015-09-01       408516  New Jersey     Plainfield   \n",
       "2015-09-01       407310  New Jersey   Roselle Park   \n",
       "\n",
       "                                         address  n_killed  n_injured  \\\n",
       "date                                                                    \n",
       "2015-09-01  Hawthorne Avenue and Demarest Street         0          0   \n",
       "2015-09-01                           22nd Street         1          0   \n",
       "2015-09-01                     245 Joline Avenue         4          0   \n",
       "2015-09-01        600 block of East Front Street         0          0   \n",
       "2015-09-01                   West Webster Avenue         0          0   \n",
       "\n",
       "                                                 incident_url  \\\n",
       "date                                                            \n",
       "2015-09-01  http://www.gunviolencearchive.org/incident/406281   \n",
       "2015-09-01  http://www.gunviolencearchive.org/incident/406261   \n",
       "2015-09-01  http://www.gunviolencearchive.org/incident/407854   \n",
       "2015-09-01  http://www.gunviolencearchive.org/incident/408516   \n",
       "2015-09-01  http://www.gunviolencearchive.org/incident/407310   \n",
       "\n",
       "                                                   source_url  \\\n",
       "date                                                            \n",
       "2015-09-01  http://www.nj.com/essex/index.ssf/2015/09/carj...   \n",
       "2015-09-01  http://www.nj.com/passaic-county/index.ssf/201...   \n",
       "2015-09-01  http://nypost.com/2015/09/04/deaths-of-family-...   \n",
       "2015-09-01  http://www.nj.com/union/index.ssf/2015/09/shot...   \n",
       "2015-09-01  http://www.nj.com/union/index.ssf/2015/09/driv...   \n",
       "\n",
       "            incident_url_fields_missing  congressional_district  ...  \\\n",
       "date                                                             ...   \n",
       "2015-09-01                        False                    10.0  ...   \n",
       "2015-09-01                        False                     9.0  ...   \n",
       "2015-09-01                        False                     6.0  ...   \n",
       "2015-09-01                        False                    12.0  ...   \n",
       "2015-09-01                        False                    10.0  ...   \n",
       "\n",
       "                     participant_age  \\\n",
       "date                                   \n",
       "2015-09-01                       NaN   \n",
       "2015-09-01                     0::21   \n",
       "2015-09-01  0::29||1::4||2::7||3::35   \n",
       "2015-09-01                     0::21   \n",
       "2015-09-01                       NaN   \n",
       "\n",
       "                                        participant_age_group  \\\n",
       "date                                                            \n",
       "2015-09-01                                                NaN   \n",
       "2015-09-01                                       0::Adult 18+   \n",
       "2015-09-01  0::Adult 18+||1::Child 0-11||2::Child 0-11||3:...   \n",
       "2015-09-01                                       0::Adult 18+   \n",
       "2015-09-01                       0::Teen 12-17||1::Teen 12-17   \n",
       "\n",
       "                              participant_gender  \\\n",
       "date                                               \n",
       "2015-09-01                                   NaN   \n",
       "2015-09-01                               0::Male   \n",
       "2015-09-01  0::Female||1::Male||2::Male||3::Male   \n",
       "2015-09-01                               0::Male   \n",
       "2015-09-01                                   NaN   \n",
       "\n",
       "                                             participant_name  \\\n",
       "date                                                            \n",
       "2015-09-01                                                NaN   \n",
       "2015-09-01                                 0::Zahmir C. Hayes   \n",
       "2015-09-01  0::Amanda Morris||1::Brian Beharry||2::Brandon...   \n",
       "2015-09-01                                0::Diondre Quinones   \n",
       "2015-09-01                                                NaN   \n",
       "\n",
       "           participant_relationship  \\\n",
       "date                                  \n",
       "2015-09-01                      NaN   \n",
       "2015-09-01                      NaN   \n",
       "2015-09-01                      NaN   \n",
       "2015-09-01                      NaN   \n",
       "2015-09-01                      NaN   \n",
       "\n",
       "                                    participant_status  \\\n",
       "date                                                     \n",
       "2015-09-01                                         NaN   \n",
       "2015-09-01                                   0::Killed   \n",
       "2015-09-01  0::Killed||1::Killed||2::Killed||3::Killed   \n",
       "2015-09-01                                 0::Arrested   \n",
       "2015-09-01                    0::Unharmed||1::Unharmed   \n",
       "\n",
       "                                             participant_type  \\\n",
       "date                                                            \n",
       "2015-09-01                                                NaN   \n",
       "2015-09-01                                          0::Victim   \n",
       "2015-09-01  0::Victim||1::Victim||2::Victim||3::Subject-Su...   \n",
       "2015-09-01                                 0::Subject-Suspect   \n",
       "2015-09-01                               0::Victim||1::Victim   \n",
       "\n",
       "                                                      sources  \\\n",
       "date                                                            \n",
       "2015-09-01  http://www.nj.com/essex/index.ssf/2015/09/carj...   \n",
       "2015-09-01  http://www.nj.com/passaic-county/index.ssf/201...   \n",
       "2015-09-01  http://nypost.com/2015/09/04/deaths-of-family-...   \n",
       "2015-09-01  http://www.nj.com/union/index.ssf/2015/09/shot...   \n",
       "2015-09-01  http://www.nj.com/union/index.ssf/2015/09/driv...   \n",
       "\n",
       "           state_house_district state_senate_district  \n",
       "date                                                   \n",
       "2015-09-01                 28.0                  28.0  \n",
       "2015-09-01                 35.0                  35.0  \n",
       "2015-09-01                 11.0                  11.0  \n",
       "2015-09-01                 22.0                  22.0  \n",
       "2015-09-01                 21.0                  21.0  \n",
       "\n",
       "[5 rows x 28 columns]"
      ]
     },
     "execution_count": 74,
     "metadata": {},
     "output_type": "execute_result"
    }
   ],
   "source": [
    "nj_shootings.loc[\"2015-09-01\"]"
   ]
  },
  {
   "cell_type": "code",
   "execution_count": 118,
   "metadata": {},
   "outputs": [
    {
     "data": {
      "text/plain": [
       "date\n",
       "2015-12-02    16\n",
       "2017-11-14     6\n",
       "2013-06-07     6\n",
       "2016-08-29     5\n",
       "2017-06-14     4\n",
       "              ..\n",
       "2016-04-29     0\n",
       "2016-04-29     0\n",
       "2016-04-29     0\n",
       "2016-04-29     0\n",
       "2016-04-28     0\n",
       "Name: n_killed, Length: 16306, dtype: int64"
      ]
     },
     "execution_count": 118,
     "metadata": {},
     "output_type": "execute_result"
    }
   ],
   "source": [
    "data_Set[data_Set[\"state\"] == \"California\"].sort_values(\"n_killed\", ascending = False)[\"n_killed\"]\n",
    "\n"
   ]
  },
  {
   "cell_type": "code",
   "execution_count": null,
   "metadata": {},
   "outputs": [],
   "source": []
  },
  {
   "cell_type": "code",
   "execution_count": null,
   "metadata": {},
   "outputs": [],
   "source": []
  }
 ],
 "metadata": {
  "kernelspec": {
   "display_name": "Python 3",
   "language": "python",
   "name": "python3"
  },
  "language_info": {
   "codemirror_mode": {
    "name": "ipython",
    "version": 3
   },
   "file_extension": ".py",
   "mimetype": "text/x-python",
   "name": "python",
   "nbconvert_exporter": "python",
   "pygments_lexer": "ipython3",
   "version": "3.7.4"
  }
 },
 "nbformat": 4,
 "nbformat_minor": 2
}
