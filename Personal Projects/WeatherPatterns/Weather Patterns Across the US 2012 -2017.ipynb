{
 "cells": [
  {
   "cell_type": "code",
   "execution_count": 2,
   "metadata": {},
   "outputs": [],
   "source": [
    "import pandas as pd\n",
    "import numpy as np\n",
    "import matplotlib.pyplot as plt"
   ]
  },
  {
   "cell_type": "code",
   "execution_count": 9,
   "metadata": {},
   "outputs": [],
   "source": [
    "temp = pd.read_csv(\"temperature.csv\", parse_dates=True, index_col=\"datetime\")"
   ]
  },
  {
   "cell_type": "code",
   "execution_count": 11,
   "metadata": {},
   "outputs": [
    {
     "name": "stdout",
     "output_type": "stream",
     "text": [
      "<class 'pandas.core.frame.DataFrame'>\n",
      "DatetimeIndex: 45253 entries, 2012-10-01 12:00:00 to 2017-11-30 00:00:00\n",
      "Data columns (total 36 columns):\n",
      "Vancouver            44458 non-null float64\n",
      "Portland             45252 non-null float64\n",
      "San Francisco        44460 non-null float64\n",
      "Seattle              45250 non-null float64\n",
      "Los Angeles          45250 non-null float64\n",
      "San Diego            45252 non-null float64\n",
      "Las Vegas            45252 non-null float64\n",
      "Phoenix              45250 non-null float64\n",
      "Albuquerque          45252 non-null float64\n",
      "Denver               45252 non-null float64\n",
      "San Antonio          45252 non-null float64\n",
      "Dallas               45249 non-null float64\n",
      "Houston              45250 non-null float64\n",
      "Kansas City          45252 non-null float64\n",
      "Minneapolis          45240 non-null float64\n",
      "Saint Louis          45252 non-null float64\n",
      "Chicago              45250 non-null float64\n",
      "Nashville            45251 non-null float64\n",
      "Indianapolis         45246 non-null float64\n",
      "Atlanta              45247 non-null float64\n",
      "Detroit              45252 non-null float64\n",
      "Jacksonville         45252 non-null float64\n",
      "Charlotte            45250 non-null float64\n",
      "Miami                44448 non-null float64\n",
      "Pittsburgh           45250 non-null float64\n",
      "Toronto              45252 non-null float64\n",
      "Philadelphia         45250 non-null float64\n",
      "New York             44460 non-null float64\n",
      "Montreal             45250 non-null float64\n",
      "Boston               45250 non-null float64\n",
      "Beersheba            44455 non-null float64\n",
      "Tel Aviv District    44460 non-null float64\n",
      "Eilat                44461 non-null float64\n",
      "Haifa                44455 non-null float64\n",
      "Nahariyya            44456 non-null float64\n",
      "Jerusalem            44460 non-null float64\n",
      "dtypes: float64(36)\n",
      "memory usage: 12.8 MB\n"
     ]
    }
   ],
   "source": [
    "temp.info()"
   ]
  },
  {
   "cell_type": "code",
   "execution_count": null,
   "metadata": {},
   "outputs": [],
   "source": []
  }
 ],
 "metadata": {
  "kernelspec": {
   "display_name": "Python 3",
   "language": "python",
   "name": "python3"
  },
  "language_info": {
   "codemirror_mode": {
    "name": "ipython",
    "version": 3
   },
   "file_extension": ".py",
   "mimetype": "text/x-python",
   "name": "python",
   "nbconvert_exporter": "python",
   "pygments_lexer": "ipython3",
   "version": "3.7.4"
  }
 },
 "nbformat": 4,
 "nbformat_minor": 2
}
