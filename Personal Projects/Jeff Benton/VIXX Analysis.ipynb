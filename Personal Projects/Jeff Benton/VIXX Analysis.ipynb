{
 "cells": [
  {
   "cell_type": "markdown",
   "metadata": {},
   "source": [
    "# Will add summary here"
   ]
  },
  {
   "cell_type": "code",
   "execution_count": 1,
   "metadata": {},
   "outputs": [],
   "source": [
    "import pandas as pd\n",
    "import numpy as np \n",
    "import matplotlib.pyplot as plt\n",
    "import statsmodels.api as sm\n",
    "from scipy import stats\n",
    "import seaborn as sns"
   ]
  },
  {
   "cell_type": "markdown",
   "metadata": {},
   "source": [
    "##  Will first import the VIX data fro mthe excel file and properly set the data before we begin  analysis. Initially there are many empty columns anfd missing data that needs to be addressed. For this analysis we will extract, UVXY, VIX, VXXBEN, UX1 to UX4, Day to Roll, Day of week, Daily Decay, Slope "
   ]
  },
  {
   "cell_type": "code",
   "execution_count": 2,
   "metadata": {},
   "outputs": [],
   "source": [
    "data = pd.read_excel(\"vix_data.xlsx\")"
   ]
  },
  {
   "cell_type": "markdown",
   "metadata": {},
   "source": [
    "## Looks like we have the original data as well as the edited data frame to work with below. We have a 3246 rows of data and will be working with 10 columns "
   ]
  },
  {
   "cell_type": "code",
   "execution_count": 3,
   "metadata": {},
   "outputs": [
    {
     "ename": "NameError",
     "evalue": "name 'vix_DataFrame' is not defined",
     "output_type": "error",
     "traceback": [
      "\u001b[0;31m---------------------------------------------------------------------------\u001b[0m",
      "\u001b[0;31mNameError\u001b[0m                                 Traceback (most recent call last)",
      "\u001b[0;32m<ipython-input-3-64f54245d6f1>\u001b[0m in \u001b[0;36m<module>\u001b[0;34m\u001b[0m\n\u001b[0;32m----> 1\u001b[0;31m \u001b[0mvix_DataFrame\u001b[0m\u001b[0;34m.\u001b[0m\u001b[0minfo\u001b[0m\u001b[0;34m(\u001b[0m\u001b[0;34m)\u001b[0m\u001b[0;34m\u001b[0m\u001b[0;34m\u001b[0m\u001b[0m\n\u001b[0m",
      "\u001b[0;31mNameError\u001b[0m: name 'vix_DataFrame' is not defined"
     ]
    }
   ],
   "source": [
    "vix_DataFrame.info()"
   ]
  },
  {
   "cell_type": "code",
   "execution_count": null,
   "metadata": {},
   "outputs": [],
   "source": []
  },
  {
   "cell_type": "markdown",
   "metadata": {},
   "source": [
    "## The head of the data will provide us the top 5 items"
   ]
  },
  {
   "cell_type": "code",
   "execution_count": null,
   "metadata": {},
   "outputs": [],
   "source": [
    "vix_DataFrame.head()"
   ]
  },
  {
   "cell_type": "markdown",
   "metadata": {},
   "source": [
    "### To begin we will plot each of the items against the date time index in a simple graph"
   ]
  },
  {
   "cell_type": "code",
   "execution_count": null,
   "metadata": {},
   "outputs": [],
   "source": [
    "fig, axes = plt.subplots(4,2, dpi = 300, figsize = (16,14))\n",
    "axes[0,0].plot(vix_DataFrame[\"UVXY\"], c = \"r\")\n",
    "axes[0,0].set_title(\"UVXY\")\n",
    "axes[0,1].plot(vix_DataFrame[\"SPY\"], c = \"g\")\n",
    "axes[0,1].set_title(\"SPY\")\n",
    "axes[1,0].plot(vix_DataFrame[\"VIX\"], c = \"y\")\n",
    "axes[1,0].set_title(\"VIX\")\n",
    "axes[1,1].plot(vix_DataFrame[\"VXXBEN\"], c= \"orange\")\n",
    "axes[1,1].set_title(\"VXXBEN\")\n",
    "axes[2,0].plot(vix_DataFrame[\"UX1\"])\n",
    "axes[2,0].set_title(\"UX1\")\n",
    "axes[2,1].plot(vix_DataFrame[\"UX2\"])\n",
    "axes[2,1].set_title(\"UX2\")\n",
    "axes[3,0].plot(vix_DataFrame[\"UX3\"])\n",
    "axes[3,0].set_title(\"UX3\")\n",
    "axes[3,1].plot(vix_DataFrame[\"UX4\"])\n",
    "axes[3,1].set_title(\"UX4\")\n",
    "plt.tight_layout()"
   ]
  },
  {
   "cell_type": "markdown",
   "metadata": {},
   "source": [
    "### From these above we see a few patterns. VIX, UX1 - 4 and VXXBEN is inversely coorelated as well . UVXY never seemed to climb back after the fall in 2010. ALso see that when SPY takes a dip so does VXXBEN. 2008 was the big hit on all of the data above so we will try to find some patterns in the movment of the data."
   ]
  },
  {
   "cell_type": "markdown",
   "metadata": {},
   "source": [
    "____"
   ]
  },
  {
   "cell_type": "markdown",
   "metadata": {},
   "source": [
    "### We will check the daily changes for each series of the data sets"
   ]
  },
  {
   "cell_type": "code",
   "execution_count": null,
   "metadata": {},
   "outputs": [],
   "source": [
    "vix_DataFrame[\"UVXY % Change\"] = ((vix_DataFrame[\"UVXY\"]/vix_DataFrame[\"UVXY\"].shift(1)) -1)"
   ]
  },
  {
   "cell_type": "code",
   "execution_count": null,
   "metadata": {},
   "outputs": [],
   "source": [
    "vix_DataFrame[\"SPY % Change\"] = ((vix_DataFrame[\"SPY\"]/vix_DataFrame[\"SPY\"].shift(1)) -1) "
   ]
  },
  {
   "cell_type": "code",
   "execution_count": null,
   "metadata": {},
   "outputs": [],
   "source": [
    "vix_DataFrame[\"VXXBEN % Change\"] = ((vix_DataFrame[\"VXXBEN\"]/vix_DataFrame[\"VXXBEN\"].shift(1)) -1) "
   ]
  },
  {
   "cell_type": "code",
   "execution_count": null,
   "metadata": {},
   "outputs": [],
   "source": [
    "vix_DataFrame[\"VIX % Change\"] = ((vix_DataFrame[\"VIX\"]/vix_DataFrame[\"VIX\"].shift(1)) -1)"
   ]
  },
  {
   "cell_type": "code",
   "execution_count": null,
   "metadata": {},
   "outputs": [],
   "source": [
    "vix_DataFrame[\"UX1 % Change\"] = ((vix_DataFrame[\"UX1\"]/vix_DataFrame[\"UX1\"].shift(1)) -1)"
   ]
  },
  {
   "cell_type": "code",
   "execution_count": null,
   "metadata": {},
   "outputs": [],
   "source": [
    "vix_DataFrame[\"UX2 % Change\"] = ((vix_DataFrame[\"UX2\"]/vix_DataFrame[\"UX2\"].shift(1)) -1) "
   ]
  },
  {
   "cell_type": "code",
   "execution_count": null,
   "metadata": {},
   "outputs": [],
   "source": [
    "vix_DataFrame[\"UX3 % Change\"] = ((vix_DataFrame[\"UX3\"]/vix_DataFrame[\"UX3\"].shift(1)) -1)"
   ]
  },
  {
   "cell_type": "code",
   "execution_count": null,
   "metadata": {},
   "outputs": [],
   "source": [
    "vix_DataFrame[\"UX4 % Change\"] = ((vix_DataFrame[\"UX4\"]/vix_DataFrame[\"UX4\"].shift(1)) -1)"
   ]
  },
  {
   "cell_type": "markdown",
   "metadata": {},
   "source": [
    "## Looks like there is an issue with VXXBEN data set. Lets find this and address it. Looks like all the items in the Data frame is not represented as a float so we need ot fix that"
   ]
  },
  {
   "cell_type": "code",
   "execution_count": null,
   "metadata": {},
   "outputs": [],
   "source": [
    "vix_DataFrame.info()"
   ]
  },
  {
   "cell_type": "markdown",
   "metadata": {},
   "source": [
    "## We will check if there are any correlation between the changes of each series"
   ]
  },
  {
   "cell_type": "code",
   "execution_count": null,
   "metadata": {},
   "outputs": [],
   "source": [
    "sns.pairplot(vix_DataFrame[[\"UVXY % Change\", \"SPY % Change\", \"VIX % Change\",\"VXXBEN % Change\"]])"
   ]
  },
  {
   "cell_type": "markdown",
   "metadata": {},
   "source": [
    "## Sumamry of the daily Changes for above"
   ]
  },
  {
   "cell_type": "code",
   "execution_count": null,
   "metadata": {},
   "outputs": [],
   "source": []
  },
  {
   "cell_type": "code",
   "execution_count": null,
   "metadata": {},
   "outputs": [],
   "source": []
  },
  {
   "cell_type": "markdown",
   "metadata": {},
   "source": [
    "## Below we will check how the days of the week effect the % change in each data series"
   ]
  },
  {
   "cell_type": "markdown",
   "metadata": {},
   "source": [
    "# Change in series for days of week"
   ]
  },
  {
   "cell_type": "code",
   "execution_count": null,
   "metadata": {},
   "outputs": [],
   "source": [
    "sns.swarmplot(x = \"Day OF WEEK\", y = \"VIX % Change\", data= vix_DataFrame)"
   ]
  },
  {
   "cell_type": "code",
   "execution_count": null,
   "metadata": {},
   "outputs": [],
   "source": [
    "sns.swarmplot(x = \"Day OF WEEK\", y = \"SPY % Change\", data= vix_DataFrame)"
   ]
  },
  {
   "cell_type": "code",
   "execution_count": null,
   "metadata": {
    "scrolled": true
   },
   "outputs": [],
   "source": [
    "sns.swarmplot(x = \"Day OF WEEK\", y = \"UVXY % Change\", data= vix_DataFrame)"
   ]
  },
  {
   "cell_type": "code",
   "execution_count": null,
   "metadata": {},
   "outputs": [],
   "source": [
    "sns.swarmplot(x = \"Day OF WEEK\", y = \"VXXBEN % Change\", data= vix_DataFrame)"
   ]
  },
  {
   "cell_type": "markdown",
   "metadata": {},
   "source": [
    "# Change in series for Rolling Days\n"
   ]
  },
  {
   "cell_type": "code",
   "execution_count": null,
   "metadata": {},
   "outputs": [],
   "source": []
  }
 ],
 "metadata": {
  "kernelspec": {
   "display_name": "Python 3",
   "language": "python",
   "name": "python3"
  },
  "language_info": {
   "codemirror_mode": {
    "name": "ipython",
    "version": 3
   },
   "file_extension": ".py",
   "mimetype": "text/x-python",
   "name": "python",
   "nbconvert_exporter": "python",
   "pygments_lexer": "ipython3",
   "version": "3.7.1"
  }
 },
 "nbformat": 4,
 "nbformat_minor": 2
}
