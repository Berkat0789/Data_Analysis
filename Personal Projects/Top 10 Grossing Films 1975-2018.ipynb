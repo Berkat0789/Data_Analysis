{
 "cells": [
  {
   "cell_type": "code",
   "execution_count": 56,
   "metadata": {},
   "outputs": [],
   "source": [
    "import pandas as pd \n",
    "import numpy as np\n",
    "from pandas_datareader import data as wb\n",
    "import matplotlib.pyplot as plt"
   ]
  },
  {
   "cell_type": "code",
   "execution_count": 2,
   "metadata": {},
   "outputs": [],
   "source": [
    "movie_Data = pd.read_csv(\"blockbusters.csv\")"
   ]
  },
  {
   "cell_type": "code",
   "execution_count": 3,
   "metadata": {},
   "outputs": [
    {
     "data": {
      "text/html": [
       "<div>\n",
       "<style scoped>\n",
       "    .dataframe tbody tr th:only-of-type {\n",
       "        vertical-align: middle;\n",
       "    }\n",
       "\n",
       "    .dataframe tbody tr th {\n",
       "        vertical-align: top;\n",
       "    }\n",
       "\n",
       "    .dataframe thead th {\n",
       "        text-align: right;\n",
       "    }\n",
       "</style>\n",
       "<table border=\"1\" class=\"dataframe\">\n",
       "  <thead>\n",
       "    <tr style=\"text-align: right;\">\n",
       "      <th></th>\n",
       "      <th>Main_Genre</th>\n",
       "      <th>Genre_2</th>\n",
       "      <th>Genre_3</th>\n",
       "      <th>imdb_rating</th>\n",
       "      <th>length</th>\n",
       "      <th>rank_in_year</th>\n",
       "      <th>rating</th>\n",
       "      <th>studio</th>\n",
       "      <th>title</th>\n",
       "      <th>worldwide_gross</th>\n",
       "      <th>year</th>\n",
       "    </tr>\n",
       "  </thead>\n",
       "  <tbody>\n",
       "    <tr>\n",
       "      <td>0</td>\n",
       "      <td>Action</td>\n",
       "      <td>Adventure</td>\n",
       "      <td>Drama</td>\n",
       "      <td>7.4</td>\n",
       "      <td>135</td>\n",
       "      <td>1</td>\n",
       "      <td>PG-13</td>\n",
       "      <td>Walt Disney Pictures</td>\n",
       "      <td>Black Panther</td>\n",
       "      <td>$700,059,566</td>\n",
       "      <td>2018</td>\n",
       "    </tr>\n",
       "    <tr>\n",
       "      <td>1</td>\n",
       "      <td>Action</td>\n",
       "      <td>Adventure</td>\n",
       "      <td>Sci-Fi</td>\n",
       "      <td>8.5</td>\n",
       "      <td>156</td>\n",
       "      <td>2</td>\n",
       "      <td>PG-13</td>\n",
       "      <td>Walt Disney Pictures</td>\n",
       "      <td>Avengers: Infinity War</td>\n",
       "      <td>$678,815,482</td>\n",
       "      <td>2018</td>\n",
       "    </tr>\n",
       "    <tr>\n",
       "      <td>2</td>\n",
       "      <td>Animation</td>\n",
       "      <td>Action</td>\n",
       "      <td>Adventure</td>\n",
       "      <td>7.8</td>\n",
       "      <td>118</td>\n",
       "      <td>3</td>\n",
       "      <td>PG</td>\n",
       "      <td>Pixar</td>\n",
       "      <td>Incredibles 2</td>\n",
       "      <td>$608,581,744</td>\n",
       "      <td>2018</td>\n",
       "    </tr>\n",
       "    <tr>\n",
       "      <td>3</td>\n",
       "      <td>Action</td>\n",
       "      <td>Adventure</td>\n",
       "      <td>Drama</td>\n",
       "      <td>6.2</td>\n",
       "      <td>129</td>\n",
       "      <td>4</td>\n",
       "      <td>PG-13</td>\n",
       "      <td>Universal Pictures</td>\n",
       "      <td>Jurassic World: Fallen Kingdom</td>\n",
       "      <td>$416,769,345</td>\n",
       "      <td>2018</td>\n",
       "    </tr>\n",
       "    <tr>\n",
       "      <td>4</td>\n",
       "      <td>Action</td>\n",
       "      <td>Comedy</td>\n",
       "      <td>NaN</td>\n",
       "      <td>7.8</td>\n",
       "      <td>119</td>\n",
       "      <td>5</td>\n",
       "      <td>R</td>\n",
       "      <td>20th Century Fox</td>\n",
       "      <td>Deadpool 2</td>\n",
       "      <td>$318,491,426</td>\n",
       "      <td>2018</td>\n",
       "    </tr>\n",
       "    <tr>\n",
       "      <td>...</td>\n",
       "      <td>...</td>\n",
       "      <td>...</td>\n",
       "      <td>...</td>\n",
       "      <td>...</td>\n",
       "      <td>...</td>\n",
       "      <td>...</td>\n",
       "      <td>...</td>\n",
       "      <td>...</td>\n",
       "      <td>...</td>\n",
       "      <td>...</td>\n",
       "      <td>...</td>\n",
       "    </tr>\n",
       "    <tr>\n",
       "      <td>432</td>\n",
       "      <td>Thriller</td>\n",
       "      <td>Crime</td>\n",
       "      <td>Comedy</td>\n",
       "      <td>7.1</td>\n",
       "      <td>113</td>\n",
       "      <td>6</td>\n",
       "      <td>G</td>\n",
       "      <td>Metro-Goldwyn-Mayer</td>\n",
       "      <td>The Return of the Pink Panther</td>\n",
       "      <td>$41,833,347.00</td>\n",
       "      <td>1975</td>\n",
       "    </tr>\n",
       "    <tr>\n",
       "      <td>433</td>\n",
       "      <td>Music</td>\n",
       "      <td>Drama</td>\n",
       "      <td>Comedy</td>\n",
       "      <td>6.4</td>\n",
       "      <td>136</td>\n",
       "      <td>7</td>\n",
       "      <td>PG</td>\n",
       "      <td>Columbia Pictures</td>\n",
       "      <td>Funny Lady</td>\n",
       "      <td>$39,000,000.00</td>\n",
       "      <td>1975</td>\n",
       "    </tr>\n",
       "    <tr>\n",
       "      <td>434</td>\n",
       "      <td>Family</td>\n",
       "      <td>Western</td>\n",
       "      <td>Comedy</td>\n",
       "      <td>6.2</td>\n",
       "      <td>100</td>\n",
       "      <td>8</td>\n",
       "      <td>G</td>\n",
       "      <td>Walt Disney Pictures</td>\n",
       "      <td>The Apple Dumpling Gang</td>\n",
       "      <td>$36,853,000.00</td>\n",
       "      <td>1975</td>\n",
       "    </tr>\n",
       "    <tr>\n",
       "      <td>435</td>\n",
       "      <td>Drama</td>\n",
       "      <td>NaN</td>\n",
       "      <td>NaN</td>\n",
       "      <td>6.0</td>\n",
       "      <td>88</td>\n",
       "      <td>9</td>\n",
       "      <td>PG</td>\n",
       "      <td>Columbia Pictures</td>\n",
       "      <td>Aloha, Bobby and Rose</td>\n",
       "      <td>$35,000,000.00</td>\n",
       "      <td>1975</td>\n",
       "    </tr>\n",
       "    <tr>\n",
       "      <td>436</td>\n",
       "      <td>Drama</td>\n",
       "      <td>Western</td>\n",
       "      <td>War</td>\n",
       "      <td>6.4</td>\n",
       "      <td>103</td>\n",
       "      <td>10</td>\n",
       "      <td>PG</td>\n",
       "      <td>Universal Pictures</td>\n",
       "      <td>The Other Side of the Mountain</td>\n",
       "      <td>$34,673,100.00</td>\n",
       "      <td>1975</td>\n",
       "    </tr>\n",
       "  </tbody>\n",
       "</table>\n",
       "<p>437 rows × 11 columns</p>\n",
       "</div>"
      ],
      "text/plain": [
       "    Main_Genre    Genre_2    Genre_3  imdb_rating  length  rank_in_year  \\\n",
       "0       Action  Adventure      Drama          7.4     135             1   \n",
       "1       Action  Adventure     Sci-Fi          8.5     156             2   \n",
       "2    Animation     Action  Adventure          7.8     118             3   \n",
       "3       Action  Adventure      Drama          6.2     129             4   \n",
       "4       Action     Comedy        NaN          7.8     119             5   \n",
       "..         ...        ...        ...          ...     ...           ...   \n",
       "432   Thriller      Crime     Comedy          7.1     113             6   \n",
       "433      Music      Drama     Comedy          6.4     136             7   \n",
       "434     Family    Western     Comedy          6.2     100             8   \n",
       "435      Drama        NaN        NaN          6.0      88             9   \n",
       "436      Drama    Western        War          6.4     103            10   \n",
       "\n",
       "    rating                studio                           title  \\\n",
       "0    PG-13  Walt Disney Pictures                   Black Panther   \n",
       "1    PG-13  Walt Disney Pictures          Avengers: Infinity War   \n",
       "2       PG                 Pixar                   Incredibles 2   \n",
       "3    PG-13    Universal Pictures  Jurassic World: Fallen Kingdom   \n",
       "4        R      20th Century Fox                      Deadpool 2   \n",
       "..     ...                   ...                             ...   \n",
       "432      G   Metro-Goldwyn-Mayer  The Return of the Pink Panther   \n",
       "433     PG     Columbia Pictures                      Funny Lady   \n",
       "434      G  Walt Disney Pictures         The Apple Dumpling Gang   \n",
       "435     PG     Columbia Pictures           Aloha, Bobby and Rose   \n",
       "436     PG    Universal Pictures  The Other Side of the Mountain   \n",
       "\n",
       "     worldwide_gross  year  \n",
       "0       $700,059,566  2018  \n",
       "1       $678,815,482  2018  \n",
       "2       $608,581,744  2018  \n",
       "3       $416,769,345  2018  \n",
       "4       $318,491,426  2018  \n",
       "..               ...   ...  \n",
       "432  $41,833,347.00   1975  \n",
       "433  $39,000,000.00   1975  \n",
       "434  $36,853,000.00   1975  \n",
       "435  $35,000,000.00   1975  \n",
       "436  $34,673,100.00   1975  \n",
       "\n",
       "[437 rows x 11 columns]"
      ]
     },
     "execution_count": 3,
     "metadata": {},
     "output_type": "execute_result"
    }
   ],
   "source": [
    "movie_Data"
   ]
  },
  {
   "cell_type": "code",
   "execution_count": null,
   "metadata": {},
   "outputs": [],
   "source": []
  },
  {
   "cell_type": "code",
   "execution_count": 17,
   "metadata": {},
   "outputs": [
    {
     "data": {
      "text/html": [
       "<div>\n",
       "<style scoped>\n",
       "    .dataframe tbody tr th:only-of-type {\n",
       "        vertical-align: middle;\n",
       "    }\n",
       "\n",
       "    .dataframe tbody tr th {\n",
       "        vertical-align: top;\n",
       "    }\n",
       "\n",
       "    .dataframe thead th {\n",
       "        text-align: right;\n",
       "    }\n",
       "</style>\n",
       "<table border=\"1\" class=\"dataframe\">\n",
       "  <thead>\n",
       "    <tr style=\"text-align: right;\">\n",
       "      <th></th>\n",
       "      <th>Main_Genre</th>\n",
       "      <th>Genre_2</th>\n",
       "      <th>Genre_3</th>\n",
       "      <th>imdb_rating</th>\n",
       "      <th>length</th>\n",
       "      <th>rank_in_year</th>\n",
       "      <th>rating</th>\n",
       "      <th>studio</th>\n",
       "      <th>title</th>\n",
       "      <th>worldwide_gross</th>\n",
       "    </tr>\n",
       "    <tr>\n",
       "      <th>year</th>\n",
       "      <th></th>\n",
       "      <th></th>\n",
       "      <th></th>\n",
       "      <th></th>\n",
       "      <th></th>\n",
       "      <th></th>\n",
       "      <th></th>\n",
       "      <th></th>\n",
       "      <th></th>\n",
       "      <th></th>\n",
       "    </tr>\n",
       "  </thead>\n",
       "  <tbody>\n",
       "    <tr>\n",
       "      <td>2012</td>\n",
       "      <td>Fantasy</td>\n",
       "      <td>Adventure</td>\n",
       "      <td>NaN</td>\n",
       "      <td>8.0</td>\n",
       "      <td>169</td>\n",
       "      <td>4</td>\n",
       "      <td>PG-13</td>\n",
       "      <td>Warner Bros</td>\n",
       "      <td>The Hobbit: An Unexpected Journey</td>\n",
       "      <td>$1,017,003,568.00</td>\n",
       "    </tr>\n",
       "  </tbody>\n",
       "</table>\n",
       "</div>"
      ],
      "text/plain": [
       "     Main_Genre    Genre_2 Genre_3  imdb_rating  length  rank_in_year rating  \\\n",
       "year                                                                           \n",
       "2012    Fantasy  Adventure     NaN          8.0     169             4  PG-13   \n",
       "\n",
       "           studio                              title     worldwide_gross  \n",
       "year                                                                      \n",
       "2012  Warner Bros  The Hobbit: An Unexpected Journey  $1,017,003,568.00   "
      ]
     },
     "execution_count": 17,
     "metadata": {},
     "output_type": "execute_result"
    }
   ],
   "source": [
    "movie_Data.sort_values(\"worldwide_gross\").head(1)"
   ]
  },
  {
   "cell_type": "code",
   "execution_count": null,
   "metadata": {},
   "outputs": [],
   "source": []
  },
  {
   "cell_type": "code",
   "execution_count": 34,
   "metadata": {},
   "outputs": [],
   "source": [
    "highest_grossing = movie_Data.sort_values(\"worldwide_gross\").head(1).iloc[0][\"title\"]\n",
    "highest_grossing_revenue = movie_Data.sort_values(\"worldwide_gross\").head(1).iloc[0][\"worldwide_gross\"]"
   ]
  },
  {
   "cell_type": "code",
   "execution_count": 35,
   "metadata": {},
   "outputs": [
    {
     "data": {
      "text/plain": [
       "'$1,017,003,568.00 '"
      ]
     },
     "execution_count": 35,
     "metadata": {},
     "output_type": "execute_result"
    }
   ],
   "source": [
    "highest_grossing_revenue"
   ]
  },
  {
   "cell_type": "code",
   "execution_count": 37,
   "metadata": {},
   "outputs": [
    {
     "name": "stdout",
     "output_type": "stream",
     "text": [
      "Highest grossing movie from 1975 to 2018\n",
      " was The Hobbit: An Unexpected Journey at a world wide gross of $1,017,003,568.00 \n"
     ]
    }
   ],
   "source": [
    "print(f\"Highest grossing movie from 1975 to 2018\\n was {highest_grossing} at a world wide gross of {highest_grossing_revenue}\")"
   ]
  },
  {
   "cell_type": "code",
   "execution_count": null,
   "metadata": {},
   "outputs": [],
   "source": []
  },
  {
   "cell_type": "markdown",
   "metadata": {},
   "source": [
    "# Find the highest grossing pg 13 movie from 1975 - 2018"
   ]
  },
  {
   "cell_type": "code",
   "execution_count": 31,
   "metadata": {},
   "outputs": [
    {
     "data": {
      "text/plain": [
       "'The Hobbit: An Unexpected Journey'"
      ]
     },
     "execution_count": 31,
     "metadata": {},
     "output_type": "execute_result"
    }
   ],
   "source": [
    "movie_Data[movie_Data[\"rating\"] == \"PG-13\"].sort_values(\"worldwide_gross\").iloc[0][\"title\"]"
   ]
  },
  {
   "cell_type": "code",
   "execution_count": null,
   "metadata": {},
   "outputs": [],
   "source": []
  },
  {
   "cell_type": "markdown",
   "metadata": {},
   "source": [
    "## Plot movie name to world wide gross on a graph"
   ]
  },
  {
   "cell_type": "code",
   "execution_count": 68,
   "metadata": {},
   "outputs": [],
   "source": [
    "movie_vs_gross = movie_Data[[\"title\", \"worldwide_gross\"]]"
   ]
  },
  {
   "cell_type": "code",
   "execution_count": 70,
   "metadata": {},
   "outputs": [],
   "source": [
    "x = np.array(movie_vs_gross[\"title\"])\n",
    "y = np.array(movie_vs_gross[\"worldwide_gross\"])"
   ]
  },
  {
   "cell_type": "code",
   "execution_count": null,
   "metadata": {},
   "outputs": [],
   "source": []
  },
  {
   "cell_type": "code",
   "execution_count": null,
   "metadata": {},
   "outputs": [],
   "source": []
  },
  {
   "cell_type": "code",
   "execution_count": null,
   "metadata": {},
   "outputs": [],
   "source": []
  }
 ],
 "metadata": {
  "kernelspec": {
   "display_name": "Python 3",
   "language": "python",
   "name": "python3"
  },
  "language_info": {
   "codemirror_mode": {
    "name": "ipython",
    "version": 3
   },
   "file_extension": ".py",
   "mimetype": "text/x-python",
   "name": "python",
   "nbconvert_exporter": "python",
   "pygments_lexer": "ipython3",
   "version": "3.7.4"
  }
 },
 "nbformat": 4,
 "nbformat_minor": 2
}
