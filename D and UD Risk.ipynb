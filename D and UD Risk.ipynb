{
 "cells": [
  {
   "cell_type": "markdown",
   "metadata": {},
   "source": [
    "Calculate the diversifiable and undiversifiable risk of a portfolio containing Ford (F) and General Electric (GE) from 2004 - 2019(current) assuming that they hold equal weights in the portfolio"
   ]
  },
  {
   "cell_type": "code",
   "execution_count": 2,
   "metadata": {},
   "outputs": [],
   "source": [
    "import pandas as pd\n",
    "import numpy as np\n",
    "import matplotlib.pyplot as plt\n",
    "from pandas_datareader import data as web"
   ]
  },
  {
   "cell_type": "code",
   "execution_count": 4,
   "metadata": {},
   "outputs": [],
   "source": [
    "tickers = [\"GE\", \"F\"]\n",
    "data_frame = pd.DataFrame()\n",
    "for t in tickers:\n",
    "    data_frame[t] = web.DataReader(t, data_source = \"yahoo\", start = \"2004-1-1\")[\"Adj Close\"]"
   ]
  },
  {
   "cell_type": "code",
   "execution_count": 5,
   "metadata": {},
   "outputs": [
    {
     "data": {
      "text/html": [
       "<div>\n",
       "<style scoped>\n",
       "    .dataframe tbody tr th:only-of-type {\n",
       "        vertical-align: middle;\n",
       "    }\n",
       "\n",
       "    .dataframe tbody tr th {\n",
       "        vertical-align: top;\n",
       "    }\n",
       "\n",
       "    .dataframe thead th {\n",
       "        text-align: right;\n",
       "    }\n",
       "</style>\n",
       "<table border=\"1\" class=\"dataframe\">\n",
       "  <thead>\n",
       "    <tr style=\"text-align: right;\">\n",
       "      <th></th>\n",
       "      <th>GE</th>\n",
       "      <th>F</th>\n",
       "    </tr>\n",
       "    <tr>\n",
       "      <th>Date</th>\n",
       "      <th></th>\n",
       "      <th></th>\n",
       "    </tr>\n",
       "  </thead>\n",
       "  <tbody>\n",
       "    <tr>\n",
       "      <th>2019-11-18</th>\n",
       "      <td>11.440</td>\n",
       "      <td>8.95</td>\n",
       "    </tr>\n",
       "    <tr>\n",
       "      <th>2019-11-19</th>\n",
       "      <td>11.500</td>\n",
       "      <td>8.90</td>\n",
       "    </tr>\n",
       "    <tr>\n",
       "      <th>2019-11-20</th>\n",
       "      <td>11.390</td>\n",
       "      <td>8.73</td>\n",
       "    </tr>\n",
       "    <tr>\n",
       "      <th>2019-11-21</th>\n",
       "      <td>11.530</td>\n",
       "      <td>8.71</td>\n",
       "    </tr>\n",
       "    <tr>\n",
       "      <th>2019-11-22</th>\n",
       "      <td>11.505</td>\n",
       "      <td>8.88</td>\n",
       "    </tr>\n",
       "  </tbody>\n",
       "</table>\n",
       "</div>"
      ],
      "text/plain": [
       "                GE     F\n",
       "Date                    \n",
       "2019-11-18  11.440  8.95\n",
       "2019-11-19  11.500  8.90\n",
       "2019-11-20  11.390  8.73\n",
       "2019-11-21  11.530  8.71\n",
       "2019-11-22  11.505  8.88"
      ]
     },
     "execution_count": 5,
     "metadata": {},
     "output_type": "execute_result"
    }
   ],
   "source": [
    "data_frame.tail()"
   ]
  },
  {
   "cell_type": "code",
   "execution_count": 6,
   "metadata": {},
   "outputs": [
    {
     "name": "stdout",
     "output_type": "stream",
     "text": [
      "<class 'pandas.core.frame.DataFrame'>\n",
      "DatetimeIndex: 4002 entries, 2004-01-02 to 2019-11-22\n",
      "Data columns (total 2 columns):\n",
      "GE    4002 non-null float64\n",
      "F     4002 non-null float64\n",
      "dtypes: float64(2)\n",
      "memory usage: 93.8 KB\n"
     ]
    }
   ],
   "source": [
    "data_frame.info()"
   ]
  },
  {
   "cell_type": "code",
   "execution_count": 8,
   "metadata": {},
   "outputs": [
    {
     "data": {
      "text/html": [
       "<div>\n",
       "<style scoped>\n",
       "    .dataframe tbody tr th:only-of-type {\n",
       "        vertical-align: middle;\n",
       "    }\n",
       "\n",
       "    .dataframe tbody tr th {\n",
       "        vertical-align: top;\n",
       "    }\n",
       "\n",
       "    .dataframe thead th {\n",
       "        text-align: right;\n",
       "    }\n",
       "</style>\n",
       "<table border=\"1\" class=\"dataframe\">\n",
       "  <thead>\n",
       "    <tr style=\"text-align: right;\">\n",
       "      <th></th>\n",
       "      <th>GE</th>\n",
       "      <th>F</th>\n",
       "    </tr>\n",
       "    <tr>\n",
       "      <th>Date</th>\n",
       "      <th></th>\n",
       "      <th></th>\n",
       "    </tr>\n",
       "  </thead>\n",
       "  <tbody>\n",
       "    <tr>\n",
       "      <th>2019-11-18</th>\n",
       "      <td>-0.006945</td>\n",
       "      <td>0.000000</td>\n",
       "    </tr>\n",
       "    <tr>\n",
       "      <th>2019-11-19</th>\n",
       "      <td>0.005245</td>\n",
       "      <td>-0.005587</td>\n",
       "    </tr>\n",
       "    <tr>\n",
       "      <th>2019-11-20</th>\n",
       "      <td>-0.009565</td>\n",
       "      <td>-0.019101</td>\n",
       "    </tr>\n",
       "    <tr>\n",
       "      <th>2019-11-21</th>\n",
       "      <td>0.012291</td>\n",
       "      <td>-0.002291</td>\n",
       "    </tr>\n",
       "    <tr>\n",
       "      <th>2019-11-22</th>\n",
       "      <td>-0.002168</td>\n",
       "      <td>0.019518</td>\n",
       "    </tr>\n",
       "  </tbody>\n",
       "</table>\n",
       "</div>"
      ],
      "text/plain": [
       "                  GE         F\n",
       "Date                          \n",
       "2019-11-18 -0.006945  0.000000\n",
       "2019-11-19  0.005245 -0.005587\n",
       "2019-11-20 -0.009565 -0.019101\n",
       "2019-11-21  0.012291 -0.002291\n",
       "2019-11-22 -0.002168  0.019518"
      ]
     },
     "execution_count": 8,
     "metadata": {},
     "output_type": "execute_result"
    }
   ],
   "source": [
    "simple_returns = (data_frame/data_frame.shift(1)) -1\n",
    "simple_returns.tail()"
   ]
  },
  {
   "cell_type": "code",
   "execution_count": 11,
   "metadata": {},
   "outputs": [
    {
     "name": "stdout",
     "output_type": "stream",
     "text": [
      "the portfolio varience is 0.08822434793872547\n"
     ]
    }
   ],
   "source": [
    "#we will calculate the returns of each secuitity in the portfolio the varience of the entire portfolio \n",
    "weights = np.array([0.5,0.5])\n",
    "port_varience = np.dot(weights.T, np.dot(simple_returns.cov() * 250, weights))\n",
    "print(f\"the portfolio varience is {port_varience}\")"
   ]
  },
  {
   "cell_type": "code",
   "execution_count": 14,
   "metadata": {},
   "outputs": [
    {
     "name": "stdout",
     "output_type": "stream",
     "text": [
      "The portfolio Volitility is 29.7 %\n"
     ]
    }
   ],
   "source": [
    "port_Volitility = port_varience ** 0.5\n",
    "print(f\"The portfolio Volitility is {round(port_Volitility, 3) * 100} %\")"
   ]
  },
  {
   "cell_type": "code",
   "execution_count": 20,
   "metadata": {},
   "outputs": [
    {
     "name": "stdout",
     "output_type": "stream",
     "text": [
      "The varience is 0.16338434216591502 for ford\n"
     ]
    }
   ],
   "source": [
    "#we will calculate the variance for each security in the portfoio \n",
    "ford_var = simple_returns[\"F\"].var() * 250 \n",
    "print(f\"The varience is {ford_var} for ford\")"
   ]
  },
  {
   "cell_type": "code",
   "execution_count": 22,
   "metadata": {},
   "outputs": [
    {
     "name": "stdout",
     "output_type": "stream",
     "text": [
      "The varience is 0.08851292292110394 for GE\n"
     ]
    }
   ],
   "source": [
    "ge_var = simple_returns[\"GE\"].var() * 250\n",
    "print(f\"The varience is {ge_var} for GE\")"
   ]
  },
  {
   "cell_type": "code",
   "execution_count": 31,
   "metadata": {},
   "outputs": [
    {
     "name": "stdout",
     "output_type": "stream",
     "text": [
      "The undiversifiable risk of the portfolio is 2.53 %\n"
     ]
    }
   ],
   "source": [
    "#calculate the undiversifiable and diversifiable risk of the portfolio \n",
    "un_D_risk = port_varience - (weights[0] ** 2 * ge_var) - (weights[1] ** 2 * ford_var)\n",
    "print(f\"The undiversifiable risk of the portfolio is {round(un_D_risk,4) * 100} %\")"
   ]
  },
  {
   "cell_type": "code",
   "execution_count": 45,
   "metadata": {},
   "outputs": [
    {
     "name": "stdout",
     "output_type": "stream",
     "text": [
      "The Diversifiable risk of the portfolio is 6.3%\n"
     ]
    }
   ],
   "source": [
    "div_risk = (weights[0] ** 2 * ge_var) + (weights[1] ** 2 * ford_var)\n",
    "print(f\"The Diversifiable risk of the portfolio is {round(div_risk, 4) * 100}%\")"
   ]
  },
  {
   "cell_type": "code",
   "execution_count": 46,
   "metadata": {},
   "outputs": [
    {
     "data": {
      "text/plain": [
       "0.06297431627175473"
      ]
     },
     "execution_count": 46,
     "metadata": {},
     "output_type": "execute_result"
    }
   ],
   "source": [
    "div_risk"
   ]
  },
  {
   "cell_type": "code",
   "execution_count": 44,
   "metadata": {},
   "outputs": [
    {
     "data": {
      "text/plain": [
       "0.06297431627175473"
      ]
     },
     "execution_count": 44,
     "metadata": {},
     "output_type": "execute_result"
    }
   ],
   "source": [
    "div_risk2 = port_varience - un_D_risk\n",
    "div_risk2"
   ]
  },
  {
   "cell_type": "code",
   "execution_count": 42,
   "metadata": {},
   "outputs": [
    {
     "name": "stdout",
     "output_type": "stream",
     "text": [
      "Summary of analysis\n",
      " The portfolio has a volitility of 29.7 %,\n",
      " and a varience value of 8.82 %\n",
      " a undiversifiable Risk value of 2.5%\n",
      " and a diversifiable risk value of 6.3%\n"
     ]
    }
   ],
   "source": [
    "print(f\"Summary of analysis\\n The portfolio has a volitility of {round(port_Volitility,3) * 100} %,\\n and a varience value of {round(port_varience,4) * 100} %\\n a undiversifiable Risk value of {round(un_D_risk,3) * 100}%\\n and a diversifiable risk value of {round(div_risk, 3)  * 100}%\")"
   ]
  },
  {
   "cell_type": "code",
   "execution_count": null,
   "metadata": {},
   "outputs": [],
   "source": []
  }
 ],
 "metadata": {
  "kernelspec": {
   "display_name": "Python 3",
   "language": "python",
   "name": "python3"
  },
  "language_info": {
   "codemirror_mode": {
    "name": "ipython",
    "version": 3
   },
   "file_extension": ".py",
   "mimetype": "text/x-python",
   "name": "python",
   "nbconvert_exporter": "python",
   "pygments_lexer": "ipython3",
   "version": "3.7.4"
  }
 },
 "nbformat": 4,
 "nbformat_minor": 2
}
