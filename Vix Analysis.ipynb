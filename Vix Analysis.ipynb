{
 "cells": [
  {
   "cell_type": "markdown",
   "metadata": {},
   "source": [
    "D#oes changes in VIX, SLOPE, VXXBEN provide any useful predictive information about the price of SPXT, UVXY or VIX 1,5,10 days out.\n",
    "Does the absolute value of VIX, SLOPE, VXXBEN provide information about the price of SPXT, UVXY or VIX 1,5,10 days out.\n",
    "Analysis of correlation of VXXBEN and Slope."
   ]
  },
  {
   "cell_type": "code",
   "execution_count": null,
   "metadata": {},
   "outputs": [],
   "source": []
  }
 ],
 "metadata": {
  "kernelspec": {
   "display_name": "Python 3",
   "language": "python",
   "name": "python3"
  },
  "language_info": {
   "codemirror_mode": {
    "name": "ipython",
    "version": 3
   },
   "file_extension": ".py",
   "mimetype": "text/x-python",
   "name": "python",
   "nbconvert_exporter": "python",
   "pygments_lexer": "ipython3",
   "version": "3.7.3"
  }
 },
 "nbformat": 4,
 "nbformat_minor": 2
}
