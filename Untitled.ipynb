{
 "cells": [
  {
   "cell_type": "code",
   "execution_count": 1,
   "metadata": {},
   "outputs": [],
   "source": [
    "import pandas as pd \n",
    "import numpy as np \n",
    "from pandas_datareader import data as web\n",
    "from scipy import stats\n",
    "import statsmodels.api as sm\n",
    "import matplotlib.pyplot as plt"
   ]
  },
  {
   "cell_type": "code",
   "execution_count": null,
   "metadata": {},
   "outputs": [],
   "source": []
  },
  {
   "cell_type": "code",
   "execution_count": null,
   "metadata": {},
   "outputs": [],
   "source": []
  },
  {
   "cell_type": "code",
   "execution_count": 41,
   "metadata": {},
   "outputs": [],
   "source": [
    "ticc = [\"SDS\", \"SSO\"]\n",
    "framee = pd.DataFrame()\n",
    "for tt in ticc:\n",
    "    framee[tt] = web.DataReader(tt, data_source = \"yahoo\", start = \"2019-05-26\")[\"Adj Close\"]"
   ]
  },
  {
   "cell_type": "code",
   "execution_count": 42,
   "metadata": {},
   "outputs": [
    {
     "name": "stdout",
     "output_type": "stream",
     "text": [
      "<class 'pandas.core.frame.DataFrame'>\n",
      "DatetimeIndex: 129 entries, 2019-05-28 to 2019-11-26\n",
      "Data columns (total 2 columns):\n",
      "SDS    129 non-null float64\n",
      "SSO    129 non-null float64\n",
      "dtypes: float64(2)\n",
      "memory usage: 3.0 KB\n"
     ]
    }
   ],
   "source": [
    "framee.info()"
   ]
  },
  {
   "cell_type": "code",
   "execution_count": 43,
   "metadata": {},
   "outputs": [],
   "source": [
    "simp_returns = (framee/framee.shift(1)) -1 "
   ]
  },
  {
   "cell_type": "code",
   "execution_count": 44,
   "metadata": {},
   "outputs": [
    {
     "data": {
      "text/html": [
       "<div>\n",
       "<style scoped>\n",
       "    .dataframe tbody tr th:only-of-type {\n",
       "        vertical-align: middle;\n",
       "    }\n",
       "\n",
       "    .dataframe tbody tr th {\n",
       "        vertical-align: top;\n",
       "    }\n",
       "\n",
       "    .dataframe thead th {\n",
       "        text-align: right;\n",
       "    }\n",
       "</style>\n",
       "<table border=\"1\" class=\"dataframe\">\n",
       "  <thead>\n",
       "    <tr style=\"text-align: right;\">\n",
       "      <th></th>\n",
       "      <th>SDS</th>\n",
       "      <th>SSO</th>\n",
       "    </tr>\n",
       "    <tr>\n",
       "      <th>Date</th>\n",
       "      <th></th>\n",
       "      <th></th>\n",
       "    </tr>\n",
       "  </thead>\n",
       "  <tbody>\n",
       "    <tr>\n",
       "      <td>2019-05-28</td>\n",
       "      <td>NaN</td>\n",
       "      <td>NaN</td>\n",
       "    </tr>\n",
       "    <tr>\n",
       "      <td>2019-05-29</td>\n",
       "      <td>0.013518</td>\n",
       "      <td>-0.012902</td>\n",
       "    </tr>\n",
       "    <tr>\n",
       "      <td>2019-05-30</td>\n",
       "      <td>-0.004349</td>\n",
       "      <td>0.004327</td>\n",
       "    </tr>\n",
       "    <tr>\n",
       "      <td>2019-05-31</td>\n",
       "      <td>0.026209</td>\n",
       "      <td>-0.026732</td>\n",
       "    </tr>\n",
       "    <tr>\n",
       "      <td>2019-06-03</td>\n",
       "      <td>0.006810</td>\n",
       "      <td>-0.005602</td>\n",
       "    </tr>\n",
       "    <tr>\n",
       "      <td>...</td>\n",
       "      <td>...</td>\n",
       "      <td>...</td>\n",
       "    </tr>\n",
       "    <tr>\n",
       "      <td>2019-11-20</td>\n",
       "      <td>0.007095</td>\n",
       "      <td>-0.006950</td>\n",
       "    </tr>\n",
       "    <tr>\n",
       "      <td>2019-11-21</td>\n",
       "      <td>0.002596</td>\n",
       "      <td>-0.003285</td>\n",
       "    </tr>\n",
       "    <tr>\n",
       "      <td>2019-11-22</td>\n",
       "      <td>-0.004068</td>\n",
       "      <td>0.004084</td>\n",
       "    </tr>\n",
       "    <tr>\n",
       "      <td>2019-11-25</td>\n",
       "      <td>-0.014482</td>\n",
       "      <td>0.015272</td>\n",
       "    </tr>\n",
       "    <tr>\n",
       "      <td>2019-11-26</td>\n",
       "      <td>-0.002072</td>\n",
       "      <td>0.002179</td>\n",
       "    </tr>\n",
       "  </tbody>\n",
       "</table>\n",
       "<p>129 rows × 2 columns</p>\n",
       "</div>"
      ],
      "text/plain": [
       "                 SDS       SSO\n",
       "Date                          \n",
       "2019-05-28       NaN       NaN\n",
       "2019-05-29  0.013518 -0.012902\n",
       "2019-05-30 -0.004349  0.004327\n",
       "2019-05-31  0.026209 -0.026732\n",
       "2019-06-03  0.006810 -0.005602\n",
       "...              ...       ...\n",
       "2019-11-20  0.007095 -0.006950\n",
       "2019-11-21  0.002596 -0.003285\n",
       "2019-11-22 -0.004068  0.004084\n",
       "2019-11-25 -0.014482  0.015272\n",
       "2019-11-26 -0.002072  0.002179\n",
       "\n",
       "[129 rows x 2 columns]"
      ]
     },
     "execution_count": 44,
     "metadata": {},
     "output_type": "execute_result"
    }
   ],
   "source": [
    "simp_returns"
   ]
  },
  {
   "cell_type": "code",
   "execution_count": 57,
   "metadata": {},
   "outputs": [
    {
     "data": {
      "text/plain": [
       "SDS   -22.632994\n",
       "SSO    23.863023\n",
       "dtype: float64"
      ]
     },
     "execution_count": 57,
     "metadata": {},
     "output_type": "execute_result"
    }
   ],
   "source": [
    "simp_returns.mean() * 129 * 100 "
   ]
  },
  {
   "cell_type": "code",
   "execution_count": 46,
   "metadata": {},
   "outputs": [
    {
     "data": {
      "text/plain": [
       "0.18560064295142598"
      ]
     },
     "execution_count": 46,
     "metadata": {},
     "output_type": "execute_result"
    }
   ],
   "source": [
    "SDS_vol = simp_returns[\"SDS\"].var() * 129\n",
    "SDS_vol ** 0.5"
   ]
  },
  {
   "cell_type": "code",
   "execution_count": 47,
   "metadata": {},
   "outputs": [],
   "source": [
    "SSO_Vol = simp_returns[\"SSO\"].var() * 129 "
   ]
  },
  {
   "cell_type": "code",
   "execution_count": 48,
   "metadata": {},
   "outputs": [
    {
     "data": {
      "text/plain": [
       "0.1849919454287829"
      ]
     },
     "execution_count": 48,
     "metadata": {},
     "output_type": "execute_result"
    }
   ],
   "source": [
    "SSO_Vol ** 0.5"
   ]
  },
  {
   "cell_type": "code",
   "execution_count": 49,
   "metadata": {},
   "outputs": [],
   "source": [
    "weight = np.array([0.5, 0.5])\n",
    "port_Var = np.dot(weight.T, np.dot(simp_returns.cov() * 129, weight))"
   ]
  },
  {
   "cell_type": "code",
   "execution_count": 50,
   "metadata": {},
   "outputs": [
    {
     "data": {
      "text/plain": [
       "1.3799865224133762e-05"
      ]
     },
     "execution_count": 50,
     "metadata": {},
     "output_type": "execute_result"
    }
   ],
   "source": [
    "port_Var"
   ]
  },
  {
   "cell_type": "code",
   "execution_count": 51,
   "metadata": {},
   "outputs": [],
   "source": [
    "port_std = port_Var ** 0.5 * 100"
   ]
  },
  {
   "cell_type": "code",
   "execution_count": 52,
   "metadata": {},
   "outputs": [
    {
     "name": "stdout",
     "output_type": "stream",
     "text": [
      "port volatility is 0.371 %\n"
     ]
    }
   ],
   "source": [
    "print(f\"port volatility is {round(port_std, 3) } %\")"
   ]
  },
  {
   "cell_type": "code",
   "execution_count": 53,
   "metadata": {},
   "outputs": [
    {
     "data": {
      "text/html": [
       "<div>\n",
       "<style scoped>\n",
       "    .dataframe tbody tr th:only-of-type {\n",
       "        vertical-align: middle;\n",
       "    }\n",
       "\n",
       "    .dataframe tbody tr th {\n",
       "        vertical-align: top;\n",
       "    }\n",
       "\n",
       "    .dataframe thead th {\n",
       "        text-align: right;\n",
       "    }\n",
       "</style>\n",
       "<table border=\"1\" class=\"dataframe\">\n",
       "  <thead>\n",
       "    <tr style=\"text-align: right;\">\n",
       "      <th></th>\n",
       "      <th>SDS</th>\n",
       "      <th>SSO</th>\n",
       "    </tr>\n",
       "  </thead>\n",
       "  <tbody>\n",
       "    <tr>\n",
       "      <td>SDS</td>\n",
       "      <td>1.0000</td>\n",
       "      <td>-0.9886</td>\n",
       "    </tr>\n",
       "    <tr>\n",
       "      <td>SSO</td>\n",
       "      <td>-0.9886</td>\n",
       "      <td>1.0000</td>\n",
       "    </tr>\n",
       "  </tbody>\n",
       "</table>\n",
       "</div>"
      ],
      "text/plain": [
       "        SDS     SSO\n",
       "SDS  1.0000 -0.9886\n",
       "SSO -0.9886  1.0000"
      ]
     },
     "execution_count": 53,
     "metadata": {},
     "output_type": "execute_result"
    }
   ],
   "source": [
    "framee.corr()"
   ]
  },
  {
   "cell_type": "code",
   "execution_count": 54,
   "metadata": {},
   "outputs": [
    {
     "data": {
      "text/html": [
       "<div>\n",
       "<style scoped>\n",
       "    .dataframe tbody tr th:only-of-type {\n",
       "        vertical-align: middle;\n",
       "    }\n",
       "\n",
       "    .dataframe tbody tr th {\n",
       "        vertical-align: top;\n",
       "    }\n",
       "\n",
       "    .dataframe thead th {\n",
       "        text-align: right;\n",
       "    }\n",
       "</style>\n",
       "<table border=\"1\" class=\"dataframe\">\n",
       "  <thead>\n",
       "    <tr style=\"text-align: right;\">\n",
       "      <th></th>\n",
       "      <th>SDS</th>\n",
       "      <th>SSO</th>\n",
       "    </tr>\n",
       "  </thead>\n",
       "  <tbody>\n",
       "    <tr>\n",
       "      <td>SDS</td>\n",
       "      <td>3.140209</td>\n",
       "      <td>-12.007862</td>\n",
       "    </tr>\n",
       "    <tr>\n",
       "      <td>SSO</td>\n",
       "      <td>-12.007862</td>\n",
       "      <td>46.982020</td>\n",
       "    </tr>\n",
       "  </tbody>\n",
       "</table>\n",
       "</div>"
      ],
      "text/plain": [
       "           SDS        SSO\n",
       "SDS   3.140209 -12.007862\n",
       "SSO -12.007862  46.982020"
      ]
     },
     "execution_count": 54,
     "metadata": {},
     "output_type": "execute_result"
    }
   ],
   "source": [
    "framee.cov()"
   ]
  },
  {
   "cell_type": "code",
   "execution_count": null,
   "metadata": {},
   "outputs": [],
   "source": []
  },
  {
   "cell_type": "code",
   "execution_count": null,
   "metadata": {},
   "outputs": [],
   "source": []
  }
 ],
 "metadata": {
  "kernelspec": {
   "display_name": "Python 3",
   "language": "python",
   "name": "python3"
  },
  "language_info": {
   "codemirror_mode": {
    "name": "ipython",
    "version": 3
   },
   "file_extension": ".py",
   "mimetype": "text/x-python",
   "name": "python",
   "nbconvert_exporter": "python",
   "pygments_lexer": "ipython3",
   "version": "3.7.4"
  }
 },
 "nbformat": 4,
 "nbformat_minor": 2
}
